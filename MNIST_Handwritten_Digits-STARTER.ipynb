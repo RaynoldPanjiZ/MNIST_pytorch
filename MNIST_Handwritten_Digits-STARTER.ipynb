{
 "cells": [
  {
   "cell_type": "markdown",
   "metadata": {},
   "source": [
    "# Introduction\n",
    "\n",
    "In this project, you will build a neural network of your own design to evaluate the MNIST dataset.\n",
    "\n",
    "Some of the benchmark results on MNIST include can be found [on Yann LeCun's page](http://yann.lecun.com/exdb/mnist/) and include:\n",
    "\n",
    "88% [Lecun et al., 1998](http://yann.lecun.com/exdb/publis/pdf/lecun-98.pdf)\n",
    "95.3% [Lecun et al., 1998](http://yann.lecun.com/exdb/publis/pdf/lecun-98.pdf)\n",
    "99.65% [Ciresan et al., 2011](http://people.idsia.ch/~juergen/ijcai2011.pdf)\n",
    "\n",
    "MNIST is a great dataset for sanity checking your models, since the accuracy levels achieved by large convolutional neural networks and small linear models are both quite high. This makes it important to be familiar with the data.\n",
    "\n",
    "## Imports"
   ]
  },
  {
   "cell_type": "code",
   "execution_count": 1,
   "metadata": {},
   "outputs": [],
   "source": [
    "## This cell contains the essential imports you will need – DO NOT CHANGE THE CONTENTS! ##\n",
    "import torch\n",
    "import torch.nn as nn\n",
    "import torch.nn.functional as F\n",
    "import torch.optim as optim\n",
    "import torchvision\n",
    "import torchvision.transforms as transforms\n",
    "import matplotlib.pyplot as plt\n",
    "import numpy as np"
   ]
  },
  {
   "cell_type": "markdown",
   "metadata": {},
   "source": [
    "## Load the Dataset\n",
    "\n",
    "Specify your transforms as a list if you intend to .\n",
    "The transforms module is already loaded as `transforms`.\n",
    "\n",
    "MNIST is fortunately included in the torchvision module.\n",
    "Then, you can create your dataset using the `MNIST` object from `torchvision.datasets` ([the documentation is available here](https://pytorch.org/vision/stable/datasets.html#mnist)).\n",
    "Make sure to specify `download=True`! \n",
    "\n",
    "Once your dataset is created, you'll also need to define a `DataLoader` from the `torch.utils.data` module for both the train and the test set."
   ]
  },
  {
   "cell_type": "code",
   "execution_count": 2,
   "metadata": {},
   "outputs": [
    {
     "name": "stdout",
     "output_type": "stream",
     "text": [
      "Defaulting to user installation because normal site-packages is not writeable\n",
      "Collecting ipywidgets\n",
      "  Downloading ipywidgets-8.0.6-py3-none-any.whl (138 kB)\n",
      "\u001b[K     |████████████████████████████████| 138 kB 5.6 MB/s eta 0:00:01\n",
      "\u001b[?25hCollecting widgetsnbextension\n",
      "  Downloading widgetsnbextension-4.0.7-py3-none-any.whl (2.1 MB)\n",
      "\u001b[K     |████████████████████████████████| 2.1 MB 43.8 MB/s eta 0:00:01\n",
      "\u001b[?25hCollecting pandas-profiling\n",
      "  Downloading pandas_profiling-3.6.6-py2.py3-none-any.whl (324 kB)\n",
      "\u001b[K     |████████████████████████████████| 324 kB 48.0 MB/s eta 0:00:01\n",
      "\u001b[?25hRequirement already satisfied: traitlets>=4.3.1 in /opt/conda/lib/python3.7/site-packages (from ipywidgets) (4.3.3)\n",
      "Collecting jupyterlab-widgets~=3.0.7\n",
      "  Downloading jupyterlab_widgets-3.0.7-py3-none-any.whl (198 kB)\n",
      "\u001b[K     |████████████████████████████████| 198 kB 45.6 MB/s eta 0:00:01\n",
      "\u001b[?25hRequirement already satisfied: ipython>=6.1.0 in /opt/conda/lib/python3.7/site-packages (from ipywidgets) (7.13.0)\n",
      "Requirement already satisfied: ipykernel>=4.5.1 in /opt/conda/lib/python3.7/site-packages (from ipywidgets) (5.1.4)\n",
      "Collecting ydata-profiling\n",
      "  Downloading ydata_profiling-4.3.1-py2.py3-none-any.whl (352 kB)\n",
      "\u001b[K     |████████████████████████████████| 352 kB 45.8 MB/s eta 0:00:01\n",
      "\u001b[?25hRequirement already satisfied: six in /opt/conda/lib/python3.7/site-packages (from traitlets>=4.3.1->ipywidgets) (1.16.0)\n",
      "Requirement already satisfied: ipython-genutils in /opt/conda/lib/python3.7/site-packages (from traitlets>=4.3.1->ipywidgets) (0.2.0)\n",
      "Requirement already satisfied: decorator in /opt/conda/lib/python3.7/site-packages (from traitlets>=4.3.1->ipywidgets) (4.4.2)\n",
      "Requirement already satisfied: backcall in /opt/conda/lib/python3.7/site-packages (from ipython>=6.1.0->ipywidgets) (0.1.0)\n",
      "Requirement already satisfied: pickleshare in /opt/conda/lib/python3.7/site-packages (from ipython>=6.1.0->ipywidgets) (0.7.5)\n",
      "Requirement already satisfied: setuptools>=18.5 in /opt/conda/lib/python3.7/site-packages (from ipython>=6.1.0->ipywidgets) (45.2.0.post20200209)\n",
      "Requirement already satisfied: pygments in /opt/conda/lib/python3.7/site-packages (from ipython>=6.1.0->ipywidgets) (2.5.2)\n",
      "Requirement already satisfied: pexpect; sys_platform != \"win32\" in /opt/conda/lib/python3.7/site-packages (from ipython>=6.1.0->ipywidgets) (4.8.0)\n",
      "Requirement already satisfied: jedi>=0.10 in /opt/conda/lib/python3.7/site-packages (from ipython>=6.1.0->ipywidgets) (0.16.0)\n",
      "Requirement already satisfied: prompt-toolkit!=3.0.0,!=3.0.1,<3.1.0,>=2.0.0 in /opt/conda/lib/python3.7/site-packages (from ipython>=6.1.0->ipywidgets) (3.0.3)\n",
      "Requirement already satisfied: jupyter-client in /opt/conda/lib/python3.7/site-packages (from ipykernel>=4.5.1->ipywidgets) (6.0.0)\n",
      "Requirement already satisfied: tornado>=4.2 in /opt/conda/lib/python3.7/site-packages (from ipykernel>=4.5.1->ipywidgets) (5.1.1)\n",
      "Collecting multimethod<2,>=1.4\n",
      "  Downloading multimethod-1.9.1-py3-none-any.whl (10 kB)\n",
      "Collecting pydantic<2,>=1.8.1\n",
      "  Downloading pydantic-1.10.10-cp37-cp37m-manylinux_2_17_x86_64.manylinux2014_x86_64.whl (3.1 MB)\n",
      "\u001b[K     |████████████████████████████████| 3.1 MB 32.9 MB/s eta 0:00:01\n",
      "\u001b[?25hCollecting seaborn<0.13,>=0.10.1\n",
      "  Downloading seaborn-0.12.2-py3-none-any.whl (293 kB)\n",
      "\u001b[K     |████████████████████████████████| 293 kB 36.8 MB/s eta 0:00:01\n",
      "\u001b[?25hRequirement already satisfied: matplotlib<4,>=3.2 in /opt/conda/lib/python3.7/site-packages (from ydata-profiling->pandas-profiling) (3.4.3)\n",
      "Collecting visions[type_image_path]==0.7.5\n",
      "  Downloading visions-0.7.5-py3-none-any.whl (102 kB)\n",
      "\u001b[K     |████████████████████████████████| 102 kB 43.6 MB/s eta 0:00:01\n",
      "\u001b[?25hRequirement already satisfied: jinja2<3.2,>=2.11.1 in /opt/conda/lib/python3.7/site-packages (from ydata-profiling->pandas-profiling) (2.11.1)\n",
      "Collecting tqdm<5,>=4.48.2\n",
      "  Downloading tqdm-4.65.0-py3-none-any.whl (77 kB)\n",
      "\u001b[K     |████████████████████████████████| 77 kB 6.9 MB/s  eta 0:00:01\n",
      "\u001b[?25hRequirement already satisfied: numpy<1.24,>=1.16.0 in /opt/conda/lib/python3.7/site-packages (from ydata-profiling->pandas-profiling) (1.21.2)\n",
      "Collecting statsmodels<1,>=0.13.2\n",
      "  Downloading statsmodels-0.13.5-cp37-cp37m-manylinux_2_17_x86_64.manylinux2014_x86_64.whl (9.9 MB)\n",
      "\u001b[K     |████████████████████████████████| 9.9 MB 39.2 MB/s eta 0:00:01\n",
      "\u001b[?25hCollecting dacite>=1.8\n",
      "  Downloading dacite-1.8.1-py3-none-any.whl (14 kB)\n",
      "Requirement already satisfied: scipy<1.11,>=1.4.1 in /opt/conda/lib/python3.7/site-packages (from ydata-profiling->pandas-profiling) (1.7.1)\n",
      "Collecting phik<0.13,>=0.11.1\n",
      "  Downloading phik-0.12.3-cp37-cp37m-manylinux_2_17_x86_64.manylinux2014_x86_64.whl (680 kB)\n",
      "\u001b[K     |████████████████████████████████| 680 kB 45.4 MB/s eta 0:00:01\n",
      "\u001b[?25hCollecting wordcloud>=1.9.1\n",
      "  Downloading wordcloud-1.9.2-cp37-cp37m-manylinux_2_17_x86_64.manylinux2014_x86_64.whl (437 kB)\n",
      "\u001b[K     |████████████████████████████████| 437 kB 37.0 MB/s eta 0:00:01\n",
      "\u001b[?25hCollecting htmlmin==0.1.12\n",
      "  Downloading htmlmin-0.1.12.tar.gz (19 kB)\n",
      "Requirement already satisfied: PyYAML<6.1,>=5.0.0 in /opt/conda/lib/python3.7/site-packages (from ydata-profiling->pandas-profiling) (5.3)\n",
      "Collecting typeguard<3,>=2.13.2\n",
      "  Downloading typeguard-2.13.3-py3-none-any.whl (17 kB)\n",
      "Collecting requests<3,>=2.24.0\n",
      "  Downloading requests-2.31.0-py3-none-any.whl (62 kB)\n",
      "\u001b[K     |████████████████████████████████| 62 kB 1.5 MB/s  eta 0:00:01\n",
      "\u001b[?25hRequirement already satisfied: pandas!=1.4.0,<2.1,>1.1 in /opt/conda/lib/python3.7/site-packages (from ydata-profiling->pandas-profiling) (1.3.3)\n",
      "Collecting imagehash==4.3.1\n",
      "  Downloading ImageHash-4.3.1-py2.py3-none-any.whl (296 kB)\n",
      "\u001b[K     |████████████████████████████████| 296 kB 46.1 MB/s eta 0:00:01\n",
      "\u001b[?25hRequirement already satisfied: ptyprocess>=0.5 in /opt/conda/lib/python3.7/site-packages (from pexpect; sys_platform != \"win32\"->ipython>=6.1.0->ipywidgets) (0.6.0)\n",
      "Requirement already satisfied: parso>=0.5.2 in /opt/conda/lib/python3.7/site-packages (from jedi>=0.10->ipython>=6.1.0->ipywidgets) (0.6.1)\n",
      "Requirement already satisfied: wcwidth in /opt/conda/lib/python3.7/site-packages (from prompt-toolkit!=3.0.0,!=3.0.1,<3.1.0,>=2.0.0->ipython>=6.1.0->ipywidgets) (0.1.8)\n",
      "Requirement already satisfied: pyzmq>=13 in /opt/conda/lib/python3.7/site-packages (from jupyter-client->ipykernel>=4.5.1->ipywidgets) (19.0.0)\n",
      "Requirement already satisfied: python-dateutil>=2.1 in /opt/conda/lib/python3.7/site-packages (from jupyter-client->ipykernel>=4.5.1->ipywidgets) (2.8.1)\n",
      "Requirement already satisfied: jupyter-core>=4.6.0 in /opt/conda/lib/python3.7/site-packages (from jupyter-client->ipykernel>=4.5.1->ipywidgets) (4.6.3)\n",
      "Collecting typing-extensions>=4.2.0\n",
      "  Downloading typing_extensions-4.7.1-py3-none-any.whl (33 kB)\n",
      "Requirement already satisfied: pillow>=6.2.0 in /opt/conda/lib/python3.7/site-packages (from matplotlib<4,>=3.2->ydata-profiling->pandas-profiling) (7.0.0)\n",
      "Requirement already satisfied: pyparsing>=2.2.1 in /opt/conda/lib/python3.7/site-packages (from matplotlib<4,>=3.2->ydata-profiling->pandas-profiling) (2.4.6)\n",
      "Requirement already satisfied: kiwisolver>=1.0.1 in /opt/conda/lib/python3.7/site-packages (from matplotlib<4,>=3.2->ydata-profiling->pandas-profiling) (1.1.0)\n",
      "Requirement already satisfied: cycler>=0.10 in /opt/conda/lib/python3.7/site-packages (from matplotlib<4,>=3.2->ydata-profiling->pandas-profiling) (0.10.0)\n",
      "Requirement already satisfied: networkx>=2.4 in /opt/conda/lib/python3.7/site-packages (from visions[type_image_path]==0.7.5->ydata-profiling->pandas-profiling) (2.4)\n",
      "Collecting tangled-up-in-unicode>=0.0.4\n",
      "  Downloading tangled_up_in_unicode-0.2.0-py3-none-any.whl (4.7 MB)\n",
      "\u001b[K     |████████████████████████████████| 4.7 MB 40.2 MB/s eta 0:00:01\n",
      "\u001b[?25hRequirement already satisfied: attrs>=19.3.0 in /opt/conda/lib/python3.7/site-packages (from visions[type_image_path]==0.7.5->ydata-profiling->pandas-profiling) (19.3.0)\n",
      "Requirement already satisfied: MarkupSafe>=0.23 in /opt/conda/lib/python3.7/site-packages (from jinja2<3.2,>=2.11.1->ydata-profiling->pandas-profiling) (1.1.1)\n",
      "Collecting patsy>=0.5.2\n",
      "  Downloading patsy-0.5.3-py2.py3-none-any.whl (233 kB)\n",
      "\u001b[K     |████████████████████████████████| 233 kB 42.5 MB/s eta 0:00:01\n",
      "\u001b[?25hCollecting packaging>=21.3\n",
      "  Downloading packaging-23.1-py3-none-any.whl (48 kB)\n",
      "\u001b[K     |████████████████████████████████| 48 kB 7.2 MB/s  eta 0:00:01\n",
      "\u001b[?25hRequirement already satisfied: joblib>=0.14.1 in /opt/conda/lib/python3.7/site-packages (from phik<0.13,>=0.11.1->ydata-profiling->pandas-profiling) (0.14.1)\n",
      "Collecting charset-normalizer<4,>=2\n",
      "  Downloading charset_normalizer-3.1.0-cp37-cp37m-manylinux_2_17_x86_64.manylinux2014_x86_64.whl (171 kB)\n",
      "\u001b[K     |████████████████████████████████| 171 kB 43.3 MB/s eta 0:00:01\n",
      "\u001b[?25hRequirement already satisfied: certifi>=2017.4.17 in /opt/conda/lib/python3.7/site-packages (from requests<3,>=2.24.0->ydata-profiling->pandas-profiling) (2019.11.28)\n",
      "Requirement already satisfied: idna<4,>=2.5 in /opt/conda/lib/python3.7/site-packages (from requests<3,>=2.24.0->ydata-profiling->pandas-profiling) (2.9)\n",
      "Requirement already satisfied: urllib3<3,>=1.21.1 in /opt/conda/lib/python3.7/site-packages (from requests<3,>=2.24.0->ydata-profiling->pandas-profiling) (1.25.7)\n",
      "Requirement already satisfied: pytz>=2017.3 in /opt/conda/lib/python3.7/site-packages (from pandas!=1.4.0,<2.1,>1.1->ydata-profiling->pandas-profiling) (2019.3)\n",
      "Requirement already satisfied: PyWavelets in /opt/conda/lib/python3.7/site-packages (from imagehash==4.3.1->ydata-profiling->pandas-profiling) (1.1.1)\n",
      "Building wheels for collected packages: htmlmin\n",
      "  Building wheel for htmlmin (setup.py) ... \u001b[?25ldone\n",
      "\u001b[?25h  Created wheel for htmlmin: filename=htmlmin-0.1.12-py3-none-any.whl size=27084 sha256=4fff4855bbbb280b0c80f80a170a5e739cef68047c6d37214dbb1aa9f3c5e261\n",
      "  Stored in directory: /root/.cache/pip/wheels/70/e1/52/5b14d250ba868768823940c3229e9950d201a26d0bd3ee8655\n",
      "Successfully built htmlmin\n",
      "Installing collected packages: widgetsnbextension, jupyterlab-widgets, ipywidgets, multimethod, typing-extensions, pydantic, seaborn, tangled-up-in-unicode, imagehash, visions, tqdm, patsy, packaging, statsmodels, dacite, phik, wordcloud, htmlmin, typeguard, charset-normalizer, requests, ydata-profiling, pandas-profiling\n",
      "\u001b[33m  WARNING: The script tqdm is installed in '/root/.local/bin' which is not on PATH.\n",
      "  Consider adding this directory to PATH or, if you prefer to suppress this warning, use --no-warn-script-location.\u001b[0m\n",
      "\u001b[33m  WARNING: The script phik_trial is installed in '/root/.local/bin' which is not on PATH.\n",
      "  Consider adding this directory to PATH or, if you prefer to suppress this warning, use --no-warn-script-location.\u001b[0m\n",
      "\u001b[33m  WARNING: The script wordcloud_cli is installed in '/root/.local/bin' which is not on PATH.\n",
      "  Consider adding this directory to PATH or, if you prefer to suppress this warning, use --no-warn-script-location.\u001b[0m\n",
      "\u001b[33m  WARNING: The script htmlmin is installed in '/root/.local/bin' which is not on PATH.\n",
      "  Consider adding this directory to PATH or, if you prefer to suppress this warning, use --no-warn-script-location.\u001b[0m\n",
      "\u001b[33m  WARNING: The script normalizer is installed in '/root/.local/bin' which is not on PATH.\n",
      "  Consider adding this directory to PATH or, if you prefer to suppress this warning, use --no-warn-script-location.\u001b[0m\n",
      "\u001b[33m  WARNING: The scripts pandas_profiling and ydata_profiling are installed in '/root/.local/bin' which is not on PATH.\n",
      "  Consider adding this directory to PATH or, if you prefer to suppress this warning, use --no-warn-script-location.\u001b[0m\n",
      "\u001b[33m  WARNING: The script pandas_profiling is installed in '/root/.local/bin' which is not on PATH.\n",
      "  Consider adding this directory to PATH or, if you prefer to suppress this warning, use --no-warn-script-location.\u001b[0m\n",
      "Successfully installed charset-normalizer-3.1.0 dacite-1.8.1 htmlmin-0.1.12 imagehash-4.3.1 ipywidgets-8.0.6 jupyterlab-widgets-3.0.7 multimethod-1.9.1 packaging-23.1 pandas-profiling-3.6.6 patsy-0.5.3 phik-0.12.3 pydantic-1.10.10 requests-2.31.0 seaborn-0.12.2 statsmodels-0.13.5 tangled-up-in-unicode-0.2.0 tqdm-4.65.0 typeguard-2.13.3 typing-extensions-4.7.1 visions-0.7.5 widgetsnbextension-4.0.7 wordcloud-1.9.2 ydata-profiling-4.3.1\n",
      "Enabling notebook extension jupyter-js-widgets/extension...\n",
      "      - Validating: \u001b[32mOK\u001b[0m\n"
     ]
    }
   ],
   "source": [
    "!pip install ipywidgets widgetsnbextension pandas-profiling\n",
    "!jupyter nbextension enable --py widgetsnbextension"
   ]
  },
  {
   "cell_type": "code",
   "execution_count": 3,
   "metadata": {},
   "outputs": [
    {
     "name": "stderr",
     "output_type": "stream",
     "text": [
      "/opt/conda/lib/python3.7/site-packages/torchvision/datasets/mnist.py:498: UserWarning: The given NumPy array is not writable, and PyTorch does not support non-writable tensors. This means writing to this tensor will result in undefined behavior. You may want to copy the array to protect its data or make it writable before converting it to a tensor. This type of warning will be suppressed for the rest of this program. (Triggered internally at  ../torch/csrc/utils/tensor_numpy.cpp:178.)\n",
      "  return torch.from_numpy(parsed.astype(m[2], copy=False)).view(*s)\n"
     ]
    },
    {
     "data": {
      "text/plain": [
       "(375, 94, 79)"
      ]
     },
     "execution_count": 3,
     "metadata": {},
     "output_type": "execute_result"
    }
   ],
   "source": [
    "import os\n",
    "im_size = 18\n",
    "bs = 128\n",
    "\n",
    "# means = [0.485, 0.456, 0.406]   ## normalize for RGB\n",
    "# stds = [0.229, 0.224, 0.225]\n",
    "means = 0.5                       ## normalize for Grayscale\n",
    "stds = 0.5\n",
    "\n",
    "# Define transforms\n",
    "## YOUR CODE HERE ##\n",
    "data_transforms = transforms.Compose([\n",
    "    transforms.RandomResizedCrop(size=im_size*1.5, scale=(0.8, 1.0)),\n",
    "    transforms.CenterCrop(im_size),\n",
    "    transforms.RandomRotation(degrees=20),\n",
    "    transforms.ToTensor(),\n",
    "    torchvision.transforms.Normalize(mean=means, std=stds),\n",
    "])\n",
    "test_transforms = transforms.Compose([\n",
    "    transforms.Resize(size=im_size),\n",
    "    transforms.ToTensor()\n",
    "])\n",
    "\n",
    "if not os.path.exists('./dataset'):\n",
    "    os.mkdir('./dataset')\n",
    "# Create training set and define training dataloader\n",
    "## YOUR CODE HERE ##\n",
    "train_datasets = torchvision.datasets.MNIST(root='./dataset', train=True,\n",
    "                                        download=True, transform=data_transforms)\n",
    "# split train_dataset to train-validation dataset\n",
    "tot_train = int(len(train_datasets) * 0.8)\n",
    "tot_val = len(train_datasets) - tot_train\n",
    "train_datasets, valid_datasets = torch.utils.data.random_split(train_datasets, [tot_train, tot_val])\n",
    "\n",
    "trainloader = torch.utils.data.DataLoader(train_datasets, batch_size=bs, \n",
    "                                          shuffle=True, num_workers=2)\n",
    "validloader = torch.utils.data.DataLoader(valid_datasets, batch_size=bs, \n",
    "                                         shuffle=True, num_workers=2)\n",
    "\n",
    "# Create test set and define test dataloader\n",
    "## YOUR CODE HERE ##\n",
    "test_datasets = torchvision.datasets.MNIST(root='./dataset', train=False,\n",
    "                                       download=True, transform=test_transforms)\n",
    "testloader = torch.utils.data.DataLoader(test_datasets, batch_size=bs, \n",
    "                                         shuffle=False, num_workers=2)\n",
    "\n",
    "\n",
    "len(trainloader), len(validloader), len(testloader)"
   ]
  },
  {
   "cell_type": "markdown",
   "metadata": {},
   "source": [
    "## Justify your preprocessing\n",
    "\n",
    "In your own words, why did you choose the transforms you chose? If you didn't use any preprocessing steps, why not?"
   ]
  },
  {
   "cell_type": "markdown",
   "metadata": {},
   "source": [
    "For the transform process in training, I use `RandomRezisedCrop` with a size of 1.5 times the pixel size I want to use (`im_size`), the goal is when doing `CenterCrop` to `im_size`, the image features are not lost because of cropping. Then I use `RandomRotation` with an angle of `20 degrees` to add variation to the data by means of rotation. Finally change the data to Tensor and normalize it.\n",
    "\n",
    "The test data only applies `ToTensor` and `Normalize`, because it is intended to test the original data"
   ]
  },
  {
   "cell_type": "markdown",
   "metadata": {},
   "source": [
    "## Explore the Dataset\n",
    "Using matplotlib, numpy, and torch, explore the dimensions of your data.\n",
    "\n",
    "You can view images using the `show5` function defined below – it takes a data loader as an argument.\n",
    "Remember that normalized images will look really weird to you! You may want to try changing your transforms to view images.\n",
    "Typically using no transforms other than `toTensor()` works well for viewing – but not as well for training your network.\n",
    "If `show5` doesn't work, go back and check your code for creating your data loaders and your training/test sets."
   ]
  },
  {
   "cell_type": "code",
   "execution_count": 4,
   "metadata": {},
   "outputs": [],
   "source": [
    "## This cell contains a function for showing 5 images from a dataloader – DO NOT CHANGE THE CONTENTS! ##\n",
    "def show5(img_loader):\n",
    "    dataiter = iter(img_loader)\n",
    "    \n",
    "    batch = next(dataiter)\n",
    "    labels = batch[1][0:bs]\n",
    "    images = batch[0][0:bs]\n",
    "    for i in range(bs//8):\n",
    "    \n",
    "        image = images[i].numpy()\n",
    "        print('label:', int(labels[i].detach()),', image dim:', image.shape)\n",
    "#         print('===', image.ravel())\n",
    "        plt.subplot(1, 2, 1)\n",
    "        plt.imshow(image.T.squeeze().T)\n",
    "        \n",
    "        plt.subplot(1, 2, 2)\n",
    "        plt.hist(image.ravel(), bins=50, density=True); \n",
    "        plt.title('Histogram - pixel distribution')\n",
    "        plt.show()        "
   ]
  },
  {
   "cell_type": "code",
   "execution_count": 5,
   "metadata": {},
   "outputs": [
    {
     "name": "stdout",
     "output_type": "stream",
     "text": [
      "label: 5 , image dim: (1, 18, 18)\n"
     ]
    },
    {
     "data": {
      "image/png": "[encoded data removed]",
      "text/plain": [
       "<Figure size 432x288 with 2 Axes>"
      ]
     },
     "metadata": {
      "needs_background": "light"
     },
     "output_type": "display_data"
    },
    {
     "name": "stdout",
     "output_type": "stream",
     "text": [
      "label: 2 , image dim: (1, 18, 18)\n"
     ]
    },
    {
     "data": {
      "image/png": "[encoded data removed]",
      "text/plain": [
       "<Figure size 432x288 with 2 Axes>"
      ]
     },
     "metadata": {
      "needs_background": "light"
     },
     "output_type": "display_data"
    },
    {
     "name": "stdout",
     "output_type": "stream",
     "text": [
      "label: 1 , image dim: (1, 18, 18)\n"
     ]
    },
    {
     "data": {
      "image/png": "[encoded data removed]",
      "text/plain": [
       "<Figure size 432x288 with 2 Axes>"
      ]
     },
     "metadata": {
      "needs_background": "light"
     },
     "output_type": "display_data"
    },
    {
     "name": "stdout",
     "output_type": "stream",
     "text": [
      "label: 0 , image dim: (1, 18, 18)\n"
     ]
    },
    {
     "data": {
      "image/png": "[encoded data removed]",
      "text/plain": [
       "<Figure size 432x288 with 2 Axes>"
      ]
     },
     "metadata": {
      "needs_background": "light"
     },
     "output_type": "display_data"
    },
    {
     "name": "stdout",
     "output_type": "stream",
     "text": [
      "label: 0 , image dim: (1, 18, 18)\n"
     ]
    },
    {
     "data": {
      "image/png": "[encoded data removed]",
      "text/plain": [
       "<Figure size 432x288 with 2 Axes>"
      ]
     },
     "metadata": {
      "needs_background": "light"
     },
     "output_type": "display_data"
    },
    {
     "name": "stdout",
     "output_type": "stream",
     "text": [
      "label: 4 , image dim: (1, 18, 18)\n"
     ]
    },
    {
     "data": {
      "image/png": "[encoded data removed]",
      "text/plain": [
       "<Figure size 432x288 with 2 Axes>"
      ]
     },
     "metadata": {
      "needs_background": "light"
     },
     "output_type": "display_data"
    },
    {
     "name": "stdout",
     "output_type": "stream",
     "text": [
      "label: 0 , image dim: (1, 18, 18)\n"
     ]
    },
    {
     "data": {
      "image/png": "[encoded data removed]",
      "text/plain": [
       "<Figure size 432x288 with 2 Axes>"
      ]
     },
     "metadata": {
      "needs_background": "light"
     },
     "output_type": "display_data"
    },
    {
     "name": "stdout",
     "output_type": "stream",
     "text": [
      "label: 5 , image dim: (1, 18, 18)\n"
     ]
    },
    {
     "data": {
      "image/png": "[encoded data removed]",
      "text/plain": [
       "<Figure size 432x288 with 2 Axes>"
      ]
     },
     "metadata": {
      "needs_background": "light"
     },
     "output_type": "display_data"
    },
    {
     "name": "stdout",
     "output_type": "stream",
     "text": [
      "label: 5 , image dim: (1, 18, 18)\n"
     ]
    },
    {
     "data": {
      "image/png": "[encoded data removed]",
      "text/plain": [
       "<Figure size 432x288 with 2 Axes>"
      ]
     },
     "metadata": {
      "needs_background": "light"
     },
     "output_type": "display_data"
    },
    {
     "name": "stdout",
     "output_type": "stream",
     "text": [
      "label: 7 , image dim: (1, 18, 18)\n"
     ]
    },
    {
     "data": {
      "image/png": "[encoded data removed]",
      "text/plain": [
       "<Figure size 432x288 with 2 Axes>"
      ]
     },
     "metadata": {
      "needs_background": "light"
     },
     "output_type": "display_data"
    },
    {
     "name": "stdout",
     "output_type": "stream",
     "text": [
      "label: 7 , image dim: (1, 18, 18)\n"
     ]
    },
    {
     "data": {
      "image/png": "[encoded data removed]",
      "text/plain": [
       "<Figure size 432x288 with 2 Axes>"
      ]
     },
     "metadata": {
      "needs_background": "light"
     },
     "output_type": "display_data"
    },
    {
     "name": "stdout",
     "output_type": "stream",
     "text": [
      "label: 6 , image dim: (1, 18, 18)\n"
     ]
    },
    {
     "data": {
      "image/png": "[encoded data removed]",
      "text/plain": [
       "<Figure size 432x288 with 2 Axes>"
      ]
     },
     "metadata": {
      "needs_background": "light"
     },
     "output_type": "display_data"
    },
    {
     "name": "stdout",
     "output_type": "stream",
     "text": [
      "label: 8 , image dim: (1, 18, 18)\n"
     ]
    },
    {
     "data": {
      "image/png": "[encoded data removed]",
      "text/plain": [
       "<Figure size 432x288 with 2 Axes>"
      ]
     },
     "metadata": {
      "needs_background": "light"
     },
     "output_type": "display_data"
    },
    {
     "name": "stdout",
     "output_type": "stream",
     "text": [
      "label: 9 , image dim: (1, 18, 18)\n"
     ]
    },
    {
     "data": {
      "image/png": "[encoded data removed]",
      "text/plain": [
       "<Figure size 432x288 with 2 Axes>"
      ]
     },
     "metadata": {
      "needs_background": "light"
     },
     "output_type": "display_data"
    },
    {
     "name": "stdout",
     "output_type": "stream",
     "text": [
      "label: 8 , image dim: (1, 18, 18)\n"
     ]
    },
    {
     "data": {
      "image/png": "[encoded data removed]",
      "text/plain": [
       "<Figure size 432x288 with 2 Axes>"
      ]
     },
     "metadata": {
      "needs_background": "light"
     },
     "output_type": "display_data"
    },
    {
     "name": "stdout",
     "output_type": "stream",
     "text": [
      "label: 7 , image dim: (1, 18, 18)\n"
     ]
    },
    {
     "data": {
      "image/png": "[encoded data removed]",
      "text/plain": [
       "<Figure size 432x288 with 2 Axes>"
      ]
     },
     "metadata": {
      "needs_background": "light"
     },
     "output_type": "display_data"
    }
   ],
   "source": [
    "# Explore data\n",
    "## YOUR CODE HERE ##\n",
    "\n",
    "show5(trainloader)"
   ]
  },
  {
   "cell_type": "markdown",
   "metadata": {},
   "source": [
    "## Build your Neural Network\n",
    "Using the layers in `torch.nn` (which has been imported as `nn`) and the `torch.nn.functional` module (imported as `F`), construct a neural network based on the parameters of the dataset.\n",
    "Use any architecture you like. \n",
    "\n",
    "*Note*: If you did not flatten your tensors in your transforms or as part of your preprocessing and you are using only `Linear` layers, make sure to use the `Flatten` layer in your network!"
   ]
  },
  {
   "cell_type": "code",
   "execution_count": 6,
   "metadata": {},
   "outputs": [
    {
     "name": "stdout",
     "output_type": "stream",
     "text": [
      "Defaulting to user installation because normal site-packages is not writeable\n",
      "Collecting torchsummary\n",
      "  Downloading torchsummary-1.5.1-py3-none-any.whl (2.8 kB)\n",
      "Installing collected packages: torchsummary\n",
      "Successfully installed torchsummary-1.5.1\n"
     ]
    }
   ],
   "source": [
    "!pip install torchsummary"
   ]
  },
  {
   "cell_type": "code",
   "execution_count": 7,
   "metadata": {},
   "outputs": [
    {
     "data": {
      "text/plain": [
       "<bound method Module.state_dict of Model(\n",
       "  (act_fc): ReLU()\n",
       "  (act_out): LogSoftmax(dim=1)\n",
       "  (flatern): Flatten(start_dim=1, end_dim=-1)\n",
       "  (fc_in): Linear(in_features=324, out_features=32, bias=True)\n",
       "  (dropout_in): Dropout(p=0, inplace=False)\n",
       "  (fc_out): Linear(in_features=32, out_features=10, bias=True)\n",
       ")>"
      ]
     },
     "execution_count": 7,
     "metadata": {},
     "output_type": "execute_result"
    }
   ],
   "source": [
    "## YOUR CODE HERE ##\n",
    "# from torchsummary import summary\n",
    "dim = im_size\n",
    "channels = 1    # because the images are grayscale\n",
    "out_class = 10\n",
    "\n",
    "class Model(torch.nn.Module):\n",
    "    def __init__(self, in_features=64, n_classes=10, ch=1, \n",
    "                 hidden_layer=[32, 32, 32], drop_out=[0, 0, 0]):\n",
    "        super(Model, self).__init__()        \n",
    "        self.act_fc = nn.ReLU()\n",
    "        self.act_out = nn.LogSoftmax(dim=1)\n",
    "\n",
    "        self.flatern = nn.Flatten()\n",
    "        self.fc_in = nn.Linear((in_features**2)*ch, hidden_layer[0])\n",
    "        self.dropout_in = nn.Dropout(drop_out[0])\n",
    "        \n",
    "#         self.fc_h1 = nn.Linear(hidden_layer[0], hidden_layer[1])\n",
    "#         self.dropout_h1 = nn.Dropout(drop_out[1])\n",
    "        \n",
    "#         self.fc_h2 = nn.Linear(hidden_layer[1], hidden_layer[2])\n",
    "#         self.dropout_h2 = nn.Dropout(drop_out[2])\n",
    "        \n",
    "        self.fc_out = nn.Linear(hidden_layer[0], n_classes)\n",
    "\n",
    "    def forward(self, x):\n",
    "        x = self.flatern(x)\n",
    "        \n",
    "        x = self.act_fc(self.fc_in(x))\n",
    "        x = self.dropout_in(x)\n",
    "        \n",
    "#         x = self.act_fc(self.fc_h1(x))\n",
    "#         x = self.dropout_h1(x)\n",
    "        \n",
    "#         x = self.act_fc(self.fc_h2(x))\n",
    "#         x = self.dropout_h2(x)\n",
    "        \n",
    "        out = self.fc_out(x)\n",
    "#         out = self.act_out(self.fc_out(x))\n",
    "        return out\n",
    "\n",
    "\n",
    "model = Model(in_features=dim, n_classes=out_class, ch=channels, hidden_layer=[32, 16, 256], drop_out=[0, 0, 0.6])\n",
    "# summary(model, (channels, dim,dim), device='cpu')\n",
    "model.state_dict"
   ]
  },
  {
   "cell_type": "markdown",
   "metadata": {},
   "source": [
    "Specify a loss function and an optimizer, and instantiate the model.\n",
    "\n",
    "If you use a less common loss function, please note why you chose that loss function in a comment."
   ]
  },
  {
   "cell_type": "code",
   "execution_count": 8,
   "metadata": {},
   "outputs": [],
   "source": [
    "## YOUR CODE HERE ##\n",
    "import torch.optim as optim\n",
    "import torch.nn as nn\n",
    "learning_rate = 0.001\n",
    "eps = 20\n",
    "\n",
    "criterion = nn.CrossEntropyLoss()\n",
    "optimizer = optim.Adam(model.fc_out.parameters(), lr=learning_rate)"
   ]
  },
  {
   "cell_type": "markdown",
   "metadata": {},
   "source": [
    "## Running your Neural Network\n",
    "Use whatever method you like to train your neural network, and ensure you record the average loss at each epoch. \n",
    "Don't forget to use `torch.device()` and the `.to()` method for both your model and your data if you are using GPU!\n",
    "\n",
    "If you want to print your loss **during** each epoch, you can use the `enumerate` function and print the loss after a set number of batches. 250 batches works well for most people!"
   ]
  },
  {
   "cell_type": "code",
   "execution_count": 9,
   "metadata": {},
   "outputs": [],
   "source": [
    "model_config = {\n",
    "    'train_dataloader' : trainloader, \n",
    "    'valid_dataloader' : validloader, \n",
    "    'test_dataloader' : testloader,\n",
    "    \n",
    "    'model' : model,\n",
    "    'criterion' : criterion,\n",
    "    'optimizer' : optimizer,\n",
    "    \n",
    "    'lr' : learning_rate,\n",
    "    'img_size' : im_size,\n",
    "    'batch_size' : bs,\n",
    "    'epochs' : eps,\n",
    "    \n",
    "    'regularization' : None,\n",
    "    'lr_scheduler' : None,\n",
    "    'early_stopping' : None,\n",
    "    \n",
    "    'device' : 'cuda:0' if torch.cuda.is_available() else 'cpu'   \n",
    "}"
   ]
  },
  {
   "cell_type": "code",
   "execution_count": 10,
   "metadata": {
    "scrolled": true
   },
   "outputs": [
    {
     "name": "stderr",
     "output_type": "stream",
     "text": [
      "100%|██████████| 375/375 [00:12<00:00, 29.78it/s]\n",
      "  0%|          | 0/94 [00:00<?, ?it/s]"
     ]
    },
    {
     "name": "stdout",
     "output_type": "stream",
     "text": [
      "===[EPOCH:    1]===========================\n",
      "train_loss = 2.112001305, train_acc = 0.31575\n"
     ]
    },
    {
     "name": "stderr",
     "output_type": "stream",
     "text": [
      "100%|██████████| 94/94 [00:03<00:00, 25.79it/s]\n",
      "  0%|          | 0/375 [00:00<?, ?it/s]"
     ]
    },
    {
     "name": "stdout",
     "output_type": "stream",
     "text": [
      "val_loss = 1.95266249, val_acc = 0.4071667\n",
      "============================================\n"
     ]
    },
    {
     "name": "stderr",
     "output_type": "stream",
     "text": [
      "100%|██████████| 375/375 [00:13<00:00, 28.00it/s]\n",
      "  0%|          | 0/94 [00:00<?, ?it/s]"
     ]
    },
    {
     "name": "stdout",
     "output_type": "stream",
     "text": [
      "===[EPOCH:    2]===========================\n",
      "train_loss = 1.84550989, train_acc = 0.4481458\n"
     ]
    },
    {
     "name": "stderr",
     "output_type": "stream",
     "text": [
      "100%|██████████| 94/94 [00:03<00:00, 27.84it/s]\n",
      "  0%|          | 0/375 [00:00<?, ?it/s]"
     ]
    },
    {
     "name": "stdout",
     "output_type": "stream",
     "text": [
      "val_loss = 1.763526891, val_acc = 0.464\n",
      "============================================\n"
     ]
    },
    {
     "name": "stderr",
     "output_type": "stream",
     "text": [
      "100%|██████████| 375/375 [00:13<00:00, 28.06it/s]\n",
      "  0%|          | 0/94 [00:00<?, ?it/s]"
     ]
    },
    {
     "name": "stdout",
     "output_type": "stream",
     "text": [
      "===[EPOCH:    3]===========================\n",
      "train_loss = 1.702714098, train_acc = 0.4813333\n"
     ]
    },
    {
     "name": "stderr",
     "output_type": "stream",
     "text": [
      "100%|██████████| 94/94 [00:03<00:00, 26.24it/s]\n",
      "  0%|          | 0/375 [00:00<?, ?it/s]"
     ]
    },
    {
     "name": "stdout",
     "output_type": "stream",
     "text": [
      "val_loss = 1.638741637, val_acc = 0.494\n",
      "============================================\n"
     ]
    },
    {
     "name": "stderr",
     "output_type": "stream",
     "text": [
      "100%|██████████| 375/375 [00:12<00:00, 30.33it/s]\n",
      "  0%|          | 0/94 [00:00<?, ?it/s]"
     ]
    },
    {
     "name": "stdout",
     "output_type": "stream",
     "text": [
      "===[EPOCH:    4]===========================\n",
      "train_loss = 1.607761068, train_acc = 0.5025625\n"
     ]
    },
    {
     "name": "stderr",
     "output_type": "stream",
     "text": [
      "100%|██████████| 94/94 [00:03<00:00, 29.89it/s]\n",
      "  0%|          | 0/375 [00:00<?, ?it/s]"
     ]
    },
    {
     "name": "stdout",
     "output_type": "stream",
     "text": [
      "val_loss = 1.577341922, val_acc = 0.5049167\n",
      "============================================\n"
     ]
    },
    {
     "name": "stderr",
     "output_type": "stream",
     "text": [
      "100%|██████████| 375/375 [00:12<00:00, 29.28it/s]\n",
      "  0%|          | 0/94 [00:00<?, ?it/s]"
     ]
    },
    {
     "name": "stdout",
     "output_type": "stream",
     "text": [
      "===[EPOCH:    5]===========================\n",
      "train_loss = 1.549538218, train_acc = 0.5099583\n"
     ]
    },
    {
     "name": "stderr",
     "output_type": "stream",
     "text": [
      "100%|██████████| 94/94 [00:03<00:00, 27.84it/s]\n",
      "  0%|          | 0/375 [00:00<?, ?it/s]"
     ]
    },
    {
     "name": "stdout",
     "output_type": "stream",
     "text": [
      "val_loss = 1.528331187, val_acc = 0.5170833\n",
      "============================================\n"
     ]
    },
    {
     "name": "stderr",
     "output_type": "stream",
     "text": [
      "100%|██████████| 375/375 [00:13<00:00, 27.38it/s]\n",
      "  0%|          | 0/94 [00:00<?, ?it/s]"
     ]
    },
    {
     "name": "stdout",
     "output_type": "stream",
     "text": [
      "===[EPOCH:    6]===========================\n",
      "train_loss = 1.502799596, train_acc = 0.521875\n"
     ]
    },
    {
     "name": "stderr",
     "output_type": "stream",
     "text": [
      "100%|██████████| 94/94 [00:03<00:00, 27.85it/s]\n",
      "  0%|          | 0/375 [00:00<?, ?it/s]"
     ]
    },
    {
     "name": "stdout",
     "output_type": "stream",
     "text": [
      "val_loss = 1.497068536, val_acc = 0.5174167\n",
      "============================================\n"
     ]
    },
    {
     "name": "stderr",
     "output_type": "stream",
     "text": [
      "100%|██████████| 375/375 [00:12<00:00, 29.81it/s]\n",
      "  0%|          | 0/94 [00:00<?, ?it/s]"
     ]
    },
    {
     "name": "stdout",
     "output_type": "stream",
     "text": [
      "===[EPOCH:    7]===========================\n",
      "train_loss = 1.474791787, train_acc = 0.5247708\n"
     ]
    },
    {
     "name": "stderr",
     "output_type": "stream",
     "text": [
      "100%|██████████| 94/94 [00:03<00:00, 26.53it/s]\n",
      "  0%|          | 0/375 [00:00<?, ?it/s]"
     ]
    },
    {
     "name": "stdout",
     "output_type": "stream",
     "text": [
      "val_loss = 1.453338353, val_acc = 0.5296667\n",
      "============================================\n"
     ]
    },
    {
     "name": "stderr",
     "output_type": "stream",
     "text": [
      "100%|██████████| 375/375 [00:12<00:00, 30.28it/s]\n",
      "  0%|          | 0/94 [00:00<?, ?it/s]"
     ]
    },
    {
     "name": "stdout",
     "output_type": "stream",
     "text": [
      "===[EPOCH:    8]===========================\n",
      "train_loss = 1.449251992, train_acc = 0.5305\n"
     ]
    },
    {
     "name": "stderr",
     "output_type": "stream",
     "text": [
      "100%|██████████| 94/94 [00:03<00:00, 27.10it/s]\n",
      "  0%|          | 0/375 [00:00<?, ?it/s]"
     ]
    },
    {
     "name": "stdout",
     "output_type": "stream",
     "text": [
      "val_loss = 1.436481863, val_acc = 0.5385833\n",
      "============================================\n"
     ]
    },
    {
     "name": "stderr",
     "output_type": "stream",
     "text": [
      "100%|██████████| 375/375 [00:14<00:00, 25.79it/s]\n",
      "  0%|          | 0/94 [00:00<?, ?it/s]"
     ]
    },
    {
     "name": "stdout",
     "output_type": "stream",
     "text": [
      "===[EPOCH:    9]===========================\n",
      "train_loss = 1.434054973, train_acc = 0.5332292\n"
     ]
    },
    {
     "name": "stderr",
     "output_type": "stream",
     "text": [
      "100%|██████████| 94/94 [00:03<00:00, 23.64it/s]\n",
      "  0%|          | 0/375 [00:00<?, ?it/s]"
     ]
    },
    {
     "name": "stdout",
     "output_type": "stream",
     "text": [
      "val_loss = 1.42861615, val_acc = 0.5364167\n",
      "============================================\n"
     ]
    },
    {
     "name": "stderr",
     "output_type": "stream",
     "text": [
      "100%|██████████| 375/375 [00:12<00:00, 28.89it/s]\n",
      "  0%|          | 0/94 [00:00<?, ?it/s]"
     ]
    },
    {
     "name": "stdout",
     "output_type": "stream",
     "text": [
      "===[EPOCH:   10]===========================\n",
      "train_loss = 1.421068493, train_acc = 0.5360208\n"
     ]
    },
    {
     "name": "stderr",
     "output_type": "stream",
     "text": [
      "100%|██████████| 94/94 [00:03<00:00, 26.81it/s]\n",
      "  0%|          | 0/375 [00:00<?, ?it/s]"
     ]
    },
    {
     "name": "stdout",
     "output_type": "stream",
     "text": [
      "val_loss = 1.409729889, val_acc = 0.5359167\n",
      "============================================\n"
     ]
    },
    {
     "name": "stderr",
     "output_type": "stream",
     "text": [
      "100%|██████████| 375/375 [00:13<00:00, 28.35it/s]\n",
      "  0%|          | 0/94 [00:00<?, ?it/s]"
     ]
    },
    {
     "name": "stdout",
     "output_type": "stream",
     "text": [
      "===[EPOCH:   11]===========================\n",
      "train_loss = 1.404585181, train_acc = 0.5419167\n"
     ]
    },
    {
     "name": "stderr",
     "output_type": "stream",
     "text": [
      "100%|██████████| 94/94 [00:03<00:00, 29.07it/s]\n",
      "  0%|          | 0/375 [00:00<?, ?it/s]"
     ]
    },
    {
     "name": "stdout",
     "output_type": "stream",
     "text": [
      "val_loss = 1.421404016, val_acc = 0.5324167\n",
      "============================================\n"
     ]
    },
    {
     "name": "stderr",
     "output_type": "stream",
     "text": [
      "100%|██████████| 375/375 [00:12<00:00, 30.30it/s]\n",
      "  0%|          | 0/94 [00:00<?, ?it/s]"
     ]
    },
    {
     "name": "stdout",
     "output_type": "stream",
     "text": [
      "===[EPOCH:   12]===========================\n",
      "train_loss = 1.397410614, train_acc = 0.5397292\n"
     ]
    },
    {
     "name": "stderr",
     "output_type": "stream",
     "text": [
      "100%|██████████| 94/94 [00:03<00:00, 27.48it/s]\n",
      "  0%|          | 0/375 [00:00<?, ?it/s]"
     ]
    },
    {
     "name": "stdout",
     "output_type": "stream",
     "text": [
      "val_loss = 1.402464069, val_acc = 0.5365\n",
      "============================================\n"
     ]
    },
    {
     "name": "stderr",
     "output_type": "stream",
     "text": [
      "100%|██████████| 375/375 [00:12<00:00, 29.43it/s]\n",
      "  0%|          | 0/94 [00:00<?, ?it/s]"
     ]
    },
    {
     "name": "stdout",
     "output_type": "stream",
     "text": [
      "===[EPOCH:   13]===========================\n",
      "train_loss = 1.384512544, train_acc = 0.5457292\n"
     ]
    },
    {
     "name": "stderr",
     "output_type": "stream",
     "text": [
      "100%|██████████| 94/94 [00:03<00:00, 28.19it/s]\n",
      "  0%|          | 0/375 [00:00<?, ?it/s]"
     ]
    },
    {
     "name": "stdout",
     "output_type": "stream",
     "text": [
      "val_loss = 1.375383109, val_acc = 0.549\n",
      "============================================\n"
     ]
    },
    {
     "name": "stderr",
     "output_type": "stream",
     "text": [
      "100%|██████████| 375/375 [00:13<00:00, 28.06it/s]\n",
      "  0%|          | 0/94 [00:00<?, ?it/s]"
     ]
    },
    {
     "name": "stdout",
     "output_type": "stream",
     "text": [
      "===[EPOCH:   14]===========================\n",
      "train_loss = 1.388120192, train_acc = 0.5442083\n"
     ]
    },
    {
     "name": "stderr",
     "output_type": "stream",
     "text": [
      "100%|██████████| 94/94 [00:03<00:00, 25.54it/s]\n",
      "  0%|          | 0/375 [00:00<?, ?it/s]"
     ]
    },
    {
     "name": "stdout",
     "output_type": "stream",
     "text": [
      "val_loss = 1.395303138, val_acc = 0.5379167\n",
      "============================================\n"
     ]
    },
    {
     "name": "stderr",
     "output_type": "stream",
     "text": [
      "100%|██████████| 375/375 [00:13<00:00, 27.81it/s]\n",
      "  0%|          | 0/94 [00:00<?, ?it/s]"
     ]
    },
    {
     "name": "stdout",
     "output_type": "stream",
     "text": [
      "===[EPOCH:   15]===========================\n",
      "train_loss = 1.379002724, train_acc = 0.5481667\n"
     ]
    },
    {
     "name": "stderr",
     "output_type": "stream",
     "text": [
      "100%|██████████| 94/94 [00:03<00:00, 28.95it/s]\n",
      "  0%|          | 0/375 [00:00<?, ?it/s]"
     ]
    },
    {
     "name": "stdout",
     "output_type": "stream",
     "text": [
      "val_loss = 1.3868278, val_acc = 0.5401667\n",
      "============================================\n"
     ]
    },
    {
     "name": "stderr",
     "output_type": "stream",
     "text": [
      "100%|██████████| 375/375 [00:13<00:00, 27.88it/s]\n",
      "  0%|          | 0/94 [00:00<?, ?it/s]"
     ]
    },
    {
     "name": "stdout",
     "output_type": "stream",
     "text": [
      "===[EPOCH:   16]===========================\n",
      "train_loss = 1.373590787, train_acc = 0.5489375\n"
     ]
    },
    {
     "name": "stderr",
     "output_type": "stream",
     "text": [
      "100%|██████████| 94/94 [00:03<00:00, 26.54it/s]\n",
      "  0%|          | 0/375 [00:00<?, ?it/s]"
     ]
    },
    {
     "name": "stdout",
     "output_type": "stream",
     "text": [
      "val_loss = 1.389938403, val_acc = 0.5394167\n",
      "============================================\n"
     ]
    },
    {
     "name": "stderr",
     "output_type": "stream",
     "text": [
      "100%|██████████| 375/375 [00:13<00:00, 28.78it/s]\n",
      "  0%|          | 0/94 [00:00<?, ?it/s]"
     ]
    },
    {
     "name": "stdout",
     "output_type": "stream",
     "text": [
      "===[EPOCH:   17]===========================\n",
      "train_loss = 1.368641699, train_acc = 0.5492917\n"
     ]
    },
    {
     "name": "stderr",
     "output_type": "stream",
     "text": [
      "100%|██████████| 94/94 [00:03<00:00, 25.38it/s]\n",
      "  0%|          | 0/375 [00:00<?, ?it/s]"
     ]
    },
    {
     "name": "stdout",
     "output_type": "stream",
     "text": [
      "val_loss = 1.366904227, val_acc = 0.5491667\n",
      "============================================\n"
     ]
    },
    {
     "name": "stderr",
     "output_type": "stream",
     "text": [
      "100%|██████████| 375/375 [00:12<00:00, 28.96it/s]\n",
      "  0%|          | 0/94 [00:00<?, ?it/s]"
     ]
    },
    {
     "name": "stdout",
     "output_type": "stream",
     "text": [
      "===[EPOCH:   18]===========================\n",
      "train_loss = 1.372515113, train_acc = 0.5464375\n"
     ]
    },
    {
     "name": "stderr",
     "output_type": "stream",
     "text": [
      "100%|██████████| 94/94 [00:03<00:00, 29.50it/s]\n",
      "  0%|          | 0/375 [00:00<?, ?it/s]"
     ]
    },
    {
     "name": "stdout",
     "output_type": "stream",
     "text": [
      "val_loss = 1.364666664, val_acc = 0.54875\n",
      "============================================\n"
     ]
    },
    {
     "name": "stderr",
     "output_type": "stream",
     "text": [
      "100%|██████████| 375/375 [00:12<00:00, 30.93it/s]\n",
      "  0%|          | 0/94 [00:00<?, ?it/s]"
     ]
    },
    {
     "name": "stdout",
     "output_type": "stream",
     "text": [
      "===[EPOCH:   19]===========================\n",
      "train_loss = 1.367069931, train_acc = 0.5505625\n"
     ]
    },
    {
     "name": "stderr",
     "output_type": "stream",
     "text": [
      "100%|██████████| 94/94 [00:03<00:00, 27.76it/s]\n",
      "  0%|          | 0/375 [00:00<?, ?it/s]"
     ]
    },
    {
     "name": "stdout",
     "output_type": "stream",
     "text": [
      "val_loss = 1.359133572, val_acc = 0.55425\n",
      "============================================\n"
     ]
    },
    {
     "name": "stderr",
     "output_type": "stream",
     "text": [
      "100%|██████████| 375/375 [00:12<00:00, 29.67it/s]\n",
      "  0%|          | 0/94 [00:00<?, ?it/s]"
     ]
    },
    {
     "name": "stdout",
     "output_type": "stream",
     "text": [
      "===[EPOCH:   20]===========================\n",
      "train_loss = 1.364467539, train_acc = 0.5508958\n"
     ]
    },
    {
     "name": "stderr",
     "output_type": "stream",
     "text": [
      "100%|██████████| 94/94 [00:03<00:00, 26.36it/s]"
     ]
    },
    {
     "name": "stdout",
     "output_type": "stream",
     "text": [
      "val_loss = 1.356924278, val_acc = 0.55325\n",
      "============================================\n"
     ]
    },
    {
     "name": "stderr",
     "output_type": "stream",
     "text": [
      "\n"
     ]
    }
   ],
   "source": [
    "## YOUR CODE HERE ##\n",
    "from tqdm import tqdm\n",
    "\n",
    "def model_iter(model=None, dataloader=None, mode='train', config=None):\n",
    "    correct, cost = 0, 0\n",
    "    counter = 0\n",
    "    total = 0\n",
    "    \n",
    "#     model = config['model'] if model is None else model\n",
    "    criter = config['criterion']\n",
    "    optim = config['optimizer']\n",
    "    reg_loss = config['regularization']\n",
    "    device = config['device']\n",
    "    \n",
    "    if mode=='train':\n",
    "        model.train()\n",
    "    elif mode=='valid':\n",
    "        model.eval()\n",
    "        \n",
    "    for X, y in tqdm(dataloader):\n",
    "        X = X.to(device)\n",
    "        y = y.to(device)\n",
    "        \n",
    "        counter += 1\n",
    "        total += y.size(0)\n",
    "        \n",
    "        output = model(X)\n",
    "        loss = criterion(output , y)\n",
    "        \n",
    "        if reg_loss is not None:\n",
    "            if isinstance(reg_loss, str):\n",
    "                loss = loss + regularization(model, reg_loss)\n",
    "            else:\n",
    "                loss = loss\n",
    "        else:\n",
    "            loss = loss\n",
    "            \n",
    "        if mode=='train':\n",
    "            loss.backward()\n",
    "            optim.step()\n",
    "            optim.zero_grad()\n",
    "        _, preds = torch.max(output.data, 1)\n",
    "        correct += (preds == y).sum().item()\n",
    "#         correct += (output.argmax(1) == y).sum().item()\n",
    "#         correct = correct/X.shape[0]    \n",
    "        cost += loss.item()\n",
    "#     correct = correct/len(dataloader)\n",
    "#     cost = cost/len(dataloader)\n",
    "    cost =  cost/counter\n",
    "    correct = correct/total\n",
    "    return round(correct, 7), round(cost, 9), model\n",
    "\n",
    "\n",
    "\n",
    "def fit_model(config=None, eval=False):\n",
    "    history = {\n",
    "        'model' : [],\n",
    "        'train_acc' : [],\n",
    "        'test_acc' : [],\n",
    "        'train_loss' : [],\n",
    "        'test_loss' : [],\n",
    "        'epochs' : []\n",
    "    }\n",
    "    trainloader = config['train_dataloader']\n",
    "    testloader = config['valid_dataloader']\n",
    "    \n",
    "    model = config['model'].to(config['device'])\n",
    "    criter = config['criterion']\n",
    "    optim = config['optimizer']\n",
    "    \n",
    "    epochs = config['epochs']\n",
    "    bs = config['batch_size']\n",
    "    \n",
    "    if config['lr_scheduler'] is not None:\n",
    "        print('INFO: Initializing learning rate scheduler')\n",
    "        lr_scheduler = config['lr_scheduler']\n",
    "#         lr_scheduler = LRScheduler(optim)\n",
    "    if config['early_stopping'] is not None:\n",
    "        print('INFO: Initializing early stopping')\n",
    "        early_stopping = config['early_stopping']\n",
    "#         early_stopping = EarlyStopping()\n",
    "    \n",
    "    try:\n",
    "        for eps in range(epochs):\n",
    "            train_acc, train_cost, model_result = model_iter(model, dataloader=trainloader, mode='train', config=config)\n",
    "            history['train_acc'].append(train_acc)\n",
    "            history['train_loss'].append(train_cost)\n",
    "            print('===[EPOCH: {:>4}]==========================='.format(eps + 1))\n",
    "            print('train_loss = {:}, train_acc = {:}'.format(train_cost, train_acc))\n",
    "\n",
    "            if eval == True:\n",
    "                with torch.no_grad():\n",
    "                    val_acc, val_cost, _ = model_iter(model=model_result, dataloader=testloader, mode='valid', config=config)\n",
    "                    history['test_acc'].append(val_acc)\n",
    "                    history['test_loss'].append(val_cost)\n",
    "                    print('val_loss = {:}, val_acc = {:}'.format(val_cost, val_acc))\n",
    "            print('============================================')\n",
    "            history['epochs'].append(eps+1)\n",
    "            history['model'].append(model_result)\n",
    "\n",
    "            if config['lr_scheduler'] is not None:\n",
    "                lr_scheduler(val_cost)\n",
    "            if config['early_stopping'] is not None:\n",
    "                early_stopping(val_cost)\n",
    "                if early_stopping.early_stop:\n",
    "                    break\n",
    "    except KeyboardInterrupt:\n",
    "        print()\n",
    "        print('Interrupted')\n",
    "        \n",
    "    return history\n",
    "    \n",
    "\n",
    "train_result = fit_model(model_config, eval=True)"
   ]
  },
  {
   "cell_type": "markdown",
   "metadata": {},
   "source": [
    "Plot the training loss (and validation loss/accuracy, if recorded)."
   ]
  },
  {
   "cell_type": "code",
   "execution_count": 11,
   "metadata": {},
   "outputs": [
    {
     "data": {
      "image/png": "[encoded data removed]",
      "text/plain": [
       "<Figure size 1008x360 with 2 Axes>"
      ]
     },
     "metadata": {
      "needs_background": "light"
     },
     "output_type": "display_data"
    }
   ],
   "source": [
    "## YOUR CODE HERE ##\n",
    "import numpy as np\n",
    "import matplotlib.image as mpimg\n",
    "%matplotlib inline\n",
    "\n",
    "def training_plot(hist, accuracy=False):\n",
    "    acc = hist['train_acc']\n",
    "    val_acc = hist['test_acc']\n",
    "    loss = hist['train_loss']\n",
    "    val_loss = hist['test_loss']\n",
    "    # eps = list(range(hist['epochs'][0]))\n",
    "    eps = hist['epochs']\n",
    "    \n",
    "    plt.figure(figsize=(14, 5))\n",
    "    \n",
    "    plt.subplot(1, 2, 1)\n",
    "    plt.plot(eps, acc, label='Training Accuracy')\n",
    "    plt.plot(eps, val_acc, label='Validation Accuracy')\n",
    "    plt.legend(loc='lower right')\n",
    "    plt.title('Training and Validation Accuracy')\n",
    "    plt.xlabel('Epoch')\n",
    "    plt.ylabel('Accuracy')\n",
    "    plt.legend()\n",
    "    plt.grid(linestyle='--', linewidth=1, alpha=0.5)\n",
    "\n",
    "    if accuracy is True:\n",
    "        plt.subplot(1, 2, 2)\n",
    "        plt.plot(eps, loss, label='Training Loss')\n",
    "        plt.plot(eps, val_loss, label='Validation Loss')\n",
    "        plt.legend(loc='upper right')\n",
    "        plt.title('Training and Validation Loss')\n",
    "        plt.xlabel('Epoch')\n",
    "        plt.ylabel('Loss')\n",
    "        plt.legend()\n",
    "        plt.grid(linestyle='--', linewidth=1, alpha=0.5)\n",
    "    \n",
    "    plt.show()\n",
    "\n",
    "\n",
    "training_plot(train_result, accuracy=True)"
   ]
  },
  {
   "cell_type": "markdown",
   "metadata": {},
   "source": [
    "## Testing your model\n",
    "Using the previously created `DataLoader` for the test set, compute the percentage of correct predictions using the highest probability prediction. \n",
    "\n",
    "If your accuracy is over 90%, great work, but see if you can push a bit further! \n",
    "If your accuracy is under 90%, you'll need to make improvements.\n",
    "Go back and check your model architecture, loss function, and optimizer to make sure they're appropriate for an image classification task."
   ]
  },
  {
   "cell_type": "code",
   "execution_count": 12,
   "metadata": {},
   "outputs": [
    {
     "name": "stderr",
     "output_type": "stream",
     "text": [
      "100%|██████████| 79/79 [00:01<00:00, 49.02it/s]"
     ]
    },
    {
     "name": "stdout",
     "output_type": "stream",
     "text": [
      "Test Accuracy = 17.06%\n"
     ]
    },
    {
     "name": "stderr",
     "output_type": "stream",
     "text": [
      "\n"
     ]
    }
   ],
   "source": [
    "## YOUR CODE HERE ##\n",
    "# for imgs, labels in testloader:\n",
    "# features, targets = next(iter(validloader))\n",
    "# features, targets = features.to(device), targets.to(device)\n",
    "# with torch.no_grad():\n",
    "#     model.eval()\n",
    "#     output = model(features)\n",
    "#     preds = output.argmax(1)\n",
    "# print('accuracy: ',float((targets == preds).to(torch.float32).mean()))\n",
    "\n",
    "model = train_result['model'][0]\n",
    "with torch.no_grad():\n",
    "    model.eval()\n",
    "    acc, _, _ = model_iter(model=model, dataloader=testloader, mode='valid', config=model_config)\n",
    "    print('Test Accuracy = {:.2f}%'.format(acc*100))"
   ]
  },
  {
   "cell_type": "markdown",
   "metadata": {},
   "source": [
    "## Improving your model\n",
    "\n",
    "Once your model is done training, try tweaking your hyperparameters and training again below to improve your accuracy on the test set!"
   ]
  },
  {
   "cell_type": "code",
   "execution_count": 67,
   "metadata": {},
   "outputs": [],
   "source": [
    "## YOUR CODE HERE ##\n",
    "## adding regularization method\n",
    "def regularization(model=None, option=None, lambda_l1=0.2, lambda_l2=0.2):\n",
    "\n",
    "    parameters = []\n",
    "    for param in model.parameters():\n",
    "        # param.requires_grad = True\n",
    "        parameters.append(param.view(-1))\n",
    "        w = torch.cat(parameters)\n",
    "    l1 = lambda_l1 * torch.abs(w).sum()\n",
    "    l2 = lambda_l2 * torch.square(w).sum()\n",
    "\n",
    "    if option == 'l1':                ## Lasso / L1\n",
    "        return l1\n",
    "    elif option == 'l2':              ## Ridge / L2\n",
    "        return l2\n",
    "    elif option == 'elasticnet':      ## Elastic net / L1 L2\n",
    "        return l1 + l2\n",
    "    else:\n",
    "        return 0"
   ]
  },
  {
   "cell_type": "code",
   "execution_count": 14,
   "metadata": {},
   "outputs": [],
   "source": [
    "## adding earlystop object\n",
    "class EarlyStopping():      # reference: https://debuggercafe.com/using-learning-rate-scheduler-and-early-stopping-with-pytorch/\n",
    "    def __init__(self, patience=5, min_delta=0):\n",
    "        \"\"\"\n",
    "        early_stop = ((best_loss - val_loss) < self.min_delta) && (train_iter >= patience)\n",
    "        \"\"\"\n",
    "        self.patience = patience    # how many epochs to wait before stopping when loss is not improving\n",
    "        self.min_delta = min_delta  # minimum difference between new loss and old loss for new loss to be considered as an improvement\n",
    "        self.train_iter_count = 0\n",
    "        self.best_loss = None\n",
    "        self.early_stop = False     # training epoch will be stoping if early_stop is True\n",
    "    def __call__(self, val_loss):\n",
    "        if self.best_loss == None:\n",
    "            self.best_loss = val_loss\n",
    "        elif self.best_loss - val_loss > self.min_delta:\n",
    "            self.best_loss = val_loss\n",
    "            # reset counter if validation loss improves\n",
    "            self.train_iter_count = 0\n",
    "        elif self.best_loss - val_loss < self.min_delta:\n",
    "            self.train_iter_count += 1\n",
    "            print(f\"INFO: Early stopping counter {self.train_iter_count} of {self.patience}\")\n",
    "            if self.train_iter_count >= self.patience:\n",
    "                print('INFO: Early stopping')\n",
    "                self.early_stop = True"
   ]
  },
  {
   "cell_type": "code",
   "execution_count": 15,
   "metadata": {},
   "outputs": [],
   "source": [
    "## adding learning rate scheduler\n",
    "\n",
    "class LRScheduler():\n",
    "    def __init__(\n",
    "        self, optimizer, patience=5, min_lr=1e-6, factor=0.5\n",
    "    ):\n",
    "        \"\"\"\n",
    "        new_lr = old_lr * factor\n",
    "        \"\"\"\n",
    "        self.optimizer = optimizer\n",
    "        self.patience = patience    # how many epochs to wait before updating the lr\n",
    "        self.min_lr = min_lr        # least lr value to reduce to while updating\n",
    "        self.factor = factor        # factor by which the lr should be updated\n",
    "        self.lr_scheduler = torch.optim.lr_scheduler.ReduceLROnPlateau( \n",
    "                self.optimizer,\n",
    "                mode='min',\n",
    "                patience=self.patience,\n",
    "                factor=self.factor,\n",
    "                min_lr=self.min_lr,\n",
    "                verbose=True\n",
    "            )\n",
    "    def __call__(self, val_loss):\n",
    "        self.lr_scheduler.step(val_loss)"
   ]
  },
  {
   "cell_type": "code",
   "execution_count": 80,
   "metadata": {},
   "outputs": [],
   "source": [
    "## model config\n",
    "model = Model(in_features=dim, n_classes=out_class, ch=channels, hidden_layer=[32, 128, 256], drop_out=[0, 0.6, 0.6])\n",
    "\n",
    "# optimizer\n",
    "learning_rate = 0.007\n",
    "adam_optimizer = optim.Adam(model.parameters(), lr=learning_rate)\n",
    "sgd_optimizer = optim.SGD(model.parameters(), lr=learning_rate)\n",
    "rmsprop_optimizer = optim.RMSprop(model.parameters(), lr=learning_rate)\n",
    "\n",
    "\n",
    "\n",
    "model_config = {\n",
    "    'train_dataloader' : trainloader, \n",
    "    'valid_dataloader' : validloader, \n",
    "    'test_dataloader' : testloader,\n",
    "    \n",
    "    'model' : model,\n",
    "    'criterion' : nn.CrossEntropyLoss(),\n",
    "    'optimizer' : rmsprop_optimizer,\n",
    "    \n",
    "    'lr' : learning_rate,\n",
    "    'img_size' : im_size,\n",
    "    'batch_size' : bs,\n",
    "    'epochs' : 100,\n",
    "    \n",
    "    'regularization' : None,\n",
    "    'lr_scheduler' : LRScheduler(rmsprop_optimizer),\n",
    "    'early_stopping' : EarlyStopping(patience=5),\n",
    "    \n",
    "    'device' : 'cuda:0' if torch.cuda.is_available() else 'cpu'   \n",
    "}"
   ]
  },
  {
   "cell_type": "code",
   "execution_count": 81,
   "metadata": {},
   "outputs": [],
   "source": [
    "# # hyperparameter tuning for hidden layer nodes\n",
    "\n",
    "# for nodes in [32, 64, 128, 256, 512]:\n",
    "#     for drop in [0, 0.1, 0.2, 0.25, 0.3]\n",
    "#         model = Model(in_features=dim, n_classes=out_class, ch=channels, hidden_layer=[32, nodes, 256], drop_out=[0, drop, 0.6])\n",
    "#         hist_improve = fit_model(model_config, eval=True)"
   ]
  },
  {
   "cell_type": "code",
   "execution_count": 82,
   "metadata": {
    "scrolled": true
   },
   "outputs": [
    {
     "name": "stderr",
     "output_type": "stream",
     "text": [
      "\n",
      "  0%|          | 0/375 [00:00<?, ?it/s]\u001b[A"
     ]
    },
    {
     "name": "stdout",
     "output_type": "stream",
     "text": [
      "INFO: Initializing learning rate scheduler\n",
      "INFO: Initializing early stopping\n"
     ]
    },
    {
     "name": "stderr",
     "output_type": "stream",
     "text": [
      "\n",
      "  0%|          | 1/375 [00:00<01:59,  3.12it/s]\u001b[A\n",
      "  1%|▏         | 5/375 [00:00<01:26,  4.26it/s]\u001b[A\n",
      "  2%|▏         | 9/375 [00:00<01:03,  5.76it/s]\u001b[A\n",
      "  3%|▎         | 13/375 [00:00<00:47,  7.61it/s]\u001b[A\n",
      "  5%|▍         | 17/375 [00:00<00:36,  9.76it/s]\u001b[A\n",
      "  6%|▌         | 21/375 [00:00<00:28, 12.32it/s]\u001b[A\n",
      "  6%|▋         | 24/375 [00:01<00:23, 14.85it/s]\u001b[A\n",
      "  7%|▋         | 28/375 [00:01<00:20, 17.08it/s]\u001b[A\n",
      "  9%|▊         | 32/375 [00:01<00:17, 19.65it/s]\u001b[A\n",
      " 10%|▉         | 36/375 [00:01<00:15, 21.35it/s]\u001b[A\n",
      " 11%|█         | 40/375 [00:01<00:14, 23.54it/s]\u001b[A\n",
      " 12%|█▏        | 44/375 [00:01<00:12, 25.59it/s]\u001b[A\n",
      " 13%|█▎        | 47/375 [00:01<00:12, 26.59it/s]\u001b[A\n",
      " 13%|█▎        | 50/375 [00:01<00:12, 26.35it/s]\u001b[A\n",
      " 14%|█▍        | 53/375 [00:02<00:12, 25.75it/s]\u001b[A\n",
      " 15%|█▌        | 57/375 [00:02<00:11, 27.19it/s]\u001b[A\n",
      " 16%|█▋        | 61/375 [00:02<00:11, 27.74it/s]\u001b[A\n",
      " 17%|█▋        | 64/375 [00:02<00:10, 28.31it/s]\u001b[A\n",
      " 18%|█▊        | 67/375 [00:02<00:11, 27.98it/s]\u001b[A\n",
      " 19%|█▊        | 70/375 [00:02<00:10, 28.22it/s]\u001b[A\n",
      " 19%|█▉        | 73/375 [00:02<00:11, 26.56it/s]\u001b[A\n",
      " 21%|██        | 77/375 [00:02<00:10, 27.76it/s]\u001b[A\n",
      " 22%|██▏       | 81/375 [00:03<00:10, 29.03it/s]\u001b[A\n",
      " 22%|██▏       | 84/375 [00:03<00:10, 28.66it/s]\u001b[A\n",
      " 23%|██▎       | 87/375 [00:03<00:10, 27.89it/s]\u001b[A\n",
      " 24%|██▍       | 91/375 [00:03<00:10, 28.32it/s]\u001b[A\n",
      " 25%|██▌       | 95/375 [00:03<00:09, 28.84it/s]\u001b[A\n",
      " 26%|██▋       | 99/375 [00:03<00:09, 29.89it/s]\u001b[A\n",
      " 27%|██▋       | 103/375 [00:03<00:09, 30.07it/s]\u001b[A\n",
      " 29%|██▊       | 107/375 [00:03<00:08, 30.15it/s]\u001b[A\n",
      " 30%|██▉       | 111/375 [00:04<00:08, 30.90it/s]\u001b[A\n",
      " 31%|███       | 115/375 [00:04<00:08, 30.09it/s]\u001b[A\n",
      " 32%|███▏      | 119/375 [00:04<00:08, 29.60it/s]\u001b[A\n",
      " 33%|███▎      | 123/375 [00:04<00:08, 31.09it/s]\u001b[A\n",
      " 34%|███▍      | 127/375 [00:04<00:08, 30.99it/s]\u001b[A\n",
      " 35%|███▍      | 131/375 [00:04<00:08, 30.31it/s]\u001b[A\n",
      " 36%|███▌      | 135/375 [00:04<00:07, 30.52it/s]\u001b[A\n",
      " 37%|███▋      | 139/375 [00:04<00:07, 30.98it/s]\u001b[A\n",
      " 38%|███▊      | 143/375 [00:05<00:07, 30.88it/s]\u001b[A\n",
      " 39%|███▉      | 147/375 [00:05<00:07, 31.08it/s]\u001b[A\n",
      " 40%|████      | 151/375 [00:05<00:07, 31.46it/s]\u001b[A\n",
      " 41%|████▏     | 155/375 [00:05<00:07, 29.49it/s]\u001b[A\n",
      " 42%|████▏     | 159/375 [00:05<00:07, 29.44it/s]\u001b[A\n",
      " 43%|████▎     | 163/375 [00:05<00:06, 30.47it/s]\u001b[A\n",
      " 45%|████▍     | 167/375 [00:05<00:06, 29.99it/s]\u001b[A\n",
      " 46%|████▌     | 171/375 [00:06<00:06, 30.67it/s]\u001b[A\n",
      " 47%|████▋     | 175/375 [00:06<00:06, 30.96it/s]\u001b[A\n",
      " 48%|████▊     | 179/375 [00:06<00:06, 30.13it/s]\u001b[A\n",
      " 49%|████▉     | 183/375 [00:06<00:06, 31.03it/s]\u001b[A\n",
      " 50%|████▉     | 187/375 [00:06<00:05, 31.54it/s]\u001b[A\n",
      " 51%|█████     | 191/375 [00:06<00:05, 31.09it/s]\u001b[A\n",
      " 52%|█████▏    | 195/375 [00:06<00:05, 30.37it/s]\u001b[A\n",
      " 53%|█████▎    | 199/375 [00:06<00:05, 30.42it/s]\u001b[A\n",
      " 54%|█████▍    | 203/375 [00:07<00:05, 30.87it/s]\u001b[A\n",
      " 55%|█████▌    | 207/375 [00:07<00:05, 29.18it/s]\u001b[A\n",
      " 56%|█████▌    | 210/375 [00:07<00:05, 29.19it/s]\u001b[A\n",
      " 57%|█████▋    | 213/375 [00:07<00:07, 22.63it/s]\u001b[A\n",
      " 58%|█████▊    | 216/375 [00:07<00:06, 23.53it/s]\u001b[A\n",
      " 59%|█████▊    | 220/375 [00:07<00:06, 24.89it/s]\u001b[A\n",
      " 60%|█████▉    | 224/375 [00:07<00:05, 25.91it/s]\u001b[A\n",
      " 61%|██████    | 228/375 [00:08<00:05, 27.03it/s]\u001b[A\n",
      " 62%|██████▏   | 232/375 [00:08<00:05, 26.97it/s]\u001b[A\n",
      " 63%|██████▎   | 236/375 [00:08<00:04, 27.88it/s]\u001b[A\n",
      " 64%|██████▍   | 240/375 [00:08<00:04, 27.79it/s]\u001b[A\n",
      " 65%|██████▌   | 244/375 [00:08<00:04, 28.17it/s]\u001b[A\n",
      " 66%|██████▌   | 248/375 [00:08<00:04, 28.73it/s]\u001b[A\n",
      " 67%|██████▋   | 252/375 [00:08<00:04, 28.06it/s]\u001b[A\n",
      " 68%|██████▊   | 256/375 [00:09<00:04, 28.73it/s]\u001b[A\n",
      " 69%|██████▉   | 260/375 [00:09<00:04, 27.15it/s]\u001b[A\n",
      " 70%|███████   | 264/375 [00:09<00:03, 28.75it/s]\u001b[A\n",
      " 71%|███████▏  | 268/375 [00:09<00:03, 29.47it/s]\u001b[A\n",
      " 73%|███████▎  | 272/375 [00:09<00:03, 28.29it/s]\u001b[A\n",
      " 74%|███████▎  | 276/375 [00:09<00:03, 29.26it/s]\u001b[A\n",
      " 75%|███████▍  | 280/375 [00:09<00:03, 29.75it/s]\u001b[A\n",
      " 76%|███████▌  | 284/375 [00:10<00:03, 28.58it/s]\u001b[A\n",
      " 77%|███████▋  | 288/375 [00:10<00:02, 29.14it/s]\u001b[A\n",
      " 78%|███████▊  | 292/375 [00:10<00:02, 29.86it/s]\u001b[A\n",
      " 79%|███████▉  | 296/375 [00:10<00:02, 28.55it/s]\u001b[A\n",
      " 80%|████████  | 300/375 [00:10<00:02, 29.55it/s]\u001b[A\n",
      " 81%|████████  | 303/375 [00:10<00:02, 29.65it/s]\u001b[A\n",
      " 82%|████████▏ | 306/375 [00:10<00:02, 27.75it/s]\u001b[A\n",
      " 82%|████████▏ | 309/375 [00:10<00:02, 24.96it/s]\u001b[A\n",
      " 83%|████████▎ | 312/375 [00:11<00:02, 24.85it/s]\u001b[A\n",
      " 84%|████████▍ | 316/375 [00:11<00:02, 26.48it/s]\u001b[A\n",
      " 85%|████████▌ | 319/375 [00:11<00:02, 27.43it/s]\u001b[A\n",
      " 86%|████████▌ | 322/375 [00:11<00:02, 25.91it/s]\u001b[A\n",
      " 87%|████████▋ | 325/375 [00:11<00:01, 26.52it/s]\u001b[A\n",
      " 87%|████████▋ | 328/375 [00:11<00:01, 26.79it/s]\u001b[A\n",
      " 89%|████████▊ | 332/375 [00:11<00:01, 27.82it/s]\u001b[A\n",
      " 90%|████████▉ | 336/375 [00:11<00:01, 28.37it/s]\u001b[A\n",
      " 91%|█████████ | 340/375 [00:12<00:01, 28.35it/s]\u001b[A\n",
      " 92%|█████████▏| 344/375 [00:12<00:01, 28.80it/s]\u001b[A\n",
      " 93%|█████████▎| 348/375 [00:12<00:00, 29.68it/s]\u001b[A\n",
      " 94%|█████████▍| 352/375 [00:12<00:00, 28.38it/s]\u001b[A\n",
      " 95%|█████████▍| 356/375 [00:12<00:00, 28.96it/s]\u001b[A\n",
      " 96%|█████████▌| 360/375 [00:12<00:00, 28.21it/s]\u001b[A\n",
      " 97%|█████████▋| 364/375 [00:12<00:00, 28.33it/s]\u001b[A\n",
      " 98%|█████████▊| 368/375 [00:13<00:00, 27.36it/s]\u001b[A\n",
      " 99%|█████████▉| 372/375 [00:13<00:00, 27.95it/s]\u001b[A\n",
      "100%|██████████| 375/375 [00:13<00:00, 28.10it/s]\u001b[A\n",
      "\n",
      "  0%|          | 0/94 [00:00<?, ?it/s]\u001b[A"
     ]
    },
    {
     "name": "stdout",
     "output_type": "stream",
     "text": [
      "===[EPOCH:    1]===========================\n",
      "train_loss = 0.699266516, train_acc = 0.7803542\n"
     ]
    },
    {
     "name": "stderr",
     "output_type": "stream",
     "text": [
      "\n",
      "  1%|          | 1/94 [00:00<00:40,  2.32it/s]\u001b[A\n",
      "  5%|▌         | 5/94 [00:00<00:27,  3.20it/s]\u001b[A\n",
      " 10%|▉         | 9/94 [00:00<00:19,  4.38it/s]\u001b[A\n",
      " 14%|█▍        | 13/94 [00:00<00:13,  5.88it/s]\u001b[A\n",
      " 18%|█▊        | 17/94 [00:00<00:10,  7.68it/s]\u001b[A\n",
      " 22%|██▏       | 21/94 [00:01<00:07,  9.94it/s]\u001b[A\n",
      " 27%|██▋       | 25/94 [00:01<00:05, 12.31it/s]\u001b[A\n",
      " 31%|███       | 29/94 [00:01<00:04, 15.14it/s]\u001b[A\n",
      " 35%|███▌      | 33/94 [00:01<00:03, 18.14it/s]\u001b[A\n",
      " 39%|███▉      | 37/94 [00:01<00:02, 20.18it/s]\u001b[A\n",
      " 44%|████▎     | 41/94 [00:01<00:02, 22.01it/s]\u001b[A\n",
      " 48%|████▊     | 45/94 [00:01<00:02, 24.09it/s]\u001b[A\n",
      " 52%|█████▏    | 49/94 [00:02<00:01, 26.47it/s]\u001b[A\n",
      " 56%|█████▋    | 53/94 [00:02<00:01, 27.06it/s]\u001b[A\n",
      " 61%|██████    | 57/94 [00:02<00:01, 27.42it/s]\u001b[A\n",
      " 65%|██████▍   | 61/94 [00:02<00:01, 16.96it/s]\u001b[A\n",
      " 69%|██████▉   | 65/94 [00:02<00:01, 19.46it/s]\u001b[A\n",
      " 73%|███████▎  | 69/94 [00:03<00:01, 22.44it/s]\u001b[A\n",
      " 77%|███████▋  | 72/94 [00:03<00:00, 24.25it/s]\u001b[A\n",
      " 81%|████████  | 76/94 [00:03<00:00, 26.61it/s]\u001b[A\n",
      " 85%|████████▌ | 80/94 [00:03<00:00, 27.04it/s]\u001b[A\n",
      " 88%|████████▊ | 83/94 [00:03<00:00, 27.29it/s]\u001b[A\n",
      " 93%|█████████▎| 87/94 [00:03<00:00, 28.43it/s]\u001b[A\n",
      "100%|██████████| 94/94 [00:03<00:00, 24.50it/s]\u001b[A\n",
      "\n",
      "  0%|          | 0/375 [00:00<?, ?it/s]\u001b[A"
     ]
    },
    {
     "name": "stdout",
     "output_type": "stream",
     "text": [
      "val_loss = 0.486735683, val_acc = 0.8493333\n",
      "============================================\n"
     ]
    },
    {
     "name": "stderr",
     "output_type": "stream",
     "text": [
      "\n",
      "  0%|          | 1/375 [00:00<02:08,  2.90it/s]\u001b[A\n",
      "  1%|▏         | 5/375 [00:00<01:33,  3.97it/s]\u001b[A\n",
      "  2%|▏         | 9/375 [00:00<01:08,  5.32it/s]\u001b[A\n",
      "  3%|▎         | 13/375 [00:00<00:51,  7.10it/s]\u001b[A\n",
      "  5%|▍         | 17/375 [00:00<00:38,  9.25it/s]\u001b[A\n",
      "  6%|▌         | 21/375 [00:01<00:30, 11.63it/s]\u001b[A\n",
      "  7%|▋         | 25/375 [00:01<00:24, 14.13it/s]\u001b[A\n",
      "  8%|▊         | 29/375 [00:01<00:20, 17.05it/s]\u001b[A\n",
      "  9%|▉         | 33/375 [00:01<00:17, 19.64it/s]\u001b[A\n",
      " 10%|▉         | 37/375 [00:01<00:15, 21.90it/s]\u001b[A\n",
      " 11%|█         | 41/375 [00:01<00:13, 24.92it/s]\u001b[A\n",
      " 12%|█▏        | 45/375 [00:01<00:13, 25.01it/s]\u001b[A\n",
      " 13%|█▎        | 49/375 [00:01<00:12, 25.96it/s]\u001b[A\n",
      " 14%|█▍        | 53/375 [00:02<00:11, 27.49it/s]\u001b[A\n",
      " 15%|█▌        | 57/375 [00:02<00:11, 28.06it/s]\u001b[A\n",
      " 16%|█▋        | 61/375 [00:02<00:10, 29.26it/s]\u001b[A\n",
      " 17%|█▋        | 65/375 [00:02<00:10, 29.18it/s]\u001b[A\n",
      " 18%|█▊        | 69/375 [00:02<00:10, 28.76it/s]\u001b[A\n",
      " 19%|█▉        | 73/375 [00:02<00:10, 28.93it/s]\u001b[A\n",
      " 21%|██        | 77/375 [00:02<00:09, 30.40it/s]\u001b[A\n",
      " 22%|██▏       | 81/375 [00:03<00:09, 29.97it/s]\u001b[A\n",
      " 23%|██▎       | 85/375 [00:03<00:09, 30.62it/s]\u001b[A\n",
      " 24%|██▎       | 89/375 [00:03<00:09, 30.74it/s]\u001b[A\n",
      " 25%|██▍       | 93/375 [00:03<00:09, 30.74it/s]\u001b[A\n",
      " 26%|██▌       | 97/375 [00:03<00:09, 29.24it/s]\u001b[A\n",
      " 27%|██▋       | 101/375 [00:03<00:08, 30.49it/s]\u001b[A\n",
      " 28%|██▊       | 105/375 [00:03<00:08, 30.88it/s]\u001b[A\n",
      " 29%|██▉       | 109/375 [00:03<00:08, 29.65it/s]\u001b[A\n",
      " 30%|███       | 113/375 [00:04<00:08, 29.59it/s]\u001b[A\n",
      " 31%|███       | 117/375 [00:04<00:09, 27.86it/s]\u001b[A\n",
      " 32%|███▏      | 121/375 [00:04<00:08, 28.73it/s]\u001b[A\n",
      " 33%|███▎      | 125/375 [00:04<00:08, 28.16it/s]\u001b[A\n",
      " 34%|███▍      | 129/375 [00:04<00:08, 28.28it/s]\u001b[A\n",
      " 35%|███▌      | 133/375 [00:04<00:08, 29.23it/s]\u001b[A\n",
      " 37%|███▋      | 137/375 [00:04<00:08, 28.08it/s]\u001b[A\n",
      " 38%|███▊      | 141/375 [00:05<00:08, 28.49it/s]\u001b[A\n",
      " 39%|███▊      | 145/375 [00:05<00:08, 27.15it/s]\u001b[A\n",
      " 40%|███▉      | 149/375 [00:05<00:08, 28.14it/s]\u001b[A\n",
      " 41%|████      | 153/375 [00:05<00:07, 27.99it/s]\u001b[A\n",
      " 42%|████▏     | 157/375 [00:05<00:07, 29.42it/s]\u001b[A\n",
      " 43%|████▎     | 161/375 [00:05<00:07, 29.68it/s]\u001b[A\n",
      " 44%|████▍     | 165/375 [00:05<00:07, 28.32it/s]\u001b[A\n",
      " 45%|████▌     | 169/375 [00:06<00:07, 28.54it/s]\u001b[A\n",
      " 46%|████▌     | 173/375 [00:06<00:06, 29.48it/s]\u001b[A\n",
      " 47%|████▋     | 177/375 [00:06<00:06, 28.33it/s]\u001b[A\n",
      " 48%|████▊     | 181/375 [00:06<00:06, 29.27it/s]\u001b[A\n",
      " 49%|████▉     | 185/375 [00:06<00:06, 28.57it/s]\u001b[A\n",
      " 50%|█████     | 189/375 [00:06<00:06, 29.01it/s]\u001b[A\n",
      " 51%|█████▏    | 193/375 [00:06<00:06, 29.58it/s]\u001b[A\n",
      " 53%|█████▎    | 197/375 [00:07<00:06, 28.91it/s]\u001b[A\n",
      " 54%|█████▎    | 201/375 [00:07<00:05, 29.36it/s]\u001b[A\n",
      " 55%|█████▍    | 205/375 [00:07<00:05, 29.22it/s]\u001b[A\n",
      " 55%|█████▌    | 208/375 [00:07<00:06, 26.35it/s]\u001b[A\n",
      " 56%|█████▋    | 211/375 [00:07<00:06, 25.68it/s]\u001b[A\n",
      " 57%|█████▋    | 215/375 [00:07<00:05, 27.23it/s]\u001b[A\n",
      " 58%|█████▊    | 219/375 [00:07<00:05, 26.96it/s]\u001b[A\n",
      " 59%|█████▉    | 223/375 [00:07<00:05, 27.81it/s]\u001b[A\n",
      " 61%|██████    | 227/375 [00:08<00:05, 27.57it/s]\u001b[A\n",
      " 62%|██████▏   | 231/375 [00:08<00:05, 28.03it/s]\u001b[A\n",
      " 63%|██████▎   | 235/375 [00:08<00:04, 28.79it/s]\u001b[A\n",
      " 64%|██████▎   | 239/375 [00:08<00:04, 28.62it/s]\u001b[A\n",
      " 65%|██████▍   | 243/375 [00:08<00:04, 29.01it/s]\u001b[A\n",
      " 66%|██████▌   | 247/375 [00:08<00:04, 29.92it/s]\u001b[A\n",
      " 67%|██████▋   | 251/375 [00:08<00:04, 29.51it/s]\u001b[A\n",
      " 68%|██████▊   | 255/375 [00:09<00:04, 29.74it/s]\u001b[A\n",
      " 69%|██████▉   | 259/375 [00:09<00:03, 29.53it/s]\u001b[A\n",
      " 70%|███████   | 263/375 [00:09<00:03, 29.02it/s]\u001b[A\n",
      " 71%|███████   | 267/375 [00:09<00:03, 29.81it/s]\u001b[A\n",
      " 72%|███████▏  | 271/375 [00:09<00:03, 28.50it/s]\u001b[A\n",
      " 73%|███████▎  | 275/375 [00:09<00:03, 28.88it/s]\u001b[A\n",
      " 74%|███████▍  | 279/375 [00:09<00:03, 29.44it/s]\u001b[A\n",
      " 75%|███████▌  | 283/375 [00:10<00:03, 28.61it/s]\u001b[A\n",
      " 77%|███████▋  | 287/375 [00:10<00:03, 28.68it/s]\u001b[A\n",
      " 78%|███████▊  | 291/375 [00:10<00:03, 22.87it/s]\u001b[A\n",
      " 79%|███████▊  | 295/375 [00:10<00:03, 24.19it/s]\u001b[A\n",
      " 80%|███████▉  | 299/375 [00:10<00:03, 24.77it/s]\u001b[A\n",
      " 81%|████████  | 303/375 [00:10<00:02, 25.83it/s]\u001b[A\n",
      " 82%|████████▏ | 307/375 [00:11<00:02, 26.79it/s]\u001b[A\n",
      " 83%|████████▎ | 311/375 [00:11<00:02, 26.37it/s]\u001b[A\n",
      " 84%|████████▍ | 315/375 [00:11<00:02, 27.81it/s]\u001b[A\n",
      " 85%|████████▌ | 319/375 [00:11<00:02, 27.54it/s]\u001b[A\n",
      " 86%|████████▌ | 323/375 [00:11<00:01, 27.83it/s]\u001b[A\n",
      " 87%|████████▋ | 327/375 [00:11<00:01, 26.70it/s]\u001b[A\n",
      " 88%|████████▊ | 331/375 [00:11<00:01, 27.54it/s]\u001b[A\n",
      " 89%|████████▉ | 335/375 [00:12<00:01, 27.06it/s]\u001b[A\n",
      " 90%|█████████ | 339/375 [00:12<00:01, 26.91it/s]\u001b[A\n",
      " 91%|█████████▏| 343/375 [00:12<00:01, 26.51it/s]\u001b[A\n",
      " 93%|█████████▎| 347/375 [00:12<00:01, 26.34it/s]\u001b[A\n",
      " 94%|█████████▎| 351/375 [00:12<00:00, 26.35it/s]\u001b[A\n",
      " 95%|█████████▍| 355/375 [00:12<00:00, 26.99it/s]\u001b[A\n",
      " 96%|█████████▌| 359/375 [00:12<00:00, 26.15it/s]\u001b[A\n",
      " 97%|█████████▋| 363/375 [00:13<00:00, 27.00it/s]\u001b[A\n",
      " 98%|█████████▊| 367/375 [00:13<00:00, 28.46it/s]\u001b[A\n",
      " 99%|█████████▉| 371/375 [00:13<00:00, 28.57it/s]\u001b[A\n",
      "100%|██████████| 375/375 [00:13<00:00, 27.85it/s]\u001b[A\n",
      "\n",
      "  0%|          | 0/94 [00:00<?, ?it/s]\u001b[A"
     ]
    },
    {
     "name": "stdout",
     "output_type": "stream",
     "text": [
      "===[EPOCH:    2]===========================\n",
      "train_loss = 0.477346999, train_acc = 0.8536458\n"
     ]
    },
    {
     "name": "stderr",
     "output_type": "stream",
     "text": [
      "\n",
      "  1%|          | 1/94 [00:00<00:43,  2.12it/s]\u001b[A\n",
      "  5%|▌         | 5/94 [00:00<00:30,  2.93it/s]\u001b[A\n",
      "  9%|▊         | 8/94 [00:00<00:21,  4.01it/s]\u001b[A\n",
      " 12%|█▏        | 11/94 [00:00<00:15,  5.32it/s]\u001b[A\n",
      " 15%|█▍        | 14/94 [00:00<00:11,  6.96it/s]\u001b[A\n",
      " 19%|█▉        | 18/94 [00:01<00:08,  9.02it/s]\u001b[A\n",
      " 22%|██▏       | 21/94 [00:01<00:06, 11.38it/s]\u001b[A\n",
      " 26%|██▌       | 24/94 [00:01<00:05, 13.37it/s]\u001b[A\n",
      " 30%|██▉       | 28/94 [00:01<00:04, 15.87it/s]\u001b[A\n",
      " 33%|███▎      | 31/94 [00:01<00:03, 18.41it/s]\u001b[A\n",
      " 36%|███▌      | 34/94 [00:01<00:02, 20.39it/s]\u001b[A\n",
      " 39%|███▉      | 37/94 [00:01<00:02, 21.57it/s]\u001b[A\n",
      " 44%|████▎     | 41/94 [00:01<00:02, 22.61it/s]\u001b[A\n",
      " 48%|████▊     | 45/94 [00:02<00:02, 23.83it/s]\u001b[A\n",
      " 52%|█████▏    | 49/94 [00:02<00:01, 24.64it/s]\u001b[A\n",
      " 56%|█████▋    | 53/94 [00:02<00:01, 26.59it/s]\u001b[A\n",
      " 60%|█████▉    | 56/94 [00:02<00:01, 27.16it/s]\u001b[A\n",
      " 63%|██████▎   | 59/94 [00:02<00:01, 26.55it/s]\u001b[A\n",
      " 67%|██████▋   | 63/94 [00:02<00:01, 26.31it/s]\u001b[A\n",
      " 71%|███████▏  | 67/94 [00:02<00:00, 27.52it/s]\u001b[A\n",
      " 76%|███████▌  | 71/94 [00:03<00:00, 27.41it/s]\u001b[A\n",
      " 79%|███████▊  | 74/94 [00:03<00:00, 27.69it/s]\u001b[A\n",
      " 82%|████████▏ | 77/94 [00:03<00:00, 27.76it/s]\u001b[A\n",
      " 85%|████████▌ | 80/94 [00:03<00:00, 27.60it/s]\u001b[A\n",
      " 88%|████████▊ | 83/94 [00:03<00:00, 27.78it/s]\u001b[A\n",
      " 91%|█████████▏| 86/94 [00:03<00:00, 27.70it/s]\u001b[A\n",
      " 95%|█████████▍| 89/94 [00:03<00:00, 27.98it/s]\u001b[A\n",
      "100%|██████████| 94/94 [00:03<00:00, 24.29it/s]\u001b[A\n",
      "\n",
      "  0%|          | 0/375 [00:00<?, ?it/s]\u001b[A"
     ]
    },
    {
     "name": "stdout",
     "output_type": "stream",
     "text": [
      "val_loss = 0.451425759, val_acc = 0.8621667\n",
      "============================================\n"
     ]
    },
    {
     "name": "stderr",
     "output_type": "stream",
     "text": [
      "\n",
      "  0%|          | 1/375 [00:00<02:37,  2.37it/s]\u001b[A\n",
      "  1%|▏         | 5/375 [00:00<01:53,  3.26it/s]\u001b[A\n",
      "  2%|▏         | 9/375 [00:00<01:22,  4.43it/s]\u001b[A\n",
      "  3%|▎         | 13/375 [00:00<01:00,  5.96it/s]\u001b[A\n",
      "  5%|▍         | 17/375 [00:01<00:46,  7.78it/s]\u001b[A\n",
      "  6%|▌         | 21/375 [00:01<00:35, 10.04it/s]\u001b[A\n",
      "  7%|▋         | 25/375 [00:01<00:28, 12.45it/s]\u001b[A\n",
      "  8%|▊         | 29/375 [00:01<00:22, 15.23it/s]\u001b[A\n",
      "  9%|▉         | 33/375 [00:01<00:19, 17.73it/s]\u001b[A\n",
      " 10%|▉         | 37/375 [00:01<00:17, 19.32it/s]\u001b[A\n",
      " 11%|█         | 41/375 [00:01<00:15, 21.76it/s]\u001b[A\n",
      " 12%|█▏        | 45/375 [00:01<00:14, 22.71it/s]\u001b[A\n",
      " 13%|█▎        | 49/375 [00:02<00:13, 24.79it/s]\u001b[A\n",
      " 14%|█▍        | 53/375 [00:02<00:12, 26.45it/s]\u001b[A\n",
      " 15%|█▌        | 57/375 [00:02<00:11, 26.85it/s]\u001b[A\n",
      " 16%|█▋        | 61/375 [00:02<00:11, 27.63it/s]\u001b[A\n",
      " 17%|█▋        | 65/375 [00:02<00:11, 26.86it/s]\u001b[A\n",
      " 18%|█▊        | 69/375 [00:02<00:11, 27.35it/s]\u001b[A\n",
      " 19%|█▉        | 73/375 [00:02<00:11, 26.78it/s]\u001b[A\n",
      " 21%|██        | 77/375 [00:03<00:10, 27.44it/s]\u001b[A\n",
      " 22%|██▏       | 81/375 [00:03<00:10, 28.14it/s]\u001b[A\n",
      " 23%|██▎       | 85/375 [00:03<00:10, 28.40it/s]\u001b[A\n",
      " 24%|██▎       | 89/375 [00:03<00:09, 28.73it/s]\u001b[A\n",
      " 25%|██▍       | 93/375 [00:03<00:10, 28.05it/s]\u001b[A\n",
      " 26%|██▌       | 97/375 [00:03<00:09, 28.50it/s]\u001b[A\n",
      " 27%|██▋       | 101/375 [00:03<00:09, 28.91it/s]\u001b[A\n",
      " 28%|██▊       | 105/375 [00:04<00:09, 28.15it/s]\u001b[A\n",
      " 29%|██▉       | 109/375 [00:04<00:09, 28.75it/s]\u001b[A\n",
      " 30%|███       | 113/375 [00:04<00:09, 27.15it/s]\u001b[A\n",
      " 31%|███       | 117/375 [00:04<00:09, 27.67it/s]\u001b[A\n",
      " 32%|███▏      | 121/375 [00:04<00:09, 27.54it/s]\u001b[A\n",
      " 33%|███▎      | 125/375 [00:04<00:08, 28.07it/s]\u001b[A\n",
      " 34%|███▍      | 129/375 [00:05<00:09, 25.43it/s]\u001b[A\n",
      " 35%|███▌      | 133/375 [00:05<00:09, 26.56it/s]\u001b[A\n",
      " 37%|███▋      | 137/375 [00:05<00:09, 26.13it/s]\u001b[A\n",
      " 38%|███▊      | 141/375 [00:05<00:08, 27.56it/s]\u001b[A\n",
      " 39%|███▊      | 145/375 [00:05<00:08, 27.09it/s]\u001b[A\n",
      " 40%|███▉      | 149/375 [00:05<00:08, 27.62it/s]\u001b[A\n",
      " 41%|████      | 153/375 [00:05<00:07, 28.15it/s]\u001b[A\n",
      " 42%|████▏     | 157/375 [00:05<00:07, 28.04it/s]\u001b[A\n",
      " 43%|████▎     | 161/375 [00:06<00:07, 28.77it/s]\u001b[A\n",
      " 44%|████▍     | 165/375 [00:06<00:07, 28.34it/s]\u001b[A\n",
      " 45%|████▌     | 169/375 [00:06<00:07, 29.18it/s]\u001b[A\n",
      " 46%|████▌     | 173/375 [00:06<00:06, 28.96it/s]\u001b[A\n",
      " 47%|████▋     | 177/375 [00:06<00:06, 28.68it/s]\u001b[A\n",
      " 48%|████▊     | 181/375 [00:06<00:06, 28.61it/s]\u001b[A\n",
      " 49%|████▉     | 185/375 [00:06<00:06, 29.30it/s]\u001b[A\n",
      " 50%|█████     | 189/375 [00:07<00:06, 28.41it/s]\u001b[A\n",
      " 51%|█████▏    | 193/375 [00:07<00:06, 28.86it/s]\u001b[A\n",
      " 53%|█████▎    | 197/375 [00:07<00:06, 28.03it/s]\u001b[A\n",
      " 54%|█████▎    | 201/375 [00:07<00:06, 28.67it/s]\u001b[A\n",
      " 55%|█████▍    | 205/375 [00:07<00:06, 27.48it/s]\u001b[A\n",
      " 56%|█████▌    | 209/375 [00:07<00:06, 27.64it/s]\u001b[A\n",
      " 57%|█████▋    | 213/375 [00:07<00:05, 27.34it/s]\u001b[A\n",
      " 58%|█████▊    | 217/375 [00:08<00:05, 27.76it/s]\u001b[A\n",
      " 59%|█████▉    | 221/375 [00:08<00:05, 29.31it/s]\u001b[A\n",
      " 60%|██████    | 225/375 [00:08<00:05, 29.01it/s]\u001b[A\n",
      " 61%|██████    | 229/375 [00:08<00:04, 29.23it/s]\u001b[A\n",
      " 62%|██████▏   | 233/375 [00:08<00:04, 29.84it/s]\u001b[A\n",
      " 63%|██████▎   | 237/375 [00:08<00:04, 29.18it/s]\u001b[A\n",
      " 64%|██████▍   | 241/375 [00:08<00:04, 29.38it/s]\u001b[A\n",
      " 65%|██████▌   | 245/375 [00:09<00:04, 29.48it/s]\u001b[A\n",
      " 66%|██████▋   | 249/375 [00:09<00:04, 28.15it/s]\u001b[A\n",
      " 67%|██████▋   | 253/375 [00:09<00:04, 28.70it/s]\u001b[A\n",
      " 69%|██████▊   | 257/375 [00:09<00:04, 28.25it/s]\u001b[A\n",
      " 70%|██████▉   | 261/375 [00:09<00:03, 28.99it/s]\u001b[A\n",
      " 71%|███████   | 265/375 [00:09<00:03, 29.04it/s]\u001b[A\n",
      " 72%|███████▏  | 269/375 [00:09<00:03, 27.90it/s]\u001b[A\n",
      " 73%|███████▎  | 273/375 [00:10<00:03, 28.50it/s]\u001b[A\n",
      " 74%|███████▍  | 277/375 [00:10<00:03, 26.33it/s]\u001b[A\n",
      " 75%|███████▍  | 281/375 [00:10<00:03, 26.21it/s]\u001b[A\n",
      " 76%|███████▌  | 285/375 [00:10<00:03, 26.84it/s]\u001b[A\n",
      " 77%|███████▋  | 289/375 [00:10<00:03, 27.62it/s]\u001b[A\n",
      " 78%|███████▊  | 293/375 [00:10<00:02, 27.56it/s]\u001b[A\n",
      " 79%|███████▉  | 297/375 [00:10<00:02, 28.33it/s]\u001b[A\n",
      " 80%|████████  | 301/375 [00:11<00:02, 29.40it/s]\u001b[A\n",
      " 81%|████████▏ | 305/375 [00:11<00:02, 29.54it/s]\u001b[A\n",
      " 82%|████████▏ | 309/375 [00:11<00:02, 30.14it/s]\u001b[A\n",
      " 83%|████████▎ | 313/375 [00:11<00:02, 30.81it/s]\u001b[A\n",
      " 85%|████████▍ | 317/375 [00:11<00:01, 29.62it/s]\u001b[A\n",
      " 86%|████████▌ | 321/375 [00:11<00:01, 29.41it/s]\u001b[A\n",
      " 87%|████████▋ | 325/375 [00:11<00:01, 30.07it/s]\u001b[A\n",
      " 88%|████████▊ | 329/375 [00:12<00:01, 27.63it/s]\u001b[A\n",
      " 89%|████████▉ | 333/375 [00:12<00:01, 28.87it/s]\u001b[A\n",
      " 90%|████████▉ | 337/375 [00:12<00:01, 29.03it/s]\u001b[A\n",
      " 91%|█████████ | 341/375 [00:12<00:01, 29.59it/s]\u001b[A\n",
      " 92%|█████████▏| 345/375 [00:12<00:01, 29.97it/s]\u001b[A\n",
      " 93%|█████████▎| 349/375 [00:12<00:00, 29.59it/s]\u001b[A\n",
      " 94%|█████████▍| 353/375 [00:12<00:00, 29.48it/s]\u001b[A\n",
      " 95%|█████████▌| 357/375 [00:12<00:00, 29.76it/s]\u001b[A\n",
      " 96%|█████████▋| 361/375 [00:13<00:00, 29.80it/s]\u001b[A\n",
      " 97%|█████████▋| 365/375 [00:13<00:00, 30.37it/s]\u001b[A\n",
      " 98%|█████████▊| 369/375 [00:13<00:00, 30.81it/s]\u001b[A\n",
      "100%|██████████| 375/375 [00:13<00:00, 27.70it/s]\u001b[A\n",
      "\n",
      "  0%|          | 0/94 [00:00<?, ?it/s]\u001b[A"
     ]
    },
    {
     "name": "stdout",
     "output_type": "stream",
     "text": [
      "===[EPOCH:    3]===========================\n",
      "train_loss = 0.422265935, train_acc = 0.8695\n"
     ]
    },
    {
     "name": "stderr",
     "output_type": "stream",
     "text": [
      "\n",
      "  1%|          | 1/94 [00:00<00:36,  2.54it/s]\u001b[A\n",
      "  5%|▌         | 5/94 [00:00<00:25,  3.49it/s]\u001b[A\n",
      " 10%|▉         | 9/94 [00:00<00:17,  4.75it/s]\u001b[A\n",
      " 14%|█▍        | 13/94 [00:00<00:12,  6.41it/s]\u001b[A\n",
      " 17%|█▋        | 16/94 [00:00<00:09,  8.29it/s]\u001b[A\n",
      " 21%|██▏       | 20/94 [00:01<00:07, 10.53it/s]\u001b[A\n",
      " 26%|██▌       | 24/94 [00:01<00:05, 13.15it/s]\u001b[A\n",
      " 30%|██▉       | 28/94 [00:01<00:04, 15.85it/s]\u001b[A\n",
      " 34%|███▍      | 32/94 [00:01<00:03, 18.57it/s]\u001b[A\n",
      " 38%|███▊      | 36/94 [00:01<00:02, 21.68it/s]\u001b[A\n",
      " 43%|████▎     | 40/94 [00:01<00:02, 23.28it/s]\u001b[A\n",
      " 47%|████▋     | 44/94 [00:01<00:01, 25.90it/s]\u001b[A\n",
      " 51%|█████     | 48/94 [00:01<00:01, 26.74it/s]\u001b[A\n",
      " 55%|█████▌    | 52/94 [00:02<00:01, 28.28it/s]\u001b[A\n",
      " 60%|█████▉    | 56/94 [00:02<00:01, 28.44it/s]\u001b[A\n",
      " 64%|██████▍   | 60/94 [00:02<00:01, 28.68it/s]\u001b[A\n",
      " 68%|██████▊   | 64/94 [00:02<00:01, 29.41it/s]\u001b[A\n",
      " 72%|███████▏  | 68/94 [00:02<00:00, 30.36it/s]\u001b[A\n",
      " 77%|███████▋  | 72/94 [00:02<00:00, 28.83it/s]\u001b[A\n",
      " 81%|████████  | 76/94 [00:02<00:00, 29.05it/s]\u001b[A\n",
      " 85%|████████▌ | 80/94 [00:02<00:00, 30.53it/s]\u001b[A\n",
      " 89%|████████▉ | 84/94 [00:03<00:00, 30.73it/s]\u001b[A\n",
      " 94%|█████████▎| 88/94 [00:03<00:00, 29.45it/s]\u001b[A\n",
      "100%|██████████| 94/94 [00:03<00:00, 27.31it/s]\u001b[A\n",
      "\n",
      "  0%|          | 0/375 [00:00<?, ?it/s]\u001b[A"
     ]
    },
    {
     "name": "stdout",
     "output_type": "stream",
     "text": [
      "val_loss = 0.424453869, val_acc = 0.87075\n",
      "============================================\n"
     ]
    },
    {
     "name": "stderr",
     "output_type": "stream",
     "text": [
      "\n",
      "  0%|          | 1/375 [00:00<02:46,  2.24it/s]\u001b[A\n",
      "  1%|          | 4/375 [00:00<01:59,  3.10it/s]\u001b[A\n",
      "  2%|▏         | 7/375 [00:00<01:27,  4.18it/s]\u001b[A\n",
      "  3%|▎         | 11/375 [00:00<01:04,  5.63it/s]\u001b[A\n",
      "  4%|▍         | 15/375 [00:00<00:47,  7.51it/s]\u001b[A\n",
      "  5%|▍         | 18/375 [00:01<00:37,  9.63it/s]\u001b[A\n",
      "  6%|▌         | 22/375 [00:01<00:29, 11.93it/s]\u001b[A\n",
      "  7%|▋         | 26/375 [00:01<00:23, 14.70it/s]\u001b[A\n",
      "  8%|▊         | 30/375 [00:01<00:19, 17.69it/s]\u001b[A\n",
      "  9%|▉         | 33/375 [00:01<00:16, 20.15it/s]\u001b[A\n",
      " 10%|▉         | 36/375 [00:01<00:15, 21.97it/s]\u001b[A\n",
      " 11%|█         | 40/375 [00:01<00:14, 23.50it/s]\u001b[A\n",
      " 12%|█▏        | 44/375 [00:01<00:12, 25.79it/s]\u001b[A\n",
      " 13%|█▎        | 48/375 [00:02<00:12, 26.57it/s]\u001b[A\n",
      " 14%|█▎        | 51/375 [00:02<00:11, 27.15it/s]\u001b[A\n",
      " 14%|█▍        | 54/375 [00:02<00:12, 25.45it/s]\u001b[A\n",
      " 15%|█▌        | 58/375 [00:02<00:11, 26.61it/s]\u001b[A\n",
      " 17%|█▋        | 62/375 [00:02<00:10, 28.53it/s]\u001b[A\n",
      " 17%|█▋        | 65/375 [00:02<00:11, 28.15it/s]\u001b[A\n",
      " 18%|█▊        | 69/375 [00:02<00:10, 27.97it/s]\u001b[A\n",
      " 19%|█▉        | 73/375 [00:02<00:10, 28.66it/s]\u001b[A\n",
      " 21%|██        | 77/375 [00:03<00:10, 29.05it/s]\u001b[A\n",
      " 22%|██▏       | 81/375 [00:03<00:10, 27.93it/s]\u001b[A\n",
      " 23%|██▎       | 85/375 [00:03<00:10, 28.40it/s]\u001b[A\n",
      " 24%|██▎       | 89/375 [00:03<00:10, 28.23it/s]\u001b[A\n",
      " 25%|██▍       | 93/375 [00:03<00:09, 28.75it/s]\u001b[A\n",
      " 26%|██▌       | 97/375 [00:03<00:10, 25.38it/s]\u001b[A\n",
      " 27%|██▋       | 101/375 [00:03<00:10, 26.32it/s]\u001b[A\n",
      " 28%|██▊       | 105/375 [00:04<00:09, 27.44it/s]\u001b[A\n",
      " 29%|██▉       | 109/375 [00:04<00:09, 27.49it/s]\u001b[A\n",
      " 30%|███       | 113/375 [00:04<00:08, 29.36it/s]\u001b[A\n",
      " 31%|███       | 117/375 [00:04<00:08, 29.04it/s]\u001b[A\n",
      " 32%|███▏      | 121/375 [00:04<00:08, 29.63it/s]\u001b[A\n",
      " 33%|███▎      | 125/375 [00:04<00:08, 30.25it/s]\u001b[A\n",
      " 34%|███▍      | 129/375 [00:04<00:08, 28.70it/s]\u001b[A\n",
      " 35%|███▌      | 133/375 [00:05<00:08, 29.06it/s]\u001b[A\n",
      " 37%|███▋      | 137/375 [00:05<00:08, 28.66it/s]\u001b[A\n",
      " 38%|███▊      | 141/375 [00:05<00:08, 29.09it/s]\u001b[A\n",
      " 39%|███▊      | 145/375 [00:05<00:07, 29.87it/s]\u001b[A\n",
      " 40%|███▉      | 149/375 [00:05<00:07, 29.14it/s]\u001b[A\n",
      " 41%|████      | 153/375 [00:05<00:07, 29.47it/s]\u001b[A\n",
      " 42%|████▏     | 157/375 [00:05<00:07, 29.42it/s]\u001b[A\n",
      " 43%|████▎     | 161/375 [00:05<00:07, 28.97it/s]\u001b[A\n",
      " 44%|████▍     | 165/375 [00:06<00:07, 29.61it/s]\u001b[A\n",
      " 45%|████▍     | 168/375 [00:06<00:07, 29.31it/s]\u001b[A\n",
      " 46%|████▌     | 171/375 [00:06<00:06, 29.28it/s]\u001b[A\n",
      " 47%|████▋     | 175/375 [00:06<00:06, 30.12it/s]\u001b[A\n",
      " 48%|████▊     | 179/375 [00:06<00:06, 28.76it/s]\u001b[A\n",
      " 49%|████▉     | 183/375 [00:06<00:06, 29.79it/s]\u001b[A\n",
      " 50%|████▉     | 187/375 [00:06<00:06, 29.09it/s]\u001b[A\n",
      " 51%|█████     | 190/375 [00:06<00:06, 29.20it/s]\u001b[A\n",
      " 51%|█████▏    | 193/375 [00:07<00:06, 28.89it/s]\u001b[A\n",
      " 52%|█████▏    | 196/375 [00:07<00:06, 26.74it/s]\u001b[A\n",
      " 53%|█████▎    | 200/375 [00:07<00:05, 29.26it/s]\u001b[A\n",
      " 54%|█████▍    | 204/375 [00:07<00:06, 28.18it/s]\u001b[A\n",
      " 55%|█████▌    | 208/375 [00:07<00:05, 28.49it/s]\u001b[A\n",
      " 56%|█████▋    | 211/375 [00:07<00:05, 27.80it/s]\u001b[A\n",
      " 57%|█████▋    | 215/375 [00:07<00:05, 28.49it/s]\u001b[A\n",
      " 58%|█████▊    | 219/375 [00:08<00:05, 27.82it/s]\u001b[A\n",
      " 59%|█████▉    | 223/375 [00:08<00:05, 26.65it/s]\u001b[A\n",
      " 61%|██████    | 227/375 [00:08<00:05, 27.58it/s]\u001b[A\n",
      " 62%|██████▏   | 231/375 [00:08<00:05, 27.83it/s]\u001b[A\n",
      " 63%|██████▎   | 235/375 [00:08<00:05, 26.68it/s]\u001b[A\n",
      " 64%|██████▎   | 239/375 [00:08<00:04, 28.03it/s]\u001b[A\n",
      " 65%|██████▍   | 243/375 [00:08<00:04, 27.08it/s]\u001b[A\n",
      " 66%|██████▌   | 247/375 [00:09<00:04, 27.99it/s]\u001b[A\n",
      " 67%|██████▋   | 251/375 [00:09<00:04, 27.63it/s]\u001b[A\n",
      " 68%|██████▊   | 255/375 [00:09<00:04, 28.08it/s]\u001b[A\n",
      " 69%|██████▉   | 259/375 [00:09<00:04, 28.83it/s]\u001b[A\n",
      " 70%|███████   | 263/375 [00:09<00:04, 27.68it/s]\u001b[A\n",
      " 71%|███████   | 267/375 [00:09<00:03, 27.68it/s]\u001b[A\n",
      " 72%|███████▏  | 271/375 [00:09<00:03, 26.81it/s]\u001b[A\n",
      " 73%|███████▎  | 275/375 [00:10<00:04, 24.13it/s]\u001b[A\n",
      " 74%|███████▍  | 279/375 [00:10<00:03, 25.65it/s]\u001b[A\n",
      " 75%|███████▌  | 283/375 [00:10<00:03, 26.37it/s]\u001b[A\n",
      " 77%|███████▋  | 287/375 [00:10<00:03, 27.19it/s]\u001b[A\n",
      " 78%|███████▊  | 291/375 [00:10<00:02, 28.22it/s]\u001b[A\n",
      " 79%|███████▊  | 295/375 [00:10<00:02, 27.63it/s]\u001b[A\n",
      " 80%|███████▉  | 299/375 [00:10<00:02, 28.96it/s]\u001b[A\n",
      " 81%|████████  | 303/375 [00:11<00:02, 28.25it/s]\u001b[A\n",
      " 82%|████████▏ | 307/375 [00:11<00:02, 27.52it/s]\u001b[A\n",
      " 83%|████████▎ | 311/375 [00:11<00:02, 28.54it/s]\u001b[A\n",
      " 84%|████████▍ | 315/375 [00:11<00:02, 27.67it/s]\u001b[A\n",
      " 85%|████████▌ | 319/375 [00:11<00:02, 26.76it/s]\u001b[A\n",
      " 86%|████████▌ | 323/375 [00:11<00:01, 27.04it/s]\u001b[A\n",
      " 87%|████████▋ | 327/375 [00:11<00:01, 27.57it/s]\u001b[A\n",
      " 88%|████████▊ | 331/375 [00:12<00:01, 27.74it/s]\u001b[A\n",
      " 89%|████████▉ | 335/375 [00:12<00:01, 20.94it/s]\u001b[A\n",
      " 90%|█████████ | 339/375 [00:12<00:01, 22.81it/s]\u001b[A\n",
      " 91%|█████████▏| 343/375 [00:12<00:01, 24.88it/s]\u001b[A\n",
      " 93%|█████████▎| 347/375 [00:12<00:01, 25.61it/s]\u001b[A\n",
      " 94%|█████████▎| 351/375 [00:12<00:00, 27.44it/s]\u001b[A\n",
      " 95%|█████████▍| 355/375 [00:13<00:00, 27.16it/s]\u001b[A\n",
      " 96%|█████████▌| 359/375 [00:13<00:00, 27.55it/s]\u001b[A\n",
      " 97%|█████████▋| 363/375 [00:13<00:00, 28.63it/s]\u001b[A\n",
      " 98%|█████████▊| 367/375 [00:13<00:00, 28.55it/s]\u001b[A\n",
      " 99%|█████████▉| 371/375 [00:13<00:00, 29.12it/s]\u001b[A\n",
      "100%|██████████| 375/375 [00:13<00:00, 27.20it/s]\u001b[A\n",
      "\n",
      "  0%|          | 0/94 [00:00<?, ?it/s]\u001b[A"
     ]
    },
    {
     "name": "stdout",
     "output_type": "stream",
     "text": [
      "===[EPOCH:    4]===========================\n",
      "train_loss = 0.407802599, train_acc = 0.8780417\n"
     ]
    },
    {
     "name": "stderr",
     "output_type": "stream",
     "text": [
      "\n",
      "  1%|          | 1/94 [00:00<00:29,  3.20it/s]\u001b[A\n",
      "  5%|▌         | 5/94 [00:00<00:20,  4.36it/s]\u001b[A\n",
      " 10%|▉         | 9/94 [00:00<00:14,  5.85it/s]\u001b[A\n",
      " 14%|█▍        | 13/94 [00:00<00:10,  7.73it/s]\u001b[A\n",
      " 17%|█▋        | 16/94 [00:00<00:08,  9.74it/s]\u001b[A\n",
      " 21%|██▏       | 20/94 [00:00<00:06, 12.25it/s]\u001b[A\n",
      " 26%|██▌       | 24/94 [00:01<00:04, 14.99it/s]\u001b[A\n",
      " 30%|██▉       | 28/94 [00:01<00:03, 17.91it/s]\u001b[A\n",
      " 33%|███▎      | 31/94 [00:01<00:03, 20.08it/s]\u001b[A\n",
      " 36%|███▌      | 34/94 [00:01<00:03, 19.51it/s]\u001b[A\n",
      " 40%|████      | 38/94 [00:01<00:02, 22.03it/s]\u001b[A\n",
      " 45%|████▍     | 42/94 [00:01<00:02, 24.02it/s]\u001b[A\n",
      " 49%|████▉     | 46/94 [00:01<00:01, 26.04it/s]\u001b[A\n",
      " 53%|█████▎    | 50/94 [00:02<00:01, 26.94it/s]\u001b[A\n",
      " 56%|█████▋    | 53/94 [00:02<00:01, 27.56it/s]\u001b[A\n",
      " 61%|██████    | 57/94 [00:02<00:01, 27.96it/s]\u001b[A\n",
      " 64%|██████▍   | 60/94 [00:02<00:01, 28.44it/s]\u001b[A\n",
      " 67%|██████▋   | 63/94 [00:02<00:01, 27.64it/s]\u001b[A\n",
      " 71%|███████▏  | 67/94 [00:02<00:00, 27.62it/s]\u001b[A\n",
      " 76%|███████▌  | 71/94 [00:02<00:00, 27.93it/s]\u001b[A\n",
      " 80%|███████▉  | 75/94 [00:02<00:00, 27.54it/s]\u001b[A\n",
      " 84%|████████▍ | 79/94 [00:03<00:00, 28.09it/s]\u001b[A\n",
      " 88%|████████▊ | 83/94 [00:03<00:00, 26.93it/s]\u001b[A\n",
      " 93%|█████████▎| 87/94 [00:03<00:00, 27.66it/s]\u001b[A\n",
      " 96%|█████████▌| 90/94 [00:03<00:00, 27.50it/s]\u001b[A\n",
      "100%|██████████| 94/94 [00:03<00:00, 26.20it/s]\u001b[A\n",
      "\n",
      "  0%|          | 0/375 [00:00<?, ?it/s]\u001b[A"
     ]
    },
    {
     "name": "stdout",
     "output_type": "stream",
     "text": [
      "val_loss = 0.414753147, val_acc = 0.8698333\n",
      "============================================\n"
     ]
    },
    {
     "name": "stderr",
     "output_type": "stream",
     "text": [
      "\n",
      "  0%|          | 1/375 [00:00<02:51,  2.18it/s]\u001b[A\n",
      "  1%|▏         | 5/375 [00:00<02:03,  3.01it/s]\u001b[A\n",
      "  2%|▏         | 9/375 [00:00<01:28,  4.11it/s]\u001b[A\n",
      "  3%|▎         | 13/375 [00:00<01:05,  5.51it/s]\u001b[A\n",
      "  5%|▍         | 17/375 [00:01<00:49,  7.24it/s]\u001b[A\n",
      "  6%|▌         | 21/375 [00:01<00:38,  9.26it/s]\u001b[A\n",
      "  7%|▋         | 25/375 [00:01<00:30, 11.59it/s]\u001b[A\n",
      "  8%|▊         | 29/375 [00:01<00:24, 14.18it/s]\u001b[A\n",
      "  9%|▉         | 33/375 [00:01<00:20, 16.37it/s]\u001b[A\n",
      " 10%|▉         | 37/375 [00:01<00:18, 18.12it/s]\u001b[A\n",
      " 11%|█         | 41/375 [00:01<00:16, 20.46it/s]\u001b[A\n",
      " 12%|█▏        | 45/375 [00:02<00:14, 22.59it/s]\u001b[A\n",
      " 13%|█▎        | 49/375 [00:02<00:14, 23.12it/s]\u001b[A\n",
      " 14%|█▍        | 53/375 [00:02<00:12, 24.84it/s]\u001b[A\n",
      " 15%|█▌        | 57/375 [00:02<00:12, 25.61it/s]\u001b[A\n",
      " 16%|█▋        | 61/375 [00:02<00:12, 25.95it/s]\u001b[A\n",
      " 17%|█▋        | 65/375 [00:02<00:11, 25.99it/s]\u001b[A\n",
      " 18%|█▊        | 69/375 [00:02<00:11, 26.14it/s]\u001b[A\n",
      " 19%|█▉        | 73/375 [00:03<00:11, 26.11it/s]\u001b[A\n",
      " 20%|██        | 76/375 [00:03<00:11, 25.80it/s]\u001b[A\n",
      " 21%|██        | 79/375 [00:03<00:12, 24.24it/s]\u001b[A\n",
      " 22%|██▏       | 83/375 [00:03<00:11, 24.88it/s]\u001b[A\n",
      " 23%|██▎       | 87/375 [00:03<00:10, 26.27it/s]\u001b[A\n",
      " 24%|██▍       | 91/375 [00:03<00:10, 26.18it/s]\u001b[A\n",
      " 25%|██▌       | 95/375 [00:03<00:10, 27.06it/s]\u001b[A\n",
      " 26%|██▋       | 99/375 [00:04<00:09, 28.78it/s]\u001b[A\n",
      " 27%|██▋       | 103/375 [00:04<00:09, 27.58it/s]\u001b[A\n",
      " 29%|██▊       | 107/375 [00:04<00:09, 28.74it/s]\u001b[A\n",
      " 30%|██▉       | 111/375 [00:04<00:09, 28.31it/s]\u001b[A\n",
      " 31%|███       | 115/375 [00:04<00:08, 28.98it/s]\u001b[A\n",
      " 32%|███▏      | 119/375 [00:04<00:08, 29.63it/s]\u001b[A\n",
      " 33%|███▎      | 123/375 [00:04<00:08, 28.87it/s]\u001b[A\n",
      " 34%|███▍      | 127/375 [00:05<00:08, 28.94it/s]\u001b[A\n",
      " 35%|███▍      | 131/375 [00:05<00:08, 30.19it/s]\u001b[A\n",
      " 36%|███▌      | 135/375 [00:05<00:08, 28.98it/s]\u001b[A\n",
      " 37%|███▋      | 139/375 [00:05<00:08, 28.87it/s]\u001b[A\n",
      " 38%|███▊      | 143/375 [00:05<00:07, 30.03it/s]\u001b[A\n",
      " 39%|███▉      | 147/375 [00:05<00:08, 28.40it/s]\u001b[A\n",
      " 40%|████      | 151/375 [00:05<00:07, 28.19it/s]\u001b[A\n",
      " 41%|████▏     | 155/375 [00:06<00:07, 28.06it/s]\u001b[A\n",
      " 42%|████▏     | 159/375 [00:06<00:08, 24.62it/s]\u001b[A\n",
      " 43%|████▎     | 163/375 [00:06<00:08, 25.40it/s]\u001b[A\n",
      " 45%|████▍     | 167/375 [00:06<00:08, 25.82it/s]\u001b[A\n",
      " 46%|████▌     | 171/375 [00:06<00:07, 27.16it/s]\u001b[A\n",
      " 47%|████▋     | 175/375 [00:06<00:07, 27.11it/s]\u001b[A\n",
      " 48%|████▊     | 179/375 [00:06<00:06, 28.59it/s]\u001b[A\n",
      " 49%|████▉     | 183/375 [00:07<00:06, 28.93it/s]\u001b[A\n",
      " 50%|████▉     | 187/375 [00:07<00:06, 28.21it/s]\u001b[A\n",
      " 51%|█████     | 191/375 [00:07<00:06, 29.15it/s]\u001b[A\n",
      " 52%|█████▏    | 195/375 [00:07<00:06, 29.51it/s]\u001b[A\n",
      " 53%|█████▎    | 199/375 [00:07<00:06, 28.15it/s]\u001b[A\n",
      " 54%|█████▍    | 203/375 [00:07<00:05, 29.26it/s]\u001b[A\n",
      " 55%|█████▌    | 207/375 [00:07<00:05, 28.44it/s]\u001b[A\n",
      " 56%|█████▋    | 211/375 [00:08<00:05, 29.26it/s]\u001b[A\n",
      " 57%|█████▋    | 215/375 [00:08<00:05, 29.58it/s]\u001b[A\n",
      " 58%|█████▊    | 219/375 [00:08<00:05, 29.21it/s]\u001b[A\n",
      " 59%|█████▉    | 223/375 [00:08<00:05, 29.97it/s]\u001b[A\n",
      " 61%|██████    | 227/375 [00:08<00:04, 30.53it/s]\u001b[A\n",
      " 62%|██████▏   | 231/375 [00:08<00:04, 30.63it/s]\u001b[A\n",
      " 63%|██████▎   | 235/375 [00:08<00:04, 30.39it/s]\u001b[A\n",
      " 64%|██████▎   | 239/375 [00:08<00:04, 30.73it/s]\u001b[A\n",
      " 65%|██████▍   | 243/375 [00:09<00:04, 30.79it/s]\u001b[A\n",
      " 66%|██████▌   | 247/375 [00:09<00:04, 26.82it/s]\u001b[A\n",
      " 67%|██████▋   | 251/375 [00:09<00:04, 27.44it/s]\u001b[A\n",
      " 68%|██████▊   | 255/375 [00:09<00:04, 28.41it/s]\u001b[A\n",
      " 69%|██████▉   | 259/375 [00:09<00:03, 29.14it/s]\u001b[A\n",
      " 70%|███████   | 263/375 [00:09<00:03, 28.95it/s]\u001b[A\n",
      " 71%|███████   | 267/375 [00:09<00:03, 28.26it/s]\u001b[A\n",
      " 72%|███████▏  | 271/375 [00:10<00:03, 28.96it/s]\u001b[A\n",
      " 73%|███████▎  | 275/375 [00:10<00:03, 27.56it/s]\u001b[A\n",
      " 74%|███████▍  | 279/375 [00:10<00:03, 28.36it/s]\u001b[A\n",
      " 75%|███████▌  | 283/375 [00:10<00:03, 28.04it/s]\u001b[A\n",
      " 77%|███████▋  | 287/375 [00:10<00:03, 29.02it/s]\u001b[A\n",
      " 78%|███████▊  | 291/375 [00:10<00:02, 29.76it/s]\u001b[A\n",
      " 79%|███████▊  | 295/375 [00:10<00:02, 29.98it/s]\u001b[A\n",
      " 80%|███████▉  | 299/375 [00:11<00:02, 30.44it/s]\u001b[A\n",
      " 81%|████████  | 303/375 [00:11<00:02, 31.16it/s]\u001b[A\n",
      " 82%|████████▏ | 307/375 [00:11<00:02, 29.29it/s]\u001b[A\n",
      " 83%|████████▎ | 311/375 [00:11<00:02, 28.35it/s]\u001b[A\n",
      " 84%|████████▎ | 314/375 [00:11<00:02, 22.01it/s]\u001b[A\n",
      " 85%|████████▍ | 317/375 [00:11<00:02, 21.06it/s]\u001b[A\n",
      " 86%|████████▌ | 321/375 [00:11<00:02, 23.35it/s]\u001b[A\n",
      " 87%|████████▋ | 325/375 [00:12<00:02, 24.36it/s]\u001b[A\n",
      " 88%|████████▊ | 329/375 [00:12<00:01, 25.63it/s]\u001b[A\n",
      " 89%|████████▉ | 333/375 [00:12<00:01, 26.34it/s]\u001b[A\n",
      " 90%|████████▉ | 337/375 [00:12<00:01, 26.07it/s]\u001b[A\n",
      " 91%|█████████ | 341/375 [00:12<00:01, 27.43it/s]\u001b[A\n",
      " 92%|█████████▏| 345/375 [00:12<00:01, 27.39it/s]\u001b[A\n",
      " 93%|█████████▎| 349/375 [00:12<00:00, 27.54it/s]\u001b[A\n",
      " 94%|█████████▍| 353/375 [00:13<00:00, 27.18it/s]\u001b[A\n",
      " 95%|█████████▌| 357/375 [00:13<00:00, 27.27it/s]\u001b[A\n",
      " 96%|█████████▋| 361/375 [00:13<00:00, 27.15it/s]\u001b[A\n",
      " 97%|█████████▋| 365/375 [00:13<00:00, 27.16it/s]\u001b[A\n",
      " 98%|█████████▊| 369/375 [00:13<00:00, 28.18it/s]\u001b[A\n",
      "100%|██████████| 375/375 [00:14<00:00, 26.60it/s]\u001b[A\n",
      "\n",
      "  0%|          | 0/94 [00:00<?, ?it/s]\u001b[A"
     ]
    },
    {
     "name": "stdout",
     "output_type": "stream",
     "text": [
      "===[EPOCH:    5]===========================\n",
      "train_loss = 0.393007561, train_acc = 0.8802292\n"
     ]
    },
    {
     "name": "stderr",
     "output_type": "stream",
     "text": [
      "\n",
      "  1%|          | 1/94 [00:00<00:40,  2.27it/s]\u001b[A\n",
      "  5%|▌         | 5/94 [00:00<00:28,  3.14it/s]\u001b[A\n",
      " 10%|▉         | 9/94 [00:00<00:19,  4.27it/s]\u001b[A\n",
      " 14%|█▍        | 13/94 [00:00<00:14,  5.75it/s]\u001b[A\n",
      " 17%|█▋        | 16/94 [00:00<00:10,  7.57it/s]\u001b[A\n",
      " 20%|██        | 19/94 [00:01<00:07,  9.65it/s]\u001b[A\n",
      " 23%|██▎       | 22/94 [00:01<00:06, 12.00it/s]\u001b[A\n",
      " 28%|██▊       | 26/94 [00:01<00:04, 14.43it/s]\u001b[A\n",
      " 32%|███▏      | 30/94 [00:01<00:03, 17.18it/s]\u001b[A\n",
      " 35%|███▌      | 33/94 [00:01<00:03, 19.29it/s]\u001b[A\n",
      " 38%|███▊      | 36/94 [00:01<00:02, 21.54it/s]\u001b[A\n",
      " 41%|████▏     | 39/94 [00:01<00:02, 22.08it/s]\u001b[A\n",
      " 45%|████▍     | 42/94 [00:01<00:02, 23.40it/s]\u001b[A\n",
      " 48%|████▊     | 45/94 [00:02<00:02, 24.41it/s]\u001b[A\n",
      " 51%|█████     | 48/94 [00:02<00:01, 24.81it/s]\u001b[A\n",
      " 54%|█████▍    | 51/94 [00:02<00:01, 25.29it/s]\u001b[A\n",
      " 57%|█████▋    | 54/94 [00:02<00:01, 25.83it/s]\u001b[A\n",
      " 61%|██████    | 57/94 [00:02<00:01, 25.82it/s]\u001b[A\n",
      " 65%|██████▍   | 61/94 [00:02<00:01, 26.15it/s]\u001b[A\n",
      " 68%|██████▊   | 64/94 [00:02<00:01, 27.03it/s]\u001b[A\n",
      " 71%|███████▏  | 67/94 [00:02<00:01, 26.62it/s]\u001b[A\n",
      " 74%|███████▍  | 70/94 [00:03<00:01, 22.55it/s]\u001b[A\n",
      " 78%|███████▊  | 73/94 [00:03<00:00, 23.77it/s]\u001b[A\n",
      " 81%|████████  | 76/94 [00:03<00:00, 25.30it/s]\u001b[A\n",
      " 84%|████████▍ | 79/94 [00:03<00:00, 25.43it/s]\u001b[A\n",
      " 88%|████████▊ | 83/94 [00:03<00:00, 25.94it/s]\u001b[A\n",
      " 91%|█████████▏| 86/94 [00:03<00:00, 26.06it/s]\u001b[A\n",
      " 95%|█████████▍| 89/94 [00:03<00:00, 26.14it/s]\u001b[A\n",
      "100%|██████████| 94/94 [00:03<00:00, 24.00it/s]\u001b[A\n",
      "\n",
      "  0%|          | 0/375 [00:00<?, ?it/s]\u001b[A"
     ]
    },
    {
     "name": "stdout",
     "output_type": "stream",
     "text": [
      "val_loss = 0.398533754, val_acc = 0.8798333\n",
      "============================================\n"
     ]
    },
    {
     "name": "stderr",
     "output_type": "stream",
     "text": [
      "\n",
      "  0%|          | 1/375 [00:00<02:55,  2.13it/s]\u001b[A\n",
      "  1%|          | 4/375 [00:00<02:05,  2.95it/s]\u001b[A\n",
      "  2%|▏         | 7/375 [00:00<01:31,  4.00it/s]\u001b[A\n",
      "  3%|▎         | 10/375 [00:00<01:07,  5.39it/s]\u001b[A\n",
      "  3%|▎         | 13/375 [00:00<00:51,  6.98it/s]\u001b[A\n",
      "  5%|▍         | 17/375 [00:01<00:40,  8.86it/s]\u001b[A\n",
      "  6%|▌         | 21/375 [00:01<00:32, 10.90it/s]\u001b[A\n",
      "  7%|▋         | 25/375 [00:01<00:26, 13.37it/s]\u001b[A\n",
      "  8%|▊         | 29/375 [00:01<00:22, 15.58it/s]\u001b[A\n",
      "  9%|▉         | 33/375 [00:01<00:18, 18.07it/s]\u001b[A\n",
      " 10%|▉         | 37/375 [00:01<00:16, 20.33it/s]\u001b[A\n",
      " 11%|█         | 41/375 [00:02<00:15, 21.53it/s]\u001b[A\n",
      " 12%|█▏        | 45/375 [00:02<00:14, 23.29it/s]\u001b[A\n",
      " 13%|█▎        | 49/375 [00:02<00:13, 23.71it/s]\u001b[A\n",
      " 14%|█▍        | 53/375 [00:02<00:12, 25.20it/s]\u001b[A\n",
      " 15%|█▌        | 57/375 [00:02<00:13, 22.86it/s]\u001b[A\n",
      " 16%|█▋        | 61/375 [00:02<00:13, 23.73it/s]\u001b[A\n",
      " 17%|█▋        | 65/375 [00:02<00:12, 24.18it/s]\u001b[A\n",
      " 18%|█▊        | 69/375 [00:03<00:11, 25.65it/s]\u001b[A\n",
      " 19%|█▉        | 73/375 [00:03<00:11, 26.83it/s]\u001b[A\n",
      " 21%|██        | 77/375 [00:03<00:11, 26.35it/s]\u001b[A\n",
      " 22%|██▏       | 81/375 [00:03<00:10, 27.11it/s]\u001b[A\n",
      " 23%|██▎       | 85/375 [00:03<00:10, 26.46it/s]\u001b[A\n",
      " 24%|██▎       | 89/375 [00:03<00:10, 27.17it/s]\u001b[A\n",
      " 25%|██▍       | 93/375 [00:03<00:10, 27.06it/s]\u001b[A\n",
      " 26%|██▌       | 97/375 [00:04<00:09, 28.15it/s]\u001b[A\n",
      " 27%|██▋       | 101/375 [00:04<00:09, 28.32it/s]\u001b[A\n",
      " 28%|██▊       | 105/375 [00:04<00:09, 28.42it/s]\u001b[A\n",
      " 29%|██▉       | 109/375 [00:04<00:09, 29.05it/s]\u001b[A\n",
      " 30%|███       | 113/375 [00:04<00:09, 28.14it/s]\u001b[A\n",
      " 31%|███       | 117/375 [00:04<00:09, 27.76it/s]\u001b[A\n",
      " 32%|███▏      | 121/375 [00:05<00:11, 22.58it/s]\u001b[A\n",
      " 33%|███▎      | 125/375 [00:05<00:10, 24.33it/s]\u001b[A\n",
      " 34%|███▍      | 129/375 [00:05<00:09, 26.22it/s]\u001b[A\n",
      " 35%|███▌      | 133/375 [00:05<00:09, 25.69it/s]\u001b[A\n",
      " 37%|███▋      | 137/375 [00:05<00:08, 27.61it/s]\u001b[A\n",
      " 38%|███▊      | 141/375 [00:05<00:08, 28.96it/s]\u001b[A\n",
      " 39%|███▊      | 145/375 [00:05<00:07, 28.94it/s]\u001b[A\n",
      " 40%|███▉      | 149/375 [00:06<00:07, 29.33it/s]\u001b[A\n",
      " 41%|████      | 153/375 [00:06<00:07, 29.48it/s]\u001b[A\n",
      " 42%|████▏     | 157/375 [00:06<00:07, 27.71it/s]\u001b[A\n",
      " 43%|████▎     | 161/375 [00:06<00:07, 29.14it/s]\u001b[A\n",
      " 44%|████▍     | 165/375 [00:06<00:07, 28.79it/s]\u001b[A\n",
      " 45%|████▌     | 169/375 [00:06<00:07, 29.28it/s]\u001b[A\n",
      " 46%|████▌     | 173/375 [00:06<00:06, 30.34it/s]\u001b[A\n",
      " 47%|████▋     | 177/375 [00:06<00:06, 29.24it/s]\u001b[A\n",
      " 48%|████▊     | 181/375 [00:07<00:06, 30.14it/s]\u001b[A\n",
      " 49%|████▉     | 185/375 [00:07<00:06, 30.00it/s]\u001b[A\n",
      " 50%|█████     | 189/375 [00:07<00:06, 28.96it/s]\u001b[A\n",
      " 51%|█████▏    | 193/375 [00:07<00:06, 29.15it/s]\u001b[A\n",
      " 53%|█████▎    | 197/375 [00:07<00:05, 29.72it/s]\u001b[A\n",
      " 54%|█████▎    | 201/375 [00:07<00:06, 28.11it/s]\u001b[A\n",
      " 55%|█████▍    | 205/375 [00:07<00:05, 29.31it/s]\u001b[A\n",
      " 55%|█████▌    | 208/375 [00:08<00:06, 24.57it/s]\u001b[A\n",
      " 56%|█████▋    | 211/375 [00:08<00:07, 22.36it/s]\u001b[A\n",
      " 57%|█████▋    | 215/375 [00:08<00:06, 23.99it/s]\u001b[A\n",
      " 58%|█████▊    | 219/375 [00:08<00:06, 24.77it/s]\u001b[A\n",
      " 59%|█████▉    | 223/375 [00:08<00:05, 25.81it/s]\u001b[A\n",
      " 61%|██████    | 227/375 [00:08<00:05, 26.73it/s]\u001b[A\n",
      " 62%|██████▏   | 231/375 [00:08<00:05, 28.18it/s]\u001b[A\n",
      " 63%|██████▎   | 235/375 [00:09<00:05, 27.87it/s]\u001b[A\n",
      " 64%|██████▎   | 239/375 [00:09<00:04, 27.96it/s]\u001b[A\n",
      " 65%|██████▍   | 243/375 [00:09<00:04, 28.19it/s]\u001b[A\n",
      " 66%|██████▌   | 247/375 [00:09<00:04, 28.44it/s]\u001b[A\n",
      " 67%|██████▋   | 251/375 [00:09<00:04, 29.20it/s]\u001b[A\n",
      " 68%|██████▊   | 255/375 [00:09<00:04, 29.01it/s]\u001b[A\n",
      " 69%|██████▉   | 259/375 [00:09<00:03, 29.10it/s]\u001b[A\n",
      " 70%|███████   | 263/375 [00:10<00:03, 29.44it/s]\u001b[A\n",
      " 71%|███████   | 267/375 [00:10<00:03, 29.64it/s]\u001b[A\n",
      " 72%|███████▏  | 270/375 [00:10<00:04, 23.09it/s]\u001b[A\n",
      " 73%|███████▎  | 273/375 [00:10<00:04, 23.43it/s]\u001b[A\n",
      " 74%|███████▍  | 277/375 [00:10<00:03, 24.78it/s]\u001b[A\n",
      " 75%|███████▍  | 281/375 [00:10<00:03, 25.49it/s]\u001b[A\n",
      " 76%|███████▌  | 285/375 [00:10<00:03, 27.14it/s]\u001b[A\n",
      " 77%|███████▋  | 289/375 [00:11<00:03, 28.09it/s]\u001b[A\n",
      " 78%|███████▊  | 293/375 [00:11<00:02, 27.42it/s]\u001b[A\n",
      " 79%|███████▉  | 297/375 [00:11<00:02, 27.54it/s]\u001b[A\n",
      " 80%|████████  | 301/375 [00:11<00:02, 28.28it/s]\u001b[A\n",
      " 81%|████████▏ | 305/375 [00:11<00:02, 28.47it/s]\u001b[A\n",
      " 82%|████████▏ | 309/375 [00:11<00:02, 26.94it/s]\u001b[A\n",
      " 83%|████████▎ | 313/375 [00:11<00:02, 27.61it/s]\u001b[A\n",
      " 85%|████████▍ | 317/375 [00:12<00:02, 26.99it/s]\u001b[A\n",
      " 86%|████████▌ | 321/375 [00:12<00:01, 27.36it/s]\u001b[A\n",
      " 87%|████████▋ | 325/375 [00:12<00:01, 28.18it/s]\u001b[A\n",
      " 88%|████████▊ | 329/375 [00:12<00:01, 28.30it/s]\u001b[A\n",
      " 89%|████████▉ | 333/375 [00:12<00:01, 28.82it/s]\u001b[A\n",
      " 90%|████████▉ | 336/375 [00:12<00:01, 19.91it/s]\u001b[A\n",
      " 90%|█████████ | 339/375 [00:13<00:01, 18.15it/s]\u001b[A\n",
      " 91%|█████████▏| 343/375 [00:13<00:01, 20.69it/s]\u001b[A\n",
      " 93%|█████████▎| 347/375 [00:13<00:01, 23.03it/s]\u001b[A\n",
      " 94%|█████████▎| 351/375 [00:13<00:00, 24.46it/s]\u001b[A\n",
      " 95%|█████████▍| 355/375 [00:13<00:00, 25.78it/s]\u001b[A\n",
      " 96%|█████████▌| 359/375 [00:13<00:00, 27.81it/s]\u001b[A\n",
      " 97%|█████████▋| 363/375 [00:13<00:00, 27.10it/s]\u001b[A\n",
      " 98%|█████████▊| 367/375 [00:14<00:00, 27.81it/s]\u001b[A\n",
      " 99%|█████████▉| 371/375 [00:14<00:00, 28.36it/s]\u001b[A\n",
      "100%|██████████| 375/375 [00:14<00:00, 26.22it/s]\u001b[A\n",
      "\n",
      "  0%|          | 0/94 [00:00<?, ?it/s]\u001b[A"
     ]
    },
    {
     "name": "stdout",
     "output_type": "stream",
     "text": [
      "===[EPOCH:    6]===========================\n",
      "train_loss = 0.375422181, train_acc = 0.8873958\n"
     ]
    },
    {
     "name": "stderr",
     "output_type": "stream",
     "text": [
      "\n",
      "  1%|          | 1/94 [00:00<00:34,  2.71it/s]\u001b[A\n",
      "  5%|▌         | 5/94 [00:00<00:23,  3.73it/s]\u001b[A\n",
      " 10%|▉         | 9/94 [00:00<00:16,  5.09it/s]\u001b[A\n",
      " 14%|█▍        | 13/94 [00:00<00:12,  6.74it/s]\u001b[A\n",
      " 18%|█▊        | 17/94 [00:00<00:08,  8.79it/s]\u001b[A\n",
      " 22%|██▏       | 21/94 [00:01<00:06, 11.23it/s]\u001b[A\n",
      " 27%|██▋       | 25/94 [00:01<00:05, 13.55it/s]\u001b[A\n",
      " 31%|███       | 29/94 [00:01<00:04, 16.19it/s]\u001b[A\n",
      " 35%|███▌      | 33/94 [00:01<00:03, 18.86it/s]\u001b[A\n",
      " 38%|███▊      | 36/94 [00:01<00:02, 19.79it/s]\u001b[A\n",
      " 41%|████▏     | 39/94 [00:01<00:02, 20.42it/s]\u001b[A\n",
      " 46%|████▌     | 43/94 [00:01<00:02, 23.06it/s]\u001b[A\n",
      " 50%|█████     | 47/94 [00:01<00:01, 24.41it/s]\u001b[A\n",
      " 54%|█████▍    | 51/94 [00:02<00:01, 25.57it/s]\u001b[A\n",
      " 59%|█████▊    | 55/94 [00:02<00:01, 26.98it/s]\u001b[A\n",
      " 63%|██████▎   | 59/94 [00:02<00:01, 26.40it/s]\u001b[A\n",
      " 67%|██████▋   | 63/94 [00:02<00:01, 25.94it/s]\u001b[A\n",
      " 71%|███████▏  | 67/94 [00:02<00:01, 26.96it/s]\u001b[A\n",
      " 76%|███████▌  | 71/94 [00:02<00:00, 27.67it/s]\u001b[A\n",
      " 80%|███████▉  | 75/94 [00:02<00:00, 27.44it/s]\u001b[A\n",
      " 84%|████████▍ | 79/94 [00:03<00:00, 27.58it/s]\u001b[A\n",
      " 88%|████████▊ | 83/94 [00:03<00:00, 28.89it/s]\u001b[A\n",
      " 93%|█████████▎| 87/94 [00:03<00:00, 28.35it/s]\u001b[A\n",
      "100%|██████████| 94/94 [00:03<00:00, 25.96it/s]\u001b[A\n",
      "\n",
      "  0%|          | 0/375 [00:00<?, ?it/s]\u001b[A"
     ]
    },
    {
     "name": "stdout",
     "output_type": "stream",
     "text": [
      "val_loss = 0.373921823, val_acc = 0.8889167\n",
      "============================================\n"
     ]
    },
    {
     "name": "stderr",
     "output_type": "stream",
     "text": [
      "\n",
      "  0%|          | 1/375 [00:00<05:24,  1.15it/s]\u001b[A\n",
      "  1%|          | 4/375 [00:00<03:49,  1.62it/s]\u001b[A\n",
      "  2%|▏         | 7/375 [00:01<02:43,  2.26it/s]\u001b[A\n",
      "  3%|▎         | 10/375 [00:01<01:57,  3.10it/s]\u001b[A\n",
      "  4%|▎         | 14/375 [00:01<01:25,  4.23it/s]\u001b[A\n",
      "  5%|▍         | 18/375 [00:01<01:02,  5.67it/s]\u001b[A\n",
      "  6%|▌         | 22/375 [00:01<00:48,  7.34it/s]\u001b[A\n",
      "  7%|▋         | 26/375 [00:01<00:36,  9.45it/s]\u001b[A\n",
      "  8%|▊         | 30/375 [00:01<00:29, 11.71it/s]\u001b[A\n",
      "  9%|▉         | 34/375 [00:02<00:23, 14.26it/s]\u001b[A\n",
      " 10%|█         | 38/375 [00:02<00:20, 16.45it/s]\u001b[A\n",
      " 11%|█         | 42/375 [00:02<00:17, 18.92it/s]\u001b[A\n",
      " 12%|█▏        | 45/375 [00:02<00:19, 16.58it/s]\u001b[A\n",
      " 13%|█▎        | 48/375 [00:02<00:18, 17.45it/s]\u001b[A\n",
      " 14%|█▍        | 52/375 [00:02<00:15, 20.21it/s]\u001b[A\n",
      " 15%|█▍        | 56/375 [00:03<00:14, 22.16it/s]\u001b[A\n",
      " 16%|█▌        | 60/375 [00:03<00:12, 24.44it/s]\u001b[A\n",
      " 17%|█▋        | 64/375 [00:03<00:11, 26.50it/s]\u001b[A\n",
      " 18%|█▊        | 68/375 [00:03<00:10, 28.28it/s]\u001b[A\n",
      " 19%|█▉        | 72/375 [00:03<00:10, 27.99it/s]\u001b[A\n",
      " 20%|██        | 76/375 [00:03<00:10, 28.60it/s]\u001b[A\n",
      " 21%|██▏       | 80/375 [00:03<00:09, 30.30it/s]\u001b[A\n",
      " 22%|██▏       | 84/375 [00:03<00:10, 28.96it/s]\u001b[A\n",
      " 23%|██▎       | 88/375 [00:04<00:09, 29.25it/s]\u001b[A\n",
      " 25%|██▍       | 92/375 [00:04<00:09, 29.51it/s]\u001b[A\n",
      " 26%|██▌       | 96/375 [00:04<00:09, 28.41it/s]\u001b[A\n",
      " 27%|██▋       | 100/375 [00:04<00:09, 29.19it/s]\u001b[A\n",
      " 28%|██▊       | 104/375 [00:04<00:09, 28.98it/s]\u001b[A\n",
      " 29%|██▉       | 108/375 [00:04<00:09, 29.42it/s]\u001b[A\n",
      " 30%|██▉       | 112/375 [00:05<00:11, 22.60it/s]\u001b[A\n",
      " 31%|███       | 116/375 [00:05<00:10, 23.64it/s]\u001b[A\n",
      " 32%|███▏      | 120/375 [00:05<00:10, 24.41it/s]\u001b[A\n",
      " 33%|███▎      | 123/375 [00:05<00:09, 25.77it/s]\u001b[A\n",
      " 34%|███▎      | 126/375 [00:05<00:10, 23.76it/s]\u001b[A\n",
      " 35%|███▍      | 130/375 [00:05<00:10, 24.38it/s]\u001b[A\n",
      " 36%|███▌      | 134/375 [00:05<00:09, 25.08it/s]\u001b[A\n",
      " 37%|███▋      | 138/375 [00:06<00:09, 25.33it/s]\u001b[A\n",
      " 38%|███▊      | 141/375 [00:06<00:08, 26.46it/s]\u001b[A\n",
      " 38%|███▊      | 144/375 [00:06<00:09, 25.21it/s]\u001b[A\n",
      " 39%|███▉      | 148/375 [00:06<00:09, 25.15it/s]\u001b[A\n",
      " 41%|████      | 152/375 [00:06<00:08, 25.62it/s]\u001b[A\n",
      " 42%|████▏     | 156/375 [00:06<00:08, 26.09it/s]\u001b[A\n",
      " 43%|████▎     | 160/375 [00:06<00:08, 26.79it/s]\u001b[A\n",
      " 44%|████▎     | 164/375 [00:07<00:07, 27.62it/s]\u001b[A\n",
      " 45%|████▍     | 168/375 [00:07<00:07, 27.24it/s]\u001b[A\n",
      " 46%|████▌     | 172/375 [00:07<00:07, 28.74it/s]\u001b[A\n",
      " 47%|████▋     | 176/375 [00:07<00:07, 27.94it/s]\u001b[A\n",
      " 48%|████▊     | 180/375 [00:07<00:07, 27.38it/s]\u001b[A\n",
      " 49%|████▉     | 184/375 [00:07<00:07, 27.19it/s]\u001b[A\n",
      " 50%|█████     | 188/375 [00:07<00:06, 27.61it/s]\u001b[A\n",
      " 51%|█████     | 192/375 [00:08<00:06, 27.03it/s]\u001b[A\n",
      " 52%|█████▏    | 196/375 [00:08<00:06, 28.00it/s]\u001b[A\n",
      " 53%|█████▎    | 200/375 [00:08<00:06, 28.40it/s]\u001b[A\n",
      " 54%|█████▍    | 204/375 [00:08<00:06, 27.72it/s]\u001b[A\n",
      " 55%|█████▌    | 208/375 [00:08<00:06, 27.52it/s]\u001b[A\n",
      " 57%|█████▋    | 212/375 [00:08<00:06, 26.55it/s]\u001b[A\n",
      " 58%|█████▊    | 216/375 [00:08<00:06, 25.67it/s]\u001b[A\n",
      " 59%|█████▊    | 220/375 [00:09<00:05, 26.41it/s]\u001b[A\n",
      " 60%|█████▉    | 224/375 [00:09<00:05, 27.16it/s]\u001b[A\n",
      " 61%|██████    | 228/375 [00:09<00:05, 26.30it/s]\u001b[A\n",
      " 62%|██████▏   | 232/375 [00:09<00:05, 25.67it/s]\u001b[A\n",
      " 63%|██████▎   | 236/375 [00:09<00:05, 26.33it/s]\u001b[A\n",
      " 64%|██████▍   | 240/375 [00:09<00:05, 26.07it/s]\u001b[A\n",
      " 65%|██████▌   | 244/375 [00:09<00:04, 27.07it/s]\u001b[A\n",
      " 66%|██████▌   | 248/375 [00:10<00:04, 25.98it/s]\u001b[A\n",
      " 67%|██████▋   | 252/375 [00:10<00:04, 26.82it/s]\u001b[A\n",
      " 68%|██████▊   | 256/375 [00:10<00:04, 25.50it/s]\u001b[A\n",
      " 69%|██████▉   | 260/375 [00:10<00:04, 26.09it/s]\u001b[A\n",
      " 70%|███████   | 264/375 [00:10<00:04, 24.90it/s]\u001b[A\n",
      " 71%|███████▏  | 268/375 [00:10<00:04, 25.95it/s]\u001b[A\n",
      " 73%|███████▎  | 272/375 [00:11<00:03, 26.50it/s]\u001b[A\n",
      " 74%|███████▎  | 276/375 [00:11<00:03, 27.17it/s]\u001b[A\n",
      " 75%|███████▍  | 280/375 [00:11<00:03, 26.09it/s]\u001b[A\n",
      " 76%|███████▌  | 284/375 [00:11<00:03, 25.24it/s]\u001b[A\n",
      " 77%|███████▋  | 288/375 [00:11<00:03, 25.54it/s]\u001b[A\n",
      " 78%|███████▊  | 292/375 [00:11<00:03, 25.73it/s]\u001b[A\n",
      " 79%|███████▉  | 296/375 [00:11<00:03, 25.79it/s]\u001b[A\n",
      " 80%|████████  | 300/375 [00:12<00:02, 25.76it/s]\u001b[A\n",
      " 81%|████████  | 304/375 [00:12<00:02, 26.20it/s]\u001b[A\n",
      " 82%|████████▏ | 308/375 [00:12<00:02, 25.96it/s]\u001b[A\n",
      " 83%|████████▎ | 312/375 [00:12<00:02, 26.40it/s]\u001b[A\n",
      " 84%|████████▍ | 316/375 [00:12<00:02, 25.69it/s]\u001b[A\n",
      " 85%|████████▌ | 320/375 [00:12<00:02, 26.82it/s]\u001b[A\n",
      " 86%|████████▋ | 324/375 [00:13<00:01, 26.78it/s]\u001b[A\n",
      " 87%|████████▋ | 328/375 [00:13<00:01, 27.01it/s]\u001b[A\n",
      " 89%|████████▊ | 332/375 [00:13<00:01, 26.63it/s]\u001b[A\n",
      " 90%|████████▉ | 336/375 [00:13<00:01, 26.27it/s]\u001b[A\n",
      " 91%|█████████ | 340/375 [00:13<00:01, 26.45it/s]\u001b[A\n",
      " 92%|█████████▏| 344/375 [00:13<00:01, 26.99it/s]\u001b[A\n",
      " 93%|█████████▎| 347/375 [00:13<00:01, 27.32it/s]\u001b[A\n",
      " 93%|█████████▎| 350/375 [00:14<00:00, 27.35it/s]\u001b[A\n",
      " 94%|█████████▍| 354/375 [00:14<00:00, 26.31it/s]\u001b[A\n",
      " 95%|█████████▌| 357/375 [00:14<00:00, 27.26it/s]\u001b[A\n",
      " 96%|█████████▌| 360/375 [00:14<00:00, 25.84it/s]\u001b[A\n",
      " 97%|█████████▋| 363/375 [00:14<00:00, 25.11it/s]\u001b[A\n",
      " 98%|█████████▊| 366/375 [00:14<00:00, 24.85it/s]\u001b[A\n",
      " 99%|█████████▊| 370/375 [00:14<00:00, 25.79it/s]\u001b[A\n",
      "100%|██████████| 375/375 [00:15<00:00, 24.82it/s]\u001b[A\n",
      "\n",
      "  0%|          | 0/94 [00:00<?, ?it/s]\u001b[A"
     ]
    },
    {
     "name": "stdout",
     "output_type": "stream",
     "text": [
      "===[EPOCH:    7]===========================\n",
      "train_loss = 0.374740613, train_acc = 0.8882708\n"
     ]
    },
    {
     "name": "stderr",
     "output_type": "stream",
     "text": [
      "\n",
      "  1%|          | 1/94 [00:00<00:34,  2.67it/s]\u001b[A\n",
      "  4%|▍         | 4/94 [00:00<00:24,  3.66it/s]\u001b[A\n",
      "  7%|▋         | 7/94 [00:00<00:17,  4.94it/s]\u001b[A\n",
      " 11%|█         | 10/94 [00:00<00:13,  6.45it/s]\u001b[A\n",
      " 15%|█▍        | 14/94 [00:00<00:09,  8.46it/s]\u001b[A\n",
      " 18%|█▊        | 17/94 [00:00<00:07, 10.68it/s]\u001b[A\n",
      " 21%|██▏       | 20/94 [00:01<00:05, 13.11it/s]\u001b[A\n",
      " 24%|██▍       | 23/94 [00:01<00:04, 15.29it/s]\u001b[A\n",
      " 29%|██▊       | 27/94 [00:01<00:03, 17.25it/s]\u001b[A\n",
      " 33%|███▎      | 31/94 [00:01<00:03, 19.86it/s]\u001b[A\n",
      " 37%|███▋      | 35/94 [00:01<00:02, 21.88it/s]\u001b[A\n",
      " 41%|████▏     | 39/94 [00:01<00:02, 23.94it/s]\u001b[A\n",
      " 46%|████▌     | 43/94 [00:01<00:01, 26.21it/s]\u001b[A\n",
      " 50%|█████     | 47/94 [00:02<00:01, 26.36it/s]\u001b[A\n",
      " 54%|█████▍    | 51/94 [00:02<00:01, 27.06it/s]\u001b[A\n",
      " 59%|█████▊    | 55/94 [00:02<00:01, 28.47it/s]\u001b[A\n",
      " 63%|██████▎   | 59/94 [00:02<00:01, 28.47it/s]\u001b[A\n",
      " 67%|██████▋   | 63/94 [00:02<00:01, 28.63it/s]\u001b[A\n",
      " 71%|███████▏  | 67/94 [00:02<00:00, 29.27it/s]\u001b[A\n",
      " 76%|███████▌  | 71/94 [00:02<00:00, 29.21it/s]\u001b[A\n",
      " 80%|███████▉  | 75/94 [00:02<00:00, 29.28it/s]\u001b[A\n",
      " 84%|████████▍ | 79/94 [00:03<00:00, 29.97it/s]\u001b[A\n",
      " 88%|████████▊ | 83/94 [00:03<00:00, 29.35it/s]\u001b[A\n",
      " 93%|█████████▎| 87/94 [00:03<00:00, 29.23it/s]\u001b[A\n",
      "100%|██████████| 94/94 [00:03<00:00, 26.24it/s]\u001b[A\n",
      "\n",
      "  0%|          | 0/375 [00:00<?, ?it/s]\u001b[A"
     ]
    },
    {
     "name": "stdout",
     "output_type": "stream",
     "text": [
      "val_loss = 0.365490128, val_acc = 0.8895833\n",
      "============================================\n"
     ]
    },
    {
     "name": "stderr",
     "output_type": "stream",
     "text": [
      "\n",
      "  0%|          | 1/375 [00:00<02:30,  2.48it/s]\u001b[A\n",
      "  1%|▏         | 5/375 [00:00<01:48,  3.42it/s]\u001b[A\n",
      "  2%|▏         | 9/375 [00:00<01:18,  4.66it/s]\u001b[A\n",
      "  3%|▎         | 12/375 [00:00<00:58,  6.22it/s]\u001b[A\n",
      "  4%|▍         | 16/375 [00:00<00:43,  8.22it/s]\u001b[A\n",
      "  5%|▌         | 19/375 [00:01<00:33, 10.50it/s]\u001b[A\n",
      "  6%|▌         | 23/375 [00:01<00:26, 13.07it/s]\u001b[A\n",
      "  7%|▋         | 27/375 [00:01<00:21, 16.06it/s]\u001b[A\n",
      "  8%|▊         | 30/375 [00:01<00:18, 18.45it/s]\u001b[A\n",
      "  9%|▉         | 34/375 [00:01<00:15, 21.33it/s]\u001b[A\n",
      " 10%|█         | 38/375 [00:01<00:16, 20.19it/s]\u001b[A\n",
      " 11%|█         | 41/375 [00:01<00:15, 20.96it/s]\u001b[A\n",
      " 12%|█▏        | 44/375 [00:01<00:14, 22.32it/s]\u001b[A\n",
      " 13%|█▎        | 47/375 [00:02<00:13, 24.05it/s]\u001b[A\n",
      " 13%|█▎        | 50/375 [00:02<00:13, 24.05it/s]\u001b[A\n",
      " 14%|█▍        | 54/375 [00:02<00:12, 25.56it/s]\u001b[A\n",
      " 15%|█▌        | 58/375 [00:02<00:11, 26.60it/s]\u001b[A\n",
      " 17%|█▋        | 62/375 [00:02<00:11, 26.46it/s]\u001b[A\n",
      " 18%|█▊        | 66/375 [00:02<00:11, 27.19it/s]\u001b[A\n",
      " 19%|█▊        | 70/375 [00:02<00:11, 27.18it/s]\u001b[A\n",
      " 20%|█▉        | 74/375 [00:02<00:10, 28.73it/s]\u001b[A\n",
      " 21%|██        | 78/375 [00:03<00:10, 28.28it/s]\u001b[A\n",
      " 22%|██▏       | 82/375 [00:03<00:10, 28.86it/s]\u001b[A\n",
      " 23%|██▎       | 86/375 [00:03<00:09, 29.99it/s]\u001b[A\n",
      " 24%|██▍       | 90/375 [00:03<00:09, 28.52it/s]\u001b[A\n",
      " 25%|██▌       | 94/375 [00:03<00:09, 29.12it/s]\u001b[A\n",
      " 26%|██▌       | 98/375 [00:03<00:09, 29.51it/s]\u001b[A\n",
      " 27%|██▋       | 102/375 [00:03<00:09, 28.89it/s]\u001b[A\n",
      " 28%|██▊       | 106/375 [00:04<00:08, 29.93it/s]\u001b[A\n",
      " 29%|██▉       | 110/375 [00:04<00:08, 30.37it/s]\u001b[A\n",
      " 30%|███       | 114/375 [00:04<00:09, 28.48it/s]\u001b[A\n",
      " 31%|███▏      | 118/375 [00:04<00:08, 29.41it/s]\u001b[A\n",
      " 33%|███▎      | 122/375 [00:04<00:08, 28.74it/s]\u001b[A\n",
      " 34%|███▎      | 126/375 [00:04<00:08, 28.71it/s]\u001b[A\n",
      " 35%|███▍      | 130/375 [00:04<00:08, 27.91it/s]\u001b[A\n",
      " 36%|███▌      | 134/375 [00:05<00:08, 28.58it/s]\u001b[A\n",
      " 37%|███▋      | 138/375 [00:05<00:07, 29.72it/s]\u001b[A\n",
      " 38%|███▊      | 141/375 [00:05<00:07, 29.26it/s]\u001b[A\n",
      " 38%|███▊      | 144/375 [00:05<00:08, 26.56it/s]\u001b[A\n",
      " 39%|███▉      | 147/375 [00:05<00:08, 27.34it/s]\u001b[A\n",
      " 40%|████      | 150/375 [00:05<00:08, 27.46it/s]\u001b[A\n",
      " 41%|████      | 153/375 [00:05<00:07, 27.79it/s]\u001b[A\n",
      " 42%|████▏     | 156/375 [00:05<00:07, 27.47it/s]\u001b[A\n",
      " 43%|████▎     | 160/375 [00:06<00:07, 27.82it/s]\u001b[A\n",
      " 43%|████▎     | 163/375 [00:06<00:07, 27.98it/s]\u001b[A\n",
      " 44%|████▍     | 166/375 [00:06<00:07, 26.80it/s]\u001b[A\n",
      " 45%|████▌     | 169/375 [00:06<00:08, 24.42it/s]\u001b[A\n",
      " 46%|████▌     | 172/375 [00:06<00:08, 24.60it/s]\u001b[A\n",
      " 47%|████▋     | 175/375 [00:06<00:07, 25.28it/s]\u001b[A\n",
      " 47%|████▋     | 178/375 [00:06<00:07, 24.78it/s]\u001b[A\n",
      " 48%|████▊     | 181/375 [00:06<00:07, 25.62it/s]\u001b[A\n",
      " 49%|████▉     | 184/375 [00:06<00:07, 26.45it/s]\u001b[A\n",
      " 50%|█████     | 188/375 [00:07<00:06, 26.75it/s]\u001b[A\n",
      " 51%|█████     | 191/375 [00:07<00:06, 27.20it/s]\u001b[A\n",
      " 52%|█████▏    | 194/375 [00:07<00:07, 25.85it/s]\u001b[A\n",
      " 53%|█████▎    | 198/375 [00:07<00:06, 26.72it/s]\u001b[A\n",
      " 54%|█████▍    | 202/375 [00:07<00:06, 27.98it/s]\u001b[A\n",
      " 55%|█████▍    | 206/375 [00:07<00:06, 27.58it/s]\u001b[A\n",
      " 56%|█████▌    | 210/375 [00:07<00:06, 27.09it/s]\u001b[A\n",
      " 57%|█████▋    | 214/375 [00:08<00:05, 26.97it/s]\u001b[A\n",
      " 58%|█████▊    | 218/375 [00:08<00:05, 27.64it/s]\u001b[A\n",
      " 59%|█████▉    | 222/375 [00:08<00:05, 27.59it/s]\u001b[A\n",
      " 60%|██████    | 226/375 [00:08<00:05, 28.49it/s]\u001b[A\n",
      " 61%|██████▏   | 230/375 [00:08<00:05, 28.29it/s]\u001b[A\n",
      " 62%|██████▏   | 234/375 [00:08<00:05, 28.14it/s]\u001b[A\n",
      " 63%|██████▎   | 238/375 [00:08<00:04, 28.87it/s]\u001b[A\n",
      " 64%|██████▍   | 241/375 [00:09<00:05, 25.37it/s]\u001b[A\n",
      " 65%|██████▌   | 244/375 [00:09<00:05, 25.31it/s]\u001b[A\n",
      " 66%|██████▌   | 248/375 [00:09<00:04, 26.43it/s]\u001b[A\n",
      " 67%|██████▋   | 252/375 [00:09<00:04, 27.78it/s]\u001b[A\n",
      " 68%|██████▊   | 256/375 [00:09<00:04, 28.04it/s]\u001b[A\n",
      " 69%|██████▉   | 260/375 [00:09<00:04, 28.55it/s]\u001b[A\n",
      " 70%|███████   | 264/375 [00:09<00:03, 28.15it/s]\u001b[A\n",
      " 71%|███████▏  | 268/375 [00:09<00:03, 28.20it/s]\u001b[A\n",
      " 73%|███████▎  | 272/375 [00:10<00:03, 29.08it/s]\u001b[A\n",
      " 74%|███████▎  | 276/375 [00:10<00:03, 28.66it/s]\u001b[A\n",
      " 75%|███████▍  | 280/375 [00:10<00:03, 29.05it/s]\u001b[A\n",
      " 76%|███████▌  | 284/375 [00:10<00:03, 29.84it/s]\u001b[A\n",
      " 77%|███████▋  | 288/375 [00:10<00:02, 29.35it/s]\u001b[A\n",
      " 78%|███████▊  | 292/375 [00:10<00:02, 29.48it/s]\u001b[A\n",
      " 79%|███████▊  | 295/375 [00:10<00:02, 28.97it/s]\u001b[A\n",
      " 80%|███████▉  | 299/375 [00:11<00:02, 28.49it/s]\u001b[A\n",
      " 81%|████████  | 303/375 [00:11<00:02, 28.27it/s]\u001b[A\n",
      " 82%|████████▏ | 307/375 [00:11<00:02, 27.34it/s]\u001b[A\n",
      " 83%|████████▎ | 310/375 [00:11<00:02, 26.99it/s]\u001b[A\n",
      " 83%|████████▎ | 313/375 [00:11<00:03, 15.57it/s]\u001b[A\n",
      " 84%|████████▍ | 316/375 [00:11<00:03, 17.71it/s]\u001b[A\n",
      " 85%|████████▌ | 320/375 [00:12<00:02, 20.26it/s]\u001b[A\n",
      " 86%|████████▋ | 324/375 [00:12<00:02, 21.72it/s]\u001b[A\n",
      " 87%|████████▋ | 328/375 [00:12<00:01, 23.77it/s]\u001b[A\n",
      " 89%|████████▊ | 332/375 [00:12<00:01, 25.66it/s]\u001b[A\n",
      " 89%|████████▉ | 335/375 [00:12<00:01, 26.36it/s]\u001b[A\n",
      " 90%|█████████ | 338/375 [00:12<00:01, 26.60it/s]\u001b[A\n",
      " 91%|█████████ | 342/375 [00:12<00:01, 26.49it/s]\u001b[A\n",
      " 92%|█████████▏| 346/375 [00:12<00:01, 27.35it/s]\u001b[A\n",
      " 93%|█████████▎| 350/375 [00:13<00:00, 27.23it/s]\u001b[A\n",
      " 94%|█████████▍| 354/375 [00:13<00:00, 28.28it/s]\u001b[A\n",
      " 95%|█████████▌| 358/375 [00:13<00:00, 29.41it/s]\u001b[A\n",
      " 96%|█████████▋| 361/375 [00:13<00:00, 20.98it/s]\u001b[A\n",
      " 97%|█████████▋| 364/375 [00:13<00:00, 19.89it/s]\u001b[A\n",
      " 98%|█████████▊| 368/375 [00:13<00:00, 21.84it/s]\u001b[A\n",
      " 99%|█████████▉| 371/375 [00:14<00:00, 23.58it/s]\u001b[A\n",
      "100%|██████████| 375/375 [00:14<00:00, 26.41it/s]\u001b[A\n",
      "\n",
      "  0%|          | 0/94 [00:00<?, ?it/s]\u001b[A"
     ]
    },
    {
     "name": "stdout",
     "output_type": "stream",
     "text": [
      "===[EPOCH:    8]===========================\n",
      "train_loss = 0.361361283, train_acc = 0.8923125\n"
     ]
    },
    {
     "name": "stderr",
     "output_type": "stream",
     "text": [
      "\n",
      "  1%|          | 1/94 [00:00<00:35,  2.61it/s]\u001b[A\n",
      "  5%|▌         | 5/94 [00:00<00:24,  3.59it/s]\u001b[A\n",
      " 10%|▉         | 9/94 [00:00<00:17,  4.89it/s]\u001b[A\n",
      " 14%|█▍        | 13/94 [00:00<00:12,  6.56it/s]\u001b[A\n",
      " 17%|█▋        | 16/94 [00:00<00:09,  8.47it/s]\u001b[A\n",
      " 20%|██        | 19/94 [00:00<00:06, 10.78it/s]\u001b[A\n",
      " 23%|██▎       | 22/94 [00:01<00:05, 13.27it/s]\u001b[A\n",
      " 27%|██▋       | 25/94 [00:01<00:04, 15.27it/s]\u001b[A\n",
      " 31%|███       | 29/94 [00:01<00:03, 17.75it/s]\u001b[A\n",
      " 35%|███▌      | 33/94 [00:01<00:03, 20.07it/s]\u001b[A\n",
      " 39%|███▉      | 37/94 [00:01<00:02, 21.83it/s]\u001b[A\n",
      " 44%|████▎     | 41/94 [00:01<00:02, 23.96it/s]\u001b[A\n",
      " 48%|████▊     | 45/94 [00:01<00:01, 25.74it/s]\u001b[A\n",
      " 52%|█████▏    | 49/94 [00:02<00:01, 26.55it/s]\u001b[A\n",
      " 56%|█████▋    | 53/94 [00:02<00:01, 27.43it/s]\u001b[A\n",
      " 61%|██████    | 57/94 [00:02<00:01, 27.35it/s]\u001b[A\n",
      " 65%|██████▍   | 61/94 [00:02<00:01, 26.98it/s]\u001b[A\n",
      " 69%|██████▉   | 65/94 [00:02<00:01, 26.57it/s]\u001b[A\n",
      " 73%|███████▎  | 69/94 [00:02<00:00, 27.42it/s]\u001b[A\n",
      " 78%|███████▊  | 73/94 [00:02<00:00, 28.93it/s]\u001b[A\n",
      " 82%|████████▏ | 77/94 [00:03<00:00, 28.04it/s]\u001b[A\n",
      " 85%|████████▌ | 80/94 [00:03<00:00, 28.37it/s]\u001b[A\n",
      " 88%|████████▊ | 83/94 [00:03<00:00, 28.47it/s]\u001b[A\n",
      " 93%|█████████▎| 87/94 [00:03<00:00, 28.09it/s]\u001b[A\n",
      "100%|██████████| 94/94 [00:03<00:00, 25.92it/s]\u001b[A\n",
      "\n",
      "  0%|          | 0/375 [00:00<?, ?it/s]\u001b[A"
     ]
    },
    {
     "name": "stdout",
     "output_type": "stream",
     "text": [
      "val_loss = 0.365753468, val_acc = 0.8926667\n",
      "============================================\n",
      "INFO: Early stopping counter 1 of 4\n"
     ]
    },
    {
     "name": "stderr",
     "output_type": "stream",
     "text": [
      "\n",
      "  0%|          | 1/375 [00:00<02:11,  2.84it/s]\u001b[A\n",
      "  1%|          | 4/375 [00:00<01:35,  3.89it/s]\u001b[A\n",
      "  2%|▏         | 7/375 [00:00<01:11,  5.16it/s]\u001b[A\n",
      "  3%|▎         | 10/375 [00:00<00:53,  6.85it/s]\u001b[A\n",
      "  3%|▎         | 13/375 [00:00<00:41,  8.74it/s]\u001b[A\n",
      "  5%|▍         | 17/375 [00:00<00:32, 11.18it/s]\u001b[A\n",
      "  6%|▌         | 21/375 [00:01<00:26, 13.40it/s]\u001b[A\n",
      "  7%|▋         | 25/375 [00:01<00:21, 16.04it/s]\u001b[A\n",
      "  8%|▊         | 29/375 [00:01<00:18, 18.26it/s]\u001b[A\n",
      "  9%|▉         | 33/375 [00:01<00:16, 20.76it/s]\u001b[A\n",
      " 10%|▉         | 37/375 [00:01<00:14, 23.21it/s]\u001b[A\n",
      " 11%|█         | 41/375 [00:01<00:13, 24.09it/s]\u001b[A\n",
      " 12%|█▏        | 45/375 [00:01<00:12, 25.77it/s]\u001b[A\n",
      " 13%|█▎        | 49/375 [00:02<00:12, 26.21it/s]\u001b[A\n",
      " 14%|█▍        | 53/375 [00:02<00:12, 26.13it/s]\u001b[A\n",
      " 15%|█▌        | 57/375 [00:02<00:11, 27.49it/s]\u001b[A\n",
      " 16%|█▋        | 61/375 [00:02<00:11, 27.20it/s]\u001b[A\n",
      " 17%|█▋        | 65/375 [00:02<00:11, 27.79it/s]\u001b[A\n",
      " 18%|█▊        | 69/375 [00:02<00:10, 28.83it/s]\u001b[A\n",
      " 19%|█▉        | 73/375 [00:02<00:10, 28.11it/s]\u001b[A\n",
      " 21%|██        | 77/375 [00:03<00:10, 28.15it/s]\u001b[A\n",
      " 22%|██▏       | 81/375 [00:03<00:10, 27.74it/s]\u001b[A\n",
      " 23%|██▎       | 85/375 [00:03<00:10, 27.88it/s]\u001b[A\n",
      " 24%|██▎       | 89/375 [00:03<00:10, 27.74it/s]\u001b[A\n",
      " 25%|██▍       | 93/375 [00:03<00:10, 28.17it/s]\u001b[A\n",
      " 26%|██▌       | 96/375 [00:03<00:09, 28.66it/s]\u001b[A\n",
      " 26%|██▋       | 99/375 [00:03<00:10, 27.34it/s]\u001b[A\n",
      " 27%|██▋       | 103/375 [00:04<00:10, 27.19it/s]\u001b[A\n",
      " 28%|██▊       | 106/375 [00:04<00:09, 27.15it/s]\u001b[A\n",
      " 29%|██▉       | 109/375 [00:04<00:09, 26.67it/s]\u001b[A\n",
      " 30%|██▉       | 112/375 [00:04<00:09, 27.59it/s]\u001b[A\n",
      " 31%|███       | 115/375 [00:04<00:09, 27.06it/s]\u001b[A\n",
      " 31%|███▏      | 118/375 [00:04<00:09, 27.75it/s]\u001b[A\n",
      " 32%|███▏      | 121/375 [00:04<00:09, 27.19it/s]\u001b[A\n",
      " 33%|███▎      | 125/375 [00:04<00:09, 27.73it/s]\u001b[A\n",
      " 34%|███▍      | 129/375 [00:04<00:08, 27.60it/s]\u001b[A\n",
      " 35%|███▌      | 133/375 [00:05<00:08, 27.31it/s]\u001b[A\n",
      " 37%|███▋      | 137/375 [00:05<00:08, 28.16it/s]\u001b[A\n",
      " 38%|███▊      | 141/375 [00:05<00:08, 28.50it/s]\u001b[A\n",
      " 38%|███▊      | 144/375 [00:05<00:08, 27.24it/s]\u001b[A\n",
      " 39%|███▉      | 147/375 [00:05<00:09, 24.79it/s]\u001b[A\n",
      " 40%|████      | 151/375 [00:05<00:08, 27.02it/s]\u001b[A\n",
      " 41%|████      | 154/375 [00:05<00:08, 26.74it/s]\u001b[A\n",
      " 42%|████▏     | 158/375 [00:06<00:08, 25.62it/s]\u001b[A\n",
      " 43%|████▎     | 162/375 [00:06<00:07, 27.13it/s]\u001b[A\n",
      " 44%|████▍     | 166/375 [00:06<00:07, 26.93it/s]\u001b[A\n",
      " 45%|████▌     | 169/375 [00:06<00:07, 27.71it/s]\u001b[A\n",
      " 46%|████▌     | 172/375 [00:06<00:07, 26.97it/s]\u001b[A\n",
      " 47%|████▋     | 175/375 [00:06<00:07, 27.55it/s]\u001b[A\n",
      " 47%|████▋     | 178/375 [00:06<00:07, 27.76it/s]\u001b[A\n",
      " 49%|████▊     | 182/375 [00:06<00:06, 27.68it/s]\u001b[A\n",
      " 50%|████▉     | 186/375 [00:07<00:06, 28.37it/s]\u001b[A\n",
      " 50%|█████     | 189/375 [00:07<00:06, 28.47it/s]\u001b[A\n",
      " 51%|█████     | 192/375 [00:07<00:06, 27.91it/s]\u001b[A\n",
      " 52%|█████▏    | 195/375 [00:07<00:06, 28.49it/s]\u001b[A\n",
      " 53%|█████▎    | 198/375 [00:07<00:06, 28.45it/s]\u001b[A\n",
      " 54%|█████▎    | 201/375 [00:07<00:06, 28.68it/s]\u001b[A\n",
      " 54%|█████▍    | 204/375 [00:07<00:05, 28.63it/s]\u001b[A\n",
      " 55%|█████▌    | 207/375 [00:07<00:06, 26.47it/s]\u001b[A\n",
      " 56%|█████▌    | 210/375 [00:07<00:06, 26.85it/s]\u001b[A\n",
      " 57%|█████▋    | 213/375 [00:08<00:06, 26.96it/s]\u001b[A\n",
      " 58%|█████▊    | 216/375 [00:08<00:05, 27.76it/s]\u001b[A\n",
      " 58%|█████▊    | 219/375 [00:08<00:05, 28.09it/s]\u001b[A\n",
      " 59%|█████▉    | 222/375 [00:08<00:05, 27.75it/s]\u001b[A\n",
      " 60%|██████    | 226/375 [00:08<00:05, 28.38it/s]\u001b[A\n",
      " 61%|██████    | 229/375 [00:08<00:05, 28.84it/s]\u001b[A\n",
      " 62%|██████▏   | 232/375 [00:08<00:05, 26.66it/s]\u001b[A\n",
      " 63%|██████▎   | 236/375 [00:08<00:05, 27.48it/s]\u001b[A\n",
      " 64%|██████▎   | 239/375 [00:08<00:04, 27.66it/s]\u001b[A\n",
      " 65%|██████▍   | 243/375 [00:09<00:04, 28.86it/s]\u001b[A\n",
      " 66%|██████▌   | 246/375 [00:09<00:04, 28.64it/s]\u001b[A\n",
      " 66%|██████▋   | 249/375 [00:09<00:04, 26.92it/s]\u001b[A\n",
      " 67%|██████▋   | 252/375 [00:09<00:04, 26.49it/s]\u001b[A\n",
      " 68%|██████▊   | 256/375 [00:09<00:04, 27.51it/s]\u001b[A\n",
      " 69%|██████▉   | 259/375 [00:09<00:04, 25.51it/s]\u001b[A\n",
      " 70%|██████▉   | 262/375 [00:09<00:04, 25.81it/s]\u001b[A\n",
      " 71%|███████   | 266/375 [00:09<00:04, 26.69it/s]\u001b[A\n",
      " 72%|███████▏  | 270/375 [00:10<00:03, 27.64it/s]\u001b[A\n",
      " 73%|███████▎  | 274/375 [00:10<00:03, 27.29it/s]\u001b[A\n",
      " 74%|███████▍  | 278/375 [00:10<00:03, 27.89it/s]\u001b[A\n",
      " 75%|███████▌  | 282/375 [00:10<00:03, 27.84it/s]\u001b[A\n",
      " 76%|███████▋  | 286/375 [00:10<00:03, 28.03it/s]\u001b[A\n",
      " 77%|███████▋  | 290/375 [00:10<00:02, 28.72it/s]\u001b[A\n",
      " 78%|███████▊  | 293/375 [00:10<00:02, 29.05it/s]\u001b[A\n",
      " 79%|███████▉  | 296/375 [00:10<00:02, 27.27it/s]\u001b[A\n",
      " 80%|███████▉  | 299/375 [00:11<00:02, 27.69it/s]\u001b[A\n",
      " 81%|████████  | 302/375 [00:11<00:02, 27.86it/s]\u001b[A\n",
      " 81%|████████▏ | 305/375 [00:11<00:02, 28.02it/s]\u001b[A\n",
      " 82%|████████▏ | 309/375 [00:11<00:02, 28.92it/s]\u001b[A\n",
      " 83%|████████▎ | 312/375 [00:11<00:02, 29.12it/s]\u001b[A\n",
      " 84%|████████▍ | 316/375 [00:11<00:01, 29.90it/s]\u001b[A\n",
      " 85%|████████▌ | 320/375 [00:11<00:01, 28.77it/s]\u001b[A\n",
      " 86%|████████▌ | 323/375 [00:12<00:02, 18.64it/s]\u001b[A\n",
      " 87%|████████▋ | 326/375 [00:12<00:02, 19.11it/s]\u001b[A\n",
      " 88%|████████▊ | 330/375 [00:12<00:02, 21.34it/s]\u001b[A\n",
      " 89%|████████▉ | 334/375 [00:12<00:01, 23.36it/s]\u001b[A\n",
      " 90%|█████████ | 338/375 [00:12<00:01, 25.64it/s]\u001b[A\n",
      " 91%|█████████ | 342/375 [00:12<00:01, 27.54it/s]\u001b[A\n",
      " 92%|█████████▏| 346/375 [00:12<00:01, 27.83it/s]\u001b[A\n",
      " 93%|█████████▎| 350/375 [00:13<00:00, 29.44it/s]\u001b[A\n",
      " 94%|█████████▍| 354/375 [00:13<00:00, 29.12it/s]\u001b[A\n",
      " 95%|█████████▌| 358/375 [00:13<00:00, 28.31it/s]\u001b[A\n",
      " 96%|█████████▋| 361/375 [00:13<00:00, 28.47it/s]\u001b[A\n",
      " 97%|█████████▋| 364/375 [00:13<00:00, 28.67it/s]\u001b[A\n",
      " 98%|█████████▊| 367/375 [00:13<00:00, 28.86it/s]\u001b[A\n",
      " 99%|█████████▊| 370/375 [00:13<00:00, 28.35it/s]\u001b[A\n",
      "100%|██████████| 375/375 [00:13<00:00, 26.92it/s]\u001b[A\n",
      "\n",
      "  0%|          | 0/94 [00:00<?, ?it/s]\u001b[A"
     ]
    },
    {
     "name": "stdout",
     "output_type": "stream",
     "text": [
      "===[EPOCH:    9]===========================\n",
      "train_loss = 0.359062238, train_acc = 0.8926042\n"
     ]
    },
    {
     "name": "stderr",
     "output_type": "stream",
     "text": [
      "\n",
      "  1%|          | 1/94 [00:00<00:54,  1.70it/s]\u001b[A\n",
      "  5%|▌         | 5/94 [00:00<00:37,  2.37it/s]\u001b[A\n",
      " 10%|▉         | 9/94 [00:00<00:25,  3.28it/s]\u001b[A\n",
      " 14%|█▍        | 13/94 [00:00<00:18,  4.47it/s]\u001b[A\n",
      " 18%|█▊        | 17/94 [00:01<00:12,  6.02it/s]\u001b[A\n",
      " 22%|██▏       | 21/94 [00:01<00:09,  7.90it/s]\u001b[A\n",
      " 27%|██▋       | 25/94 [00:01<00:06, 10.19it/s]\u001b[A\n",
      " 31%|███       | 29/94 [00:01<00:05, 12.67it/s]\u001b[A\n",
      " 35%|███▌      | 33/94 [00:01<00:04, 15.01it/s]\u001b[A\n",
      " 39%|███▉      | 37/94 [00:01<00:03, 17.42it/s]\u001b[A\n",
      " 44%|████▎     | 41/94 [00:01<00:02, 19.63it/s]\u001b[A\n",
      " 48%|████▊     | 45/94 [00:02<00:02, 22.35it/s]\u001b[A\n",
      " 52%|█████▏    | 49/94 [00:02<00:01, 24.55it/s]\u001b[A\n",
      " 56%|█████▋    | 53/94 [00:02<00:01, 25.01it/s]\u001b[A\n",
      " 61%|██████    | 57/94 [00:02<00:01, 26.81it/s]\u001b[A\n",
      " 65%|██████▍   | 61/94 [00:02<00:01, 28.17it/s]\u001b[A\n",
      " 69%|██████▉   | 65/94 [00:02<00:01, 28.65it/s]\u001b[A\n",
      " 73%|███████▎  | 69/94 [00:02<00:00, 27.70it/s]\u001b[A\n",
      " 77%|███████▋  | 72/94 [00:03<00:00, 27.48it/s]\u001b[A\n",
      " 80%|███████▉  | 75/94 [00:03<00:00, 27.05it/s]\u001b[A\n",
      " 84%|████████▍ | 79/94 [00:03<00:00, 25.66it/s]\u001b[A\n",
      " 88%|████████▊ | 83/94 [00:03<00:00, 26.82it/s]\u001b[A\n",
      " 93%|█████████▎| 87/94 [00:03<00:00, 26.94it/s]\u001b[A\n",
      "100%|██████████| 94/94 [00:03<00:00, 24.69it/s]\u001b[A\n",
      "\n",
      "  0%|          | 0/375 [00:00<?, ?it/s]\u001b[A"
     ]
    },
    {
     "name": "stdout",
     "output_type": "stream",
     "text": [
      "val_loss = 0.356869102, val_acc = 0.8913333\n",
      "============================================\n"
     ]
    },
    {
     "name": "stderr",
     "output_type": "stream",
     "text": [
      "\n",
      "  0%|          | 1/375 [00:00<02:38,  2.36it/s]\u001b[A\n",
      "  1%|▏         | 5/375 [00:00<01:53,  3.26it/s]\u001b[A\n",
      "  2%|▏         | 9/375 [00:00<01:22,  4.45it/s]\u001b[A\n",
      "  3%|▎         | 13/375 [00:00<01:01,  5.89it/s]\u001b[A\n",
      "  5%|▍         | 17/375 [00:01<00:46,  7.71it/s]\u001b[A\n",
      "  6%|▌         | 21/375 [00:01<00:36,  9.69it/s]\u001b[A\n",
      "  7%|▋         | 25/375 [00:01<00:28, 12.18it/s]\u001b[A\n",
      "  8%|▊         | 29/375 [00:01<00:23, 14.64it/s]\u001b[A\n",
      "  9%|▉         | 33/375 [00:01<00:19, 17.13it/s]\u001b[A\n",
      " 10%|▉         | 37/375 [00:01<00:17, 18.82it/s]\u001b[A\n",
      " 11%|█         | 41/375 [00:01<00:15, 20.98it/s]\u001b[A\n",
      " 12%|█▏        | 44/375 [00:02<00:19, 17.33it/s]\u001b[A\n",
      " 13%|█▎        | 47/375 [00:02<00:17, 18.81it/s]\u001b[A\n",
      " 14%|█▎        | 51/375 [00:02<00:15, 20.74it/s]\u001b[A\n",
      " 15%|█▍        | 55/375 [00:02<00:14, 21.86it/s]\u001b[A\n",
      " 16%|█▌        | 59/375 [00:02<00:13, 23.13it/s]\u001b[A\n",
      " 17%|█▋        | 63/375 [00:02<00:13, 23.94it/s]\u001b[A\n",
      " 18%|█▊        | 67/375 [00:03<00:12, 24.48it/s]\u001b[A\n",
      " 19%|█▉        | 71/375 [00:03<00:12, 24.96it/s]\u001b[A\n",
      " 20%|██        | 75/375 [00:03<00:12, 24.82it/s]\u001b[A\n",
      " 21%|██        | 79/375 [00:03<00:11, 25.60it/s]\u001b[A\n",
      " 22%|██▏       | 83/375 [00:03<00:10, 27.03it/s]\u001b[A\n",
      " 23%|██▎       | 87/375 [00:03<00:10, 26.74it/s]\u001b[A\n",
      " 24%|██▍       | 91/375 [00:03<00:10, 28.13it/s]\u001b[A\n",
      " 25%|██▌       | 95/375 [00:04<00:10, 27.46it/s]\u001b[A\n",
      " 26%|██▋       | 99/375 [00:04<00:10, 27.45it/s]\u001b[A\n",
      " 27%|██▋       | 103/375 [00:04<00:10, 27.12it/s]\u001b[A\n",
      " 29%|██▊       | 107/375 [00:04<00:10, 26.43it/s]\u001b[A\n",
      " 30%|██▉       | 111/375 [00:04<00:09, 26.45it/s]\u001b[A\n",
      " 31%|███       | 115/375 [00:04<00:09, 26.95it/s]\u001b[A\n",
      " 32%|███▏      | 119/375 [00:04<00:09, 26.16it/s]\u001b[A\n",
      " 33%|███▎      | 123/375 [00:05<00:09, 27.05it/s]\u001b[A\n",
      " 34%|███▍      | 127/375 [00:05<00:09, 27.05it/s]\u001b[A\n",
      " 35%|███▍      | 131/375 [00:05<00:08, 28.10it/s]\u001b[A\n",
      " 36%|███▌      | 135/375 [00:05<00:08, 28.28it/s]\u001b[A\n",
      " 37%|███▋      | 139/375 [00:05<00:08, 28.86it/s]\u001b[A\n",
      " 38%|███▊      | 143/375 [00:05<00:08, 28.41it/s]\u001b[A\n",
      " 39%|███▉      | 147/375 [00:05<00:07, 29.57it/s]\u001b[A\n",
      " 40%|████      | 151/375 [00:06<00:07, 28.98it/s]\u001b[A\n",
      " 41%|████▏     | 155/375 [00:06<00:07, 28.88it/s]\u001b[A\n",
      " 42%|████▏     | 159/375 [00:06<00:07, 28.54it/s]\u001b[A\n",
      " 43%|████▎     | 163/375 [00:06<00:07, 29.12it/s]\u001b[A\n",
      " 45%|████▍     | 167/375 [00:06<00:06, 30.18it/s]\u001b[A\n",
      " 46%|████▌     | 171/375 [00:06<00:06, 29.42it/s]\u001b[A\n",
      " 47%|████▋     | 175/375 [00:06<00:06, 29.45it/s]\u001b[A\n",
      " 48%|████▊     | 179/375 [00:07<00:06, 29.28it/s]\u001b[A\n",
      " 49%|████▉     | 183/375 [00:07<00:06, 28.72it/s]\u001b[A\n",
      " 50%|████▉     | 187/375 [00:07<00:06, 28.62it/s]\u001b[A\n",
      " 51%|█████     | 191/375 [00:07<00:06, 27.61it/s]\u001b[A\n",
      " 52%|█████▏    | 195/375 [00:07<00:06, 28.77it/s]\u001b[A\n",
      " 53%|█████▎    | 199/375 [00:07<00:05, 29.58it/s]\u001b[A\n",
      " 54%|█████▍    | 203/375 [00:07<00:06, 28.30it/s]\u001b[A\n",
      " 55%|█████▌    | 207/375 [00:07<00:05, 29.38it/s]\u001b[A\n",
      " 56%|█████▋    | 211/375 [00:08<00:05, 29.93it/s]\u001b[A\n",
      " 57%|█████▋    | 215/375 [00:08<00:05, 29.24it/s]\u001b[A\n",
      " 58%|█████▊    | 219/375 [00:08<00:05, 29.67it/s]\u001b[A\n",
      " 59%|█████▉    | 223/375 [00:08<00:05, 29.66it/s]\u001b[A\n",
      " 61%|██████    | 227/375 [00:08<00:04, 30.02it/s]\u001b[A\n",
      " 62%|██████▏   | 231/375 [00:08<00:04, 29.47it/s]\u001b[A\n",
      " 63%|██████▎   | 235/375 [00:08<00:04, 28.15it/s]\u001b[A\n",
      " 64%|██████▎   | 239/375 [00:09<00:04, 28.98it/s]\u001b[A\n",
      " 65%|██████▍   | 243/375 [00:09<00:04, 29.71it/s]\u001b[A\n",
      " 66%|██████▌   | 247/375 [00:09<00:04, 28.54it/s]\u001b[A\n",
      " 67%|██████▋   | 251/375 [00:09<00:04, 29.04it/s]\u001b[A\n",
      " 68%|██████▊   | 255/375 [00:09<00:03, 30.15it/s]\u001b[A\n",
      " 69%|██████▉   | 259/375 [00:09<00:03, 29.09it/s]\u001b[A\n",
      " 70%|███████   | 263/375 [00:09<00:03, 29.49it/s]\u001b[A\n",
      " 71%|███████   | 267/375 [00:10<00:03, 28.86it/s]\u001b[A\n",
      " 72%|███████▏  | 271/375 [00:10<00:03, 30.34it/s]\u001b[A\n",
      " 73%|███████▎  | 275/375 [00:10<00:03, 29.61it/s]\u001b[A\n",
      " 74%|███████▍  | 279/375 [00:10<00:03, 28.84it/s]\u001b[A\n",
      " 75%|███████▌  | 283/375 [00:10<00:03, 29.70it/s]\u001b[A\n",
      " 77%|███████▋  | 287/375 [00:10<00:02, 30.26it/s]\u001b[A\n",
      " 78%|███████▊  | 291/375 [00:10<00:02, 30.15it/s]\u001b[A\n",
      " 79%|███████▊  | 295/375 [00:10<00:02, 30.14it/s]\u001b[A\n",
      " 80%|███████▉  | 299/375 [00:11<00:02, 30.73it/s]\u001b[A\n",
      " 81%|████████  | 303/375 [00:11<00:02, 30.84it/s]\u001b[A\n",
      " 82%|████████▏ | 307/375 [00:11<00:02, 29.87it/s]\u001b[A\n",
      " 83%|████████▎ | 311/375 [00:11<00:02, 30.08it/s]\u001b[A\n",
      " 84%|████████▍ | 315/375 [00:11<00:02, 28.77it/s]\u001b[A\n",
      " 85%|████████▌ | 319/375 [00:11<00:01, 29.30it/s]\u001b[A\n",
      " 86%|████████▌ | 323/375 [00:11<00:01, 29.28it/s]\u001b[A\n",
      " 87%|████████▋ | 326/375 [00:12<00:02, 23.24it/s]\u001b[A\n",
      " 88%|████████▊ | 329/375 [00:12<00:02, 22.78it/s]\u001b[A\n",
      " 89%|████████▉ | 333/375 [00:12<00:01, 24.55it/s]\u001b[A\n",
      " 90%|████████▉ | 337/375 [00:12<00:01, 26.34it/s]\u001b[A\n",
      " 91%|█████████ | 341/375 [00:12<00:01, 26.76it/s]\u001b[A\n",
      " 92%|█████████▏| 345/375 [00:12<00:01, 27.39it/s]\u001b[A\n",
      " 93%|█████████▎| 349/375 [00:12<00:00, 28.11it/s]\u001b[A\n",
      " 94%|█████████▍| 353/375 [00:13<00:00, 28.18it/s]\u001b[A\n",
      " 95%|█████████▌| 357/375 [00:13<00:00, 28.17it/s]\u001b[A\n",
      " 96%|█████████▋| 361/375 [00:13<00:00, 27.21it/s]\u001b[A\n",
      " 97%|█████████▋| 365/375 [00:13<00:00, 28.20it/s]\u001b[A\n",
      " 98%|█████████▊| 369/375 [00:13<00:00, 29.17it/s]\u001b[A\n",
      "100%|██████████| 375/375 [00:13<00:00, 27.12it/s]\u001b[A\n",
      "\n",
      "  0%|          | 0/94 [00:00<?, ?it/s]\u001b[A"
     ]
    },
    {
     "name": "stdout",
     "output_type": "stream",
     "text": [
      "===[EPOCH:   10]===========================\n",
      "train_loss = 0.354557158, train_acc = 0.8935417\n"
     ]
    },
    {
     "name": "stderr",
     "output_type": "stream",
     "text": [
      "\n",
      "  1%|          | 1/94 [00:00<00:29,  3.13it/s]\u001b[A\n",
      "  5%|▌         | 5/94 [00:00<00:20,  4.28it/s]\u001b[A\n",
      "  7%|▋         | 7/94 [00:00<00:16,  5.20it/s]\u001b[A\n",
      " 12%|█▏        | 11/94 [00:00<00:11,  6.94it/s]\u001b[A\n",
      " 16%|█▌        | 15/94 [00:00<00:08,  9.08it/s]\u001b[A\n",
      " 20%|██        | 19/94 [00:01<00:06, 11.17it/s]\u001b[A\n",
      " 24%|██▍       | 23/94 [00:01<00:05, 13.93it/s]\u001b[A\n",
      " 29%|██▊       | 27/94 [00:01<00:04, 16.33it/s]\u001b[A\n",
      " 33%|███▎      | 31/94 [00:01<00:03, 18.98it/s]\u001b[A\n",
      " 37%|███▋      | 35/94 [00:01<00:02, 21.51it/s]\u001b[A\n",
      " 41%|████▏     | 39/94 [00:01<00:02, 23.16it/s]\u001b[A\n",
      " 46%|████▌     | 43/94 [00:01<00:01, 25.67it/s]\u001b[A\n",
      " 50%|█████     | 47/94 [00:01<00:01, 26.94it/s]\u001b[A\n",
      " 54%|█████▍    | 51/94 [00:02<00:01, 27.21it/s]\u001b[A\n",
      " 57%|█████▋    | 54/94 [00:02<00:01, 27.06it/s]\u001b[A\n",
      " 62%|██████▏   | 58/94 [00:02<00:01, 27.77it/s]\u001b[A\n",
      " 65%|██████▍   | 61/94 [00:02<00:01, 28.37it/s]\u001b[A\n",
      " 68%|██████▊   | 64/94 [00:02<00:01, 27.29it/s]\u001b[A\n",
      " 72%|███████▏  | 68/94 [00:02<00:00, 27.70it/s]\u001b[A\n",
      " 77%|███████▋  | 72/94 [00:02<00:00, 27.75it/s]\u001b[A\n",
      " 81%|████████  | 76/94 [00:03<00:00, 27.28it/s]\u001b[A\n",
      " 85%|████████▌ | 80/94 [00:03<00:00, 27.60it/s]\u001b[A\n",
      " 89%|████████▉ | 84/94 [00:03<00:00, 28.74it/s]\u001b[A\n",
      " 93%|█████████▎| 87/94 [00:03<00:00, 25.67it/s]\u001b[A\n",
      " 96%|█████████▌| 90/94 [00:03<00:00, 24.56it/s]\u001b[A\n",
      "100%|██████████| 94/94 [00:03<00:00, 25.32it/s]\u001b[A\n",
      "\n",
      "  0%|          | 0/375 [00:00<?, ?it/s]\u001b[A"
     ]
    },
    {
     "name": "stdout",
     "output_type": "stream",
     "text": [
      "val_loss = 0.354502865, val_acc = 0.8946667\n",
      "============================================\n"
     ]
    },
    {
     "name": "stderr",
     "output_type": "stream",
     "text": [
      "\n",
      "  0%|          | 1/375 [00:00<02:33,  2.44it/s]\u001b[A\n",
      "  1%|          | 4/375 [00:00<01:50,  3.37it/s]\u001b[A\n",
      "  2%|▏         | 7/375 [00:00<01:21,  4.51it/s]\u001b[A\n",
      "  3%|▎         | 11/375 [00:00<01:00,  5.98it/s]\u001b[A\n",
      "  4%|▍         | 15/375 [00:00<00:45,  7.88it/s]\u001b[A\n",
      "  5%|▌         | 19/375 [00:01<00:35, 10.11it/s]\u001b[A\n",
      "  6%|▌         | 23/375 [00:01<00:28, 12.51it/s]\u001b[A\n",
      "  7%|▋         | 27/375 [00:01<00:22, 15.34it/s]\u001b[A\n",
      "  8%|▊         | 31/375 [00:01<00:19, 17.46it/s]\u001b[A\n",
      "  9%|▉         | 35/375 [00:01<00:17, 19.74it/s]\u001b[A\n",
      " 10%|█         | 39/375 [00:01<00:14, 22.48it/s]\u001b[A\n",
      " 11%|█▏        | 43/375 [00:01<00:13, 23.88it/s]\u001b[A\n",
      " 13%|█▎        | 47/375 [00:02<00:12, 25.89it/s]\u001b[A\n",
      " 14%|█▎        | 51/375 [00:02<00:12, 26.57it/s]\u001b[A\n",
      " 15%|█▍        | 55/375 [00:02<00:13, 23.98it/s]\u001b[A\n",
      " 16%|█▌        | 59/375 [00:02<00:12, 24.56it/s]\u001b[A\n",
      " 17%|█▋        | 63/375 [00:02<00:11, 26.36it/s]\u001b[A\n",
      " 18%|█▊        | 67/375 [00:02<00:11, 26.39it/s]\u001b[A\n",
      " 19%|█▉        | 71/375 [00:02<00:10, 27.72it/s]\u001b[A\n",
      " 20%|██        | 75/375 [00:03<00:10, 28.48it/s]\u001b[A\n",
      " 21%|██        | 79/375 [00:03<00:10, 28.48it/s]\u001b[A\n",
      " 22%|██▏       | 83/375 [00:03<00:10, 28.40it/s]\u001b[A\n",
      " 23%|██▎       | 87/375 [00:03<00:09, 29.61it/s]\u001b[A\n",
      " 24%|██▍       | 91/375 [00:03<00:09, 29.66it/s]\u001b[A\n",
      " 25%|██▌       | 95/375 [00:03<00:09, 29.68it/s]\u001b[A\n",
      " 26%|██▋       | 99/375 [00:03<00:08, 30.85it/s]\u001b[A\n",
      " 27%|██▋       | 103/375 [00:04<00:09, 29.12it/s]\u001b[A\n",
      " 29%|██▊       | 107/375 [00:04<00:09, 29.69it/s]\u001b[A\n",
      " 30%|██▉       | 111/375 [00:04<00:09, 28.13it/s]\u001b[A\n",
      " 31%|███       | 115/375 [00:04<00:09, 28.78it/s]\u001b[A\n",
      " 31%|███▏      | 118/375 [00:04<00:11, 22.12it/s]\u001b[A\n",
      " 32%|███▏      | 121/375 [00:04<00:11, 22.49it/s]\u001b[A\n",
      " 33%|███▎      | 125/375 [00:04<00:10, 24.06it/s]\u001b[A\n",
      " 34%|███▍      | 129/375 [00:05<00:09, 25.70it/s]\u001b[A\n",
      " 35%|███▌      | 133/375 [00:05<00:08, 27.33it/s]\u001b[A\n",
      " 37%|███▋      | 137/375 [00:05<00:08, 27.96it/s]\u001b[A\n",
      " 38%|███▊      | 141/375 [00:05<00:08, 28.84it/s]\u001b[A\n",
      " 39%|███▊      | 145/375 [00:05<00:07, 29.08it/s]\u001b[A\n",
      " 40%|███▉      | 149/375 [00:05<00:08, 28.12it/s]\u001b[A\n",
      " 41%|████      | 153/375 [00:05<00:07, 27.94it/s]\u001b[A\n",
      " 42%|████▏     | 157/375 [00:06<00:07, 27.54it/s]\u001b[A\n",
      " 43%|████▎     | 161/375 [00:06<00:07, 27.76it/s]\u001b[A\n",
      " 44%|████▍     | 165/375 [00:06<00:07, 27.81it/s]\u001b[A\n",
      " 45%|████▌     | 169/375 [00:06<00:07, 28.65it/s]\u001b[A\n",
      " 46%|████▌     | 173/375 [00:06<00:06, 29.94it/s]\u001b[A\n",
      " 47%|████▋     | 177/375 [00:06<00:06, 30.02it/s]\u001b[A\n",
      " 48%|████▊     | 181/375 [00:06<00:06, 28.72it/s]\u001b[A\n",
      " 49%|████▉     | 185/375 [00:06<00:06, 30.13it/s]\u001b[A\n",
      " 50%|█████     | 189/375 [00:07<00:06, 30.30it/s]\u001b[A\n",
      " 51%|█████▏    | 193/375 [00:07<00:06, 29.61it/s]\u001b[A\n",
      " 53%|█████▎    | 197/375 [00:07<00:05, 29.94it/s]\u001b[A\n",
      " 54%|█████▎    | 201/375 [00:07<00:05, 29.19it/s]\u001b[A\n",
      " 55%|█████▍    | 205/375 [00:07<00:05, 29.79it/s]\u001b[A\n",
      " 56%|█████▌    | 209/375 [00:07<00:05, 29.81it/s]\u001b[A\n",
      " 57%|█████▋    | 213/375 [00:07<00:05, 29.36it/s]\u001b[A\n",
      " 58%|█████▊    | 217/375 [00:08<00:05, 29.60it/s]\u001b[A\n",
      " 59%|█████▉    | 221/375 [00:08<00:05, 30.20it/s]\u001b[A\n",
      " 60%|██████    | 225/375 [00:08<00:05, 29.20it/s]\u001b[A\n",
      " 61%|██████    | 229/375 [00:08<00:05, 29.00it/s]\u001b[A\n",
      " 62%|██████▏   | 233/375 [00:08<00:04, 29.76it/s]\u001b[A\n",
      " 63%|██████▎   | 237/375 [00:08<00:04, 29.29it/s]\u001b[A\n",
      " 64%|██████▍   | 241/375 [00:08<00:04, 29.06it/s]\u001b[A\n",
      " 65%|██████▌   | 245/375 [00:08<00:04, 28.77it/s]\u001b[A\n",
      " 66%|██████▋   | 249/375 [00:09<00:04, 29.38it/s]\u001b[A\n",
      " 67%|██████▋   | 253/375 [00:09<00:04, 29.70it/s]\u001b[A\n",
      " 69%|██████▊   | 257/375 [00:09<00:03, 30.23it/s]\u001b[A\n",
      " 70%|██████▉   | 261/375 [00:09<00:03, 29.36it/s]\u001b[A\n",
      " 71%|███████   | 265/375 [00:09<00:03, 29.27it/s]\u001b[A\n",
      " 72%|███████▏  | 269/375 [00:09<00:03, 28.93it/s]\u001b[A\n",
      " 73%|███████▎  | 273/375 [00:09<00:03, 28.72it/s]\u001b[A\n",
      " 74%|███████▍  | 277/375 [00:10<00:03, 26.08it/s]\u001b[A\n",
      " 75%|███████▍  | 280/375 [00:10<00:03, 26.23it/s]\u001b[A\n",
      " 75%|███████▌  | 283/375 [00:10<00:03, 23.91it/s]\u001b[A\n",
      " 77%|███████▋  | 287/375 [00:10<00:03, 24.84it/s]\u001b[A\n",
      " 78%|███████▊  | 291/375 [00:10<00:03, 25.15it/s]\u001b[A\n",
      " 79%|███████▊  | 295/375 [00:10<00:03, 25.16it/s]\u001b[A\n",
      " 80%|███████▉  | 299/375 [00:11<00:02, 25.75it/s]\u001b[A\n",
      " 81%|████████  | 303/375 [00:11<00:02, 26.62it/s]\u001b[A\n",
      " 82%|████████▏ | 307/375 [00:11<00:02, 26.45it/s]\u001b[A\n",
      " 83%|████████▎ | 311/375 [00:11<00:02, 26.92it/s]\u001b[A\n",
      " 84%|████████▍ | 315/375 [00:11<00:02, 27.68it/s]\u001b[A\n",
      " 85%|████████▌ | 319/375 [00:11<00:02, 27.86it/s]\u001b[A\n",
      " 86%|████████▌ | 323/375 [00:11<00:01, 27.93it/s]\u001b[A\n",
      " 87%|████████▋ | 327/375 [00:12<00:01, 27.45it/s]\u001b[A\n",
      " 88%|████████▊ | 331/375 [00:12<00:01, 27.71it/s]\u001b[A\n",
      " 89%|████████▉ | 335/375 [00:12<00:01, 26.38it/s]\u001b[A\n",
      " 90%|█████████ | 339/375 [00:12<00:01, 27.08it/s]\u001b[A\n",
      " 91%|█████████▏| 343/375 [00:12<00:01, 27.31it/s]\u001b[A\n",
      " 93%|█████████▎| 347/375 [00:12<00:01, 27.62it/s]\u001b[A\n",
      " 94%|█████████▎| 351/375 [00:12<00:00, 26.93it/s]\u001b[A\n",
      " 95%|█████████▍| 355/375 [00:13<00:00, 27.49it/s]\u001b[A\n",
      " 96%|█████████▌| 359/375 [00:13<00:00, 28.85it/s]\u001b[A\n",
      " 97%|█████████▋| 363/375 [00:13<00:00, 28.26it/s]\u001b[A\n",
      " 98%|█████████▊| 367/375 [00:13<00:00, 28.21it/s]\u001b[A\n",
      " 99%|█████████▉| 371/375 [00:13<00:00, 29.59it/s]\u001b[A\n",
      "100%|██████████| 375/375 [00:13<00:00, 27.35it/s]\u001b[A\n",
      "\n",
      "  0%|          | 0/94 [00:00<?, ?it/s]\u001b[A"
     ]
    },
    {
     "name": "stdout",
     "output_type": "stream",
     "text": [
      "===[EPOCH:   11]===========================\n",
      "train_loss = 0.352843554, train_acc = 0.8951875\n"
     ]
    },
    {
     "name": "stderr",
     "output_type": "stream",
     "text": [
      "\n",
      "  1%|          | 1/94 [00:00<00:35,  2.62it/s]\u001b[A\n",
      "  5%|▌         | 5/94 [00:00<00:24,  3.61it/s]\u001b[A\n",
      " 10%|▉         | 9/94 [00:00<00:17,  4.90it/s]\u001b[A\n",
      " 14%|█▍        | 13/94 [00:00<00:12,  6.51it/s]\u001b[A\n",
      " 18%|█▊        | 17/94 [00:00<00:09,  8.49it/s]\u001b[A\n",
      " 22%|██▏       | 21/94 [00:01<00:06, 10.79it/s]\u001b[A\n",
      " 27%|██▋       | 25/94 [00:01<00:05, 13.26it/s]\u001b[A\n",
      " 31%|███       | 29/94 [00:01<00:04, 15.97it/s]\u001b[A\n",
      " 35%|███▌      | 33/94 [00:01<00:03, 18.21it/s]\u001b[A\n",
      " 39%|███▉      | 37/94 [00:01<00:02, 20.88it/s]\u001b[A\n",
      " 44%|████▎     | 41/94 [00:01<00:02, 23.45it/s]\u001b[A\n",
      " 48%|████▊     | 45/94 [00:01<00:01, 25.72it/s]\u001b[A\n",
      " 52%|█████▏    | 49/94 [00:01<00:01, 27.00it/s]\u001b[A\n",
      " 56%|█████▋    | 53/94 [00:02<00:02, 19.95it/s]\u001b[A\n",
      " 60%|█████▉    | 56/94 [00:02<00:01, 22.04it/s]\u001b[A\n",
      " 63%|██████▎   | 59/94 [00:02<00:01, 22.35it/s]\u001b[A\n",
      " 67%|██████▋   | 63/94 [00:02<00:01, 23.63it/s]\u001b[A\n",
      " 71%|███████▏  | 67/94 [00:02<00:01, 25.68it/s]\u001b[A\n",
      " 76%|███████▌  | 71/94 [00:02<00:00, 26.57it/s]\u001b[A\n",
      " 80%|███████▉  | 75/94 [00:03<00:00, 27.17it/s]\u001b[A\n",
      " 84%|████████▍ | 79/94 [00:03<00:00, 28.57it/s]\u001b[A\n",
      " 88%|████████▊ | 83/94 [00:03<00:00, 28.94it/s]\u001b[A\n",
      " 93%|█████████▎| 87/94 [00:03<00:00, 28.34it/s]\u001b[A\n",
      "100%|██████████| 94/94 [00:03<00:00, 25.51it/s]\u001b[A\n",
      "\n",
      "  0%|          | 0/375 [00:00<?, ?it/s]\u001b[A"
     ]
    },
    {
     "name": "stdout",
     "output_type": "stream",
     "text": [
      "val_loss = 0.357412576, val_acc = 0.8935\n",
      "============================================\n",
      "INFO: Early stopping counter 1 of 4\n"
     ]
    },
    {
     "name": "stderr",
     "output_type": "stream",
     "text": [
      "\n",
      "  0%|          | 1/375 [00:00<02:51,  2.19it/s]\u001b[A\n",
      "  1%|▏         | 5/375 [00:00<02:02,  3.02it/s]\u001b[A\n",
      "  2%|▏         | 9/375 [00:00<01:28,  4.14it/s]\u001b[A\n",
      "  3%|▎         | 13/375 [00:00<01:04,  5.60it/s]\u001b[A\n",
      "  5%|▍         | 17/375 [00:01<00:48,  7.35it/s]\u001b[A\n",
      "  6%|▌         | 21/375 [00:01<00:37,  9.49it/s]\u001b[A\n",
      "  7%|▋         | 25/375 [00:01<00:30, 11.66it/s]\u001b[A\n",
      "  8%|▊         | 29/375 [00:01<00:25, 13.39it/s]\u001b[A\n",
      "  9%|▉         | 33/375 [00:01<00:23, 14.83it/s]\u001b[A\n",
      " 10%|▉         | 37/375 [00:01<00:19, 17.55it/s]\u001b[A\n",
      " 11%|█         | 41/375 [00:01<00:16, 20.00it/s]\u001b[A\n",
      " 12%|█▏        | 45/375 [00:02<00:15, 21.94it/s]\u001b[A\n",
      " 13%|█▎        | 49/375 [00:02<00:13, 23.77it/s]\u001b[A\n",
      " 14%|█▍        | 53/375 [00:02<00:12, 25.64it/s]\u001b[A\n",
      " 15%|█▌        | 57/375 [00:02<00:12, 26.12it/s]\u001b[A\n",
      " 16%|█▋        | 61/375 [00:02<00:11, 27.13it/s]\u001b[A\n",
      " 17%|█▋        | 65/375 [00:02<00:11, 26.95it/s]\u001b[A\n",
      " 18%|█▊        | 69/375 [00:02<00:11, 27.48it/s]\u001b[A\n",
      " 19%|█▉        | 73/375 [00:03<00:11, 27.00it/s]\u001b[A\n",
      " 21%|██        | 77/375 [00:03<00:11, 26.33it/s]\u001b[A\n",
      " 22%|██▏       | 81/375 [00:03<00:11, 25.74it/s]\u001b[A\n",
      " 23%|██▎       | 85/375 [00:03<00:10, 26.37it/s]\u001b[A\n",
      " 24%|██▎       | 89/375 [00:03<00:10, 26.17it/s]\u001b[A\n",
      " 25%|██▍       | 93/375 [00:03<00:10, 26.25it/s]\u001b[A\n",
      " 26%|██▌       | 97/375 [00:04<00:10, 26.34it/s]\u001b[A\n",
      " 27%|██▋       | 101/375 [00:04<00:10, 26.92it/s]\u001b[A\n",
      " 28%|██▊       | 105/375 [00:04<00:09, 27.79it/s]\u001b[A\n",
      " 29%|██▉       | 109/375 [00:04<00:09, 29.26it/s]\u001b[A\n",
      " 30%|███       | 113/375 [00:04<00:08, 29.31it/s]\u001b[A\n",
      " 31%|███       | 117/375 [00:04<00:09, 28.35it/s]\u001b[A\n",
      " 32%|███▏      | 121/375 [00:04<00:08, 28.77it/s]\u001b[A\n",
      " 33%|███▎      | 125/375 [00:04<00:08, 29.09it/s]\u001b[A\n",
      " 34%|███▍      | 128/375 [00:05<00:09, 26.75it/s]\u001b[A\n",
      " 35%|███▍      | 131/375 [00:05<00:09, 26.36it/s]\u001b[A\n",
      " 36%|███▌      | 135/375 [00:05<00:08, 27.72it/s]\u001b[A\n",
      " 37%|███▋      | 139/375 [00:05<00:08, 27.59it/s]\u001b[A\n",
      " 38%|███▊      | 143/375 [00:05<00:08, 28.29it/s]\u001b[A\n",
      " 39%|███▉      | 147/375 [00:05<00:07, 30.40it/s]\u001b[A\n",
      " 40%|████      | 151/375 [00:05<00:07, 30.92it/s]\u001b[A\n",
      " 41%|████▏     | 155/375 [00:05<00:07, 29.93it/s]\u001b[A\n",
      " 42%|████▏     | 159/375 [00:06<00:07, 29.74it/s]\u001b[A\n",
      " 43%|████▎     | 163/375 [00:06<00:07, 30.09it/s]\u001b[A\n",
      " 45%|████▍     | 167/375 [00:06<00:07, 28.69it/s]\u001b[A\n",
      " 46%|████▌     | 171/375 [00:06<00:06, 29.90it/s]\u001b[A\n",
      " 47%|████▋     | 175/375 [00:06<00:06, 30.56it/s]\u001b[A\n",
      " 48%|████▊     | 179/375 [00:06<00:06, 29.32it/s]\u001b[A\n",
      " 49%|████▉     | 183/375 [00:06<00:06, 30.04it/s]\u001b[A\n",
      " 50%|████▉     | 187/375 [00:07<00:06, 30.94it/s]\u001b[A\n",
      " 51%|█████     | 191/375 [00:07<00:06, 30.18it/s]\u001b[A\n",
      " 52%|█████▏    | 195/375 [00:07<00:05, 30.47it/s]\u001b[A\n",
      " 53%|█████▎    | 199/375 [00:07<00:05, 29.96it/s]\u001b[A\n",
      " 54%|█████▍    | 203/375 [00:07<00:07, 22.68it/s]\u001b[A\n",
      " 55%|█████▌    | 207/375 [00:07<00:07, 23.16it/s]\u001b[A\n",
      " 56%|█████▋    | 211/375 [00:08<00:06, 24.31it/s]\u001b[A\n",
      " 57%|█████▋    | 215/375 [00:08<00:06, 25.72it/s]\u001b[A\n",
      " 58%|█████▊    | 219/375 [00:08<00:05, 27.07it/s]\u001b[A\n",
      " 59%|█████▉    | 223/375 [00:08<00:05, 27.27it/s]\u001b[A\n",
      " 61%|██████    | 227/375 [00:08<00:05, 27.83it/s]\u001b[A\n",
      " 62%|██████▏   | 231/375 [00:08<00:05, 28.04it/s]\u001b[A\n",
      " 63%|██████▎   | 235/375 [00:08<00:05, 27.56it/s]\u001b[A\n",
      " 64%|██████▎   | 239/375 [00:09<00:04, 28.23it/s]\u001b[A\n",
      " 65%|██████▍   | 243/375 [00:09<00:04, 28.73it/s]\u001b[A\n",
      " 66%|██████▌   | 247/375 [00:09<00:04, 28.20it/s]\u001b[A\n",
      " 67%|██████▋   | 251/375 [00:09<00:04, 27.86it/s]\u001b[A\n",
      " 68%|██████▊   | 255/375 [00:09<00:04, 27.47it/s]\u001b[A\n",
      " 69%|██████▉   | 259/375 [00:09<00:04, 27.45it/s]\u001b[A\n",
      " 70%|███████   | 263/375 [00:09<00:04, 27.30it/s]\u001b[A\n",
      " 71%|███████   | 267/375 [00:10<00:03, 27.46it/s]\u001b[A\n",
      " 72%|███████▏  | 271/375 [00:10<00:04, 21.99it/s]\u001b[A\n",
      " 73%|███████▎  | 275/375 [00:10<00:04, 23.63it/s]\u001b[A\n",
      " 74%|███████▍  | 279/375 [00:10<00:03, 24.89it/s]\u001b[A\n",
      " 75%|███████▌  | 283/375 [00:10<00:03, 26.27it/s]\u001b[A\n",
      " 77%|███████▋  | 287/375 [00:10<00:03, 27.31it/s]\u001b[A\n",
      " 78%|███████▊  | 291/375 [00:10<00:02, 29.11it/s]\u001b[A\n",
      " 79%|███████▊  | 295/375 [00:11<00:02, 28.27it/s]\u001b[A\n",
      " 80%|███████▉  | 299/375 [00:11<00:02, 28.52it/s]\u001b[A\n",
      " 81%|████████  | 303/375 [00:11<00:02, 27.66it/s]\u001b[A\n",
      " 82%|████████▏ | 307/375 [00:11<00:02, 28.54it/s]\u001b[A\n",
      " 83%|████████▎ | 311/375 [00:11<00:02, 29.17it/s]\u001b[A\n",
      " 84%|████████▍ | 315/375 [00:11<00:02, 28.60it/s]\u001b[A\n",
      " 85%|████████▌ | 319/375 [00:11<00:01, 28.30it/s]\u001b[A\n",
      " 86%|████████▌ | 323/375 [00:12<00:01, 27.00it/s]\u001b[A\n",
      " 87%|████████▋ | 327/375 [00:12<00:01, 28.03it/s]\u001b[A\n",
      " 88%|████████▊ | 331/375 [00:12<00:01, 27.51it/s]\u001b[A\n",
      " 89%|████████▉ | 335/375 [00:12<00:01, 28.15it/s]\u001b[A\n",
      " 90%|█████████ | 339/375 [00:12<00:01, 27.87it/s]\u001b[A\n",
      " 91%|█████████▏| 343/375 [00:12<00:01, 28.39it/s]\u001b[A\n",
      " 93%|█████████▎| 347/375 [00:12<00:01, 27.15it/s]\u001b[A\n",
      " 94%|█████████▎| 351/375 [00:13<00:00, 27.15it/s]\u001b[A\n",
      " 95%|█████████▍| 355/375 [00:13<00:00, 28.39it/s]\u001b[A\n",
      " 95%|█████████▌| 358/375 [00:13<00:00, 24.14it/s]\u001b[A\n",
      " 96%|█████████▋| 361/375 [00:13<00:00, 23.40it/s]\u001b[A\n",
      " 97%|█████████▋| 365/375 [00:13<00:00, 24.47it/s]\u001b[A\n",
      " 98%|█████████▊| 369/375 [00:13<00:00, 26.09it/s]\u001b[A\n",
      "100%|██████████| 375/375 [00:14<00:00, 26.69it/s]\u001b[A\n",
      "\n",
      "  0%|          | 0/94 [00:00<?, ?it/s]\u001b[A"
     ]
    },
    {
     "name": "stdout",
     "output_type": "stream",
     "text": [
      "===[EPOCH:   12]===========================\n",
      "train_loss = 0.343417701, train_acc = 0.8959792\n"
     ]
    },
    {
     "name": "stderr",
     "output_type": "stream",
     "text": [
      "\n",
      "  1%|          | 1/94 [00:00<00:36,  2.53it/s]\u001b[A\n",
      "  5%|▌         | 5/94 [00:00<00:25,  3.47it/s]\u001b[A\n",
      " 10%|▉         | 9/94 [00:00<00:18,  4.72it/s]\u001b[A\n",
      " 14%|█▍        | 13/94 [00:00<00:12,  6.31it/s]\u001b[A\n",
      " 18%|█▊        | 17/94 [00:00<00:09,  8.19it/s]\u001b[A\n",
      " 22%|██▏       | 21/94 [00:01<00:06, 10.47it/s]\u001b[A\n",
      " 27%|██▋       | 25/94 [00:01<00:05, 12.77it/s]\u001b[A\n",
      " 31%|███       | 29/94 [00:01<00:04, 15.33it/s]\u001b[A\n",
      " 35%|███▌      | 33/94 [00:01<00:03, 17.38it/s]\u001b[A\n",
      " 39%|███▉      | 37/94 [00:01<00:02, 19.97it/s]\u001b[A\n",
      " 44%|████▎     | 41/94 [00:01<00:02, 22.15it/s]\u001b[A\n",
      " 48%|████▊     | 45/94 [00:01<00:02, 23.78it/s]\u001b[A\n",
      " 52%|█████▏    | 49/94 [00:02<00:01, 25.21it/s]\u001b[A\n",
      " 56%|█████▋    | 53/94 [00:02<00:01, 25.70it/s]\u001b[A\n",
      " 61%|██████    | 57/94 [00:02<00:01, 26.82it/s]\u001b[A\n",
      " 65%|██████▍   | 61/94 [00:02<00:01, 27.97it/s]\u001b[A\n",
      " 69%|██████▉   | 65/94 [00:02<00:01, 28.07it/s]\u001b[A\n",
      " 73%|███████▎  | 69/94 [00:02<00:00, 28.96it/s]\u001b[A\n",
      " 78%|███████▊  | 73/94 [00:02<00:00, 29.26it/s]\u001b[A\n",
      " 82%|████████▏ | 77/94 [00:03<00:00, 28.39it/s]\u001b[A\n",
      " 86%|████████▌ | 81/94 [00:03<00:00, 29.43it/s]\u001b[A\n",
      " 90%|█████████ | 85/94 [00:03<00:00, 30.19it/s]\u001b[A\n",
      " 95%|█████████▍| 89/94 [00:03<00:00, 28.59it/s]\u001b[A\n",
      "100%|██████████| 94/94 [00:03<00:00, 26.06it/s]\u001b[A\n",
      "\n",
      "  0%|          | 0/375 [00:00<?, ?it/s]\u001b[A"
     ]
    },
    {
     "name": "stdout",
     "output_type": "stream",
     "text": [
      "val_loss = 0.341543346, val_acc = 0.8970833\n",
      "============================================\n"
     ]
    },
    {
     "name": "stderr",
     "output_type": "stream",
     "text": [
      "\n",
      "  0%|          | 1/375 [00:00<02:17,  2.73it/s]\u001b[A\n",
      "  1%|▏         | 5/375 [00:00<01:38,  3.75it/s]\u001b[A\n",
      "  2%|▏         | 7/375 [00:00<01:20,  4.57it/s]\u001b[A\n",
      "  3%|▎         | 11/375 [00:00<00:59,  6.09it/s]\u001b[A\n",
      "  4%|▍         | 15/375 [00:01<00:45,  7.88it/s]\u001b[A\n",
      "  5%|▌         | 19/375 [00:01<00:35, 10.02it/s]\u001b[A\n",
      "  6%|▌         | 23/375 [00:01<00:27, 12.58it/s]\u001b[A\n",
      "  7%|▋         | 27/375 [00:01<00:23, 15.01it/s]\u001b[A\n",
      "  8%|▊         | 31/375 [00:01<00:19, 17.68it/s]\u001b[A\n",
      "  9%|▉         | 35/375 [00:01<00:17, 19.85it/s]\u001b[A\n",
      " 10%|█         | 39/375 [00:01<00:15, 21.96it/s]\u001b[A\n",
      " 11%|█▏        | 43/375 [00:01<00:13, 24.18it/s]\u001b[A\n",
      " 13%|█▎        | 47/375 [00:02<00:13, 24.47it/s]\u001b[A\n",
      " 14%|█▎        | 51/375 [00:02<00:12, 26.03it/s]\u001b[A\n",
      " 15%|█▍        | 55/375 [00:02<00:11, 27.31it/s]\u001b[A\n",
      " 16%|█▌        | 59/375 [00:02<00:11, 26.43it/s]\u001b[A\n",
      " 17%|█▋        | 63/375 [00:02<00:11, 26.29it/s]\u001b[A\n",
      " 18%|█▊        | 67/375 [00:02<00:11, 27.33it/s]\u001b[A\n",
      " 19%|█▉        | 71/375 [00:02<00:10, 29.01it/s]\u001b[A\n",
      " 20%|██        | 75/375 [00:03<00:10, 29.88it/s]\u001b[A\n",
      " 21%|██        | 79/375 [00:03<00:10, 29.08it/s]\u001b[A\n",
      " 22%|██▏       | 82/375 [00:03<00:11, 26.58it/s]\u001b[A\n",
      " 23%|██▎       | 85/375 [00:03<00:12, 22.82it/s]\u001b[A\n",
      " 24%|██▎       | 89/375 [00:03<00:11, 24.97it/s]\u001b[A\n",
      " 25%|██▍       | 93/375 [00:03<00:11, 25.18it/s]\u001b[A\n",
      " 26%|██▌       | 97/375 [00:03<00:10, 26.44it/s]\u001b[A\n",
      " 27%|██▋       | 101/375 [00:04<00:10, 26.09it/s]\u001b[A\n",
      " 28%|██▊       | 105/375 [00:04<00:10, 26.63it/s]\u001b[A\n",
      " 29%|██▉       | 109/375 [00:04<00:10, 26.54it/s]\u001b[A\n",
      " 30%|███       | 113/375 [00:04<00:09, 27.07it/s]\u001b[A\n",
      " 31%|███       | 117/375 [00:04<00:09, 27.50it/s]\u001b[A\n",
      " 32%|███▏      | 121/375 [00:04<00:09, 27.45it/s]\u001b[A\n",
      " 33%|███▎      | 125/375 [00:05<00:09, 27.05it/s]\u001b[A\n",
      " 34%|███▍      | 129/375 [00:05<00:09, 27.05it/s]\u001b[A\n",
      " 35%|███▌      | 133/375 [00:05<00:08, 27.27it/s]\u001b[A\n",
      " 37%|███▋      | 137/375 [00:05<00:12, 19.63it/s]\u001b[A\n",
      " 38%|███▊      | 141/375 [00:05<00:10, 21.30it/s]\u001b[A\n",
      " 39%|███▊      | 145/375 [00:05<00:10, 22.90it/s]\u001b[A\n",
      " 40%|███▉      | 149/375 [00:06<00:09, 24.37it/s]\u001b[A\n",
      " 41%|████      | 153/375 [00:06<00:08, 24.69it/s]\u001b[A\n",
      " 42%|████▏     | 157/375 [00:06<00:08, 25.09it/s]\u001b[A\n",
      " 43%|████▎     | 161/375 [00:06<00:08, 25.51it/s]\u001b[A\n",
      " 44%|████▍     | 165/375 [00:06<00:07, 26.34it/s]\u001b[A\n",
      " 45%|████▌     | 169/375 [00:06<00:07, 27.34it/s]\u001b[A\n",
      " 46%|████▌     | 173/375 [00:06<00:07, 26.89it/s]\u001b[A\n",
      " 47%|████▋     | 177/375 [00:07<00:07, 27.88it/s]\u001b[A\n",
      " 48%|████▊     | 181/375 [00:07<00:06, 27.77it/s]\u001b[A\n",
      " 49%|████▉     | 185/375 [00:07<00:06, 27.21it/s]\u001b[A\n",
      " 50%|█████     | 189/375 [00:07<00:06, 26.81it/s]\u001b[A\n",
      " 51%|█████▏    | 193/375 [00:07<00:08, 22.08it/s]\u001b[A\n",
      " 53%|█████▎    | 197/375 [00:07<00:07, 22.42it/s]\u001b[A\n",
      " 54%|█████▎    | 201/375 [00:08<00:07, 23.15it/s]\u001b[A\n",
      " 55%|█████▍    | 205/375 [00:08<00:06, 24.48it/s]\u001b[A\n",
      " 56%|█████▌    | 209/375 [00:08<00:06, 25.74it/s]\u001b[A\n",
      " 57%|█████▋    | 213/375 [00:08<00:06, 25.92it/s]\u001b[A\n",
      " 58%|█████▊    | 217/375 [00:08<00:05, 27.06it/s]\u001b[A\n",
      " 59%|█████▉    | 221/375 [00:08<00:05, 27.20it/s]\u001b[A\n",
      " 60%|██████    | 225/375 [00:08<00:05, 28.23it/s]\u001b[A\n",
      " 61%|██████    | 229/375 [00:09<00:05, 29.10it/s]\u001b[A\n",
      " 62%|██████▏   | 233/375 [00:09<00:05, 27.98it/s]\u001b[A\n",
      " 63%|██████▎   | 237/375 [00:09<00:04, 27.96it/s]\u001b[A\n",
      " 64%|██████▍   | 241/375 [00:09<00:04, 26.96it/s]\u001b[A\n",
      " 65%|██████▌   | 245/375 [00:09<00:04, 26.80it/s]\u001b[A\n",
      " 66%|██████▋   | 249/375 [00:09<00:04, 27.18it/s]\u001b[A\n",
      " 67%|██████▋   | 253/375 [00:09<00:04, 27.35it/s]\u001b[A\n",
      " 69%|██████▊   | 257/375 [00:10<00:04, 26.34it/s]\u001b[A\n",
      " 70%|██████▉   | 261/375 [00:10<00:04, 27.27it/s]\u001b[A\n",
      " 71%|███████   | 265/375 [00:10<00:04, 25.88it/s]\u001b[A\n",
      " 72%|███████▏  | 269/375 [00:10<00:04, 25.56it/s]\u001b[A\n",
      " 73%|███████▎  | 273/375 [00:10<00:03, 26.12it/s]\u001b[A\n",
      " 74%|███████▍  | 277/375 [00:10<00:03, 27.69it/s]\u001b[A\n",
      " 75%|███████▍  | 280/375 [00:11<00:04, 20.33it/s]\u001b[A\n",
      " 75%|███████▌  | 283/375 [00:11<00:04, 20.15it/s]\u001b[A\n",
      " 77%|███████▋  | 287/375 [00:11<00:04, 21.29it/s]\u001b[A\n",
      " 78%|███████▊  | 291/375 [00:11<00:03, 23.89it/s]\u001b[A\n",
      " 79%|███████▊  | 295/375 [00:11<00:03, 26.32it/s]\u001b[A\n",
      " 80%|███████▉  | 299/375 [00:11<00:02, 26.77it/s]\u001b[A\n",
      " 81%|████████  | 303/375 [00:11<00:02, 28.22it/s]\u001b[A\n",
      " 82%|████████▏ | 307/375 [00:12<00:02, 29.43it/s]\u001b[A\n",
      " 83%|████████▎ | 311/375 [00:12<00:02, 29.94it/s]\u001b[A\n",
      " 84%|████████▍ | 315/375 [00:12<00:02, 28.95it/s]\u001b[A\n",
      " 85%|████████▌ | 319/375 [00:12<00:01, 30.15it/s]\u001b[A\n",
      " 86%|████████▌ | 323/375 [00:12<00:01, 31.62it/s]\u001b[A\n",
      " 87%|████████▋ | 327/375 [00:12<00:01, 32.23it/s]\u001b[A\n",
      " 88%|████████▊ | 331/375 [00:12<00:01, 31.34it/s]\u001b[A\n",
      " 89%|████████▉ | 335/375 [00:12<00:01, 31.57it/s]\u001b[A\n",
      " 90%|█████████ | 339/375 [00:13<00:01, 32.40it/s]\u001b[A\n",
      " 91%|█████████▏| 343/375 [00:13<00:00, 32.23it/s]\u001b[A\n",
      " 93%|█████████▎| 347/375 [00:13<00:00, 30.96it/s]\u001b[A\n",
      " 94%|█████████▎| 351/375 [00:13<00:00, 30.94it/s]\u001b[A\n",
      " 95%|█████████▍| 355/375 [00:13<00:00, 29.36it/s]\u001b[A\n",
      " 96%|█████████▌| 359/375 [00:13<00:00, 29.22it/s]\u001b[A\n",
      " 97%|█████████▋| 363/375 [00:13<00:00, 30.75it/s]\u001b[A\n",
      " 98%|█████████▊| 367/375 [00:14<00:00, 29.50it/s]\u001b[A\n",
      " 99%|█████████▉| 371/375 [00:14<00:00, 29.85it/s]\u001b[A\n",
      "100%|██████████| 375/375 [00:14<00:00, 26.22it/s]\u001b[A\n",
      "\n",
      "  0%|          | 0/94 [00:00<?, ?it/s]\u001b[A"
     ]
    },
    {
     "name": "stdout",
     "output_type": "stream",
     "text": [
      "===[EPOCH:   13]===========================\n",
      "train_loss = 0.343495427, train_acc = 0.8968542\n"
     ]
    },
    {
     "name": "stderr",
     "output_type": "stream",
     "text": [
      "\n",
      "  1%|          | 1/94 [00:00<00:38,  2.41it/s]\u001b[A\n",
      "  5%|▌         | 5/94 [00:00<00:26,  3.33it/s]\u001b[A\n",
      " 10%|▉         | 9/94 [00:00<00:19,  4.45it/s]\u001b[A\n",
      " 14%|█▍        | 13/94 [00:00<00:13,  5.97it/s]\u001b[A\n",
      " 18%|█▊        | 17/94 [00:01<00:09,  7.79it/s]\u001b[A\n",
      " 22%|██▏       | 21/94 [00:01<00:07, 10.15it/s]\u001b[A\n",
      " 27%|██▋       | 25/94 [00:01<00:05, 12.67it/s]\u001b[A\n",
      " 31%|███       | 29/94 [00:01<00:04, 15.15it/s]\u001b[A\n",
      " 34%|███▍      | 32/94 [00:01<00:03, 17.66it/s]\u001b[A\n",
      " 38%|███▊      | 36/94 [00:01<00:02, 20.59it/s]\u001b[A\n",
      " 43%|████▎     | 40/94 [00:01<00:02, 22.83it/s]\u001b[A\n",
      " 47%|████▋     | 44/94 [00:01<00:02, 24.07it/s]\u001b[A\n",
      " 51%|█████     | 48/94 [00:02<00:01, 25.76it/s]\u001b[A\n",
      " 55%|█████▌    | 52/94 [00:02<00:01, 27.35it/s]\u001b[A\n",
      " 60%|█████▉    | 56/94 [00:02<00:01, 29.15it/s]\u001b[A\n",
      " 64%|██████▍   | 60/94 [00:02<00:01, 28.99it/s]\u001b[A\n",
      " 68%|██████▊   | 64/94 [00:02<00:01, 29.14it/s]\u001b[A\n",
      " 72%|███████▏  | 68/94 [00:02<00:00, 30.60it/s]\u001b[A\n",
      " 77%|███████▋  | 72/94 [00:02<00:00, 29.89it/s]\u001b[A\n",
      " 81%|████████  | 76/94 [00:02<00:00, 30.61it/s]\u001b[A\n",
      " 85%|████████▌ | 80/94 [00:03<00:00, 31.19it/s]\u001b[A\n",
      " 89%|████████▉ | 84/94 [00:03<00:00, 32.20it/s]\u001b[A\n",
      " 94%|█████████▎| 88/94 [00:03<00:00, 31.66it/s]\u001b[A\n",
      "100%|██████████| 94/94 [00:03<00:00, 26.95it/s]\u001b[A\n",
      "\n",
      "  0%|          | 0/375 [00:00<?, ?it/s]\u001b[A"
     ]
    },
    {
     "name": "stdout",
     "output_type": "stream",
     "text": [
      "val_loss = 0.342685342, val_acc = 0.8974167\n",
      "============================================\n",
      "INFO: Early stopping counter 1 of 4\n"
     ]
    },
    {
     "name": "stderr",
     "output_type": "stream",
     "text": [
      "\n",
      "  0%|          | 1/375 [00:00<03:12,  1.94it/s]\u001b[A\n",
      "  1%|▏         | 5/375 [00:00<02:17,  2.69it/s]\u001b[A\n",
      "  2%|▏         | 9/375 [00:00<01:38,  3.72it/s]\u001b[A\n",
      "  3%|▎         | 12/375 [00:00<01:12,  5.02it/s]\u001b[A\n",
      "  4%|▍         | 15/375 [00:00<00:54,  6.65it/s]\u001b[A\n",
      "  5%|▌         | 19/375 [00:01<00:41,  8.62it/s]\u001b[A\n",
      "  6%|▌         | 23/375 [00:01<00:31, 11.04it/s]\u001b[A\n",
      "  7%|▋         | 27/375 [00:01<00:25, 13.58it/s]\u001b[A\n",
      "  8%|▊         | 31/375 [00:01<00:21, 15.85it/s]\u001b[A\n",
      "  9%|▉         | 35/375 [00:01<00:18, 18.66it/s]\u001b[A\n",
      " 10%|█         | 39/375 [00:01<00:16, 20.66it/s]\u001b[A\n",
      " 11%|█▏        | 43/375 [00:01<00:14, 23.11it/s]\u001b[A\n",
      " 13%|█▎        | 47/375 [00:02<00:13, 24.95it/s]\u001b[A\n",
      " 14%|█▎        | 51/375 [00:02<00:12, 26.85it/s]\u001b[A\n",
      " 15%|█▍        | 55/375 [00:02<00:11, 27.92it/s]\u001b[A\n",
      " 16%|█▌        | 59/375 [00:02<00:11, 28.69it/s]\u001b[A\n",
      " 17%|█▋        | 63/375 [00:02<00:10, 28.65it/s]\u001b[A\n",
      " 18%|█▊        | 67/375 [00:02<00:10, 28.12it/s]\u001b[A\n",
      " 19%|█▉        | 71/375 [00:02<00:10, 27.93it/s]\u001b[A\n",
      " 20%|██        | 75/375 [00:03<00:10, 27.62it/s]\u001b[A\n",
      " 21%|██        | 79/375 [00:03<00:10, 27.64it/s]\u001b[A\n",
      " 22%|██▏       | 83/375 [00:03<00:10, 27.66it/s]\u001b[A\n",
      " 23%|██▎       | 87/375 [00:03<00:10, 28.45it/s]\u001b[A\n",
      " 24%|██▍       | 91/375 [00:03<00:10, 27.63it/s]\u001b[A\n",
      " 25%|██▌       | 95/375 [00:03<00:12, 23.18it/s]\u001b[A\n",
      " 26%|██▌       | 98/375 [00:03<00:11, 24.34it/s]\u001b[A\n",
      " 27%|██▋       | 101/375 [00:04<00:11, 24.23it/s]\u001b[A\n",
      " 28%|██▊       | 105/375 [00:04<00:10, 25.12it/s]\u001b[A\n",
      " 29%|██▉       | 109/375 [00:04<00:10, 26.00it/s]\u001b[A\n",
      " 30%|███       | 113/375 [00:04<00:09, 26.23it/s]\u001b[A\n",
      " 31%|███       | 117/375 [00:04<00:09, 27.08it/s]\u001b[A\n",
      " 32%|███▏      | 121/375 [00:04<00:08, 28.23it/s]\u001b[A\n",
      " 33%|███▎      | 125/375 [00:04<00:08, 28.06it/s]\u001b[A\n",
      " 34%|███▍      | 129/375 [00:05<00:08, 28.74it/s]\u001b[A\n",
      " 35%|███▌      | 132/375 [00:05<00:08, 28.62it/s]\u001b[A\n",
      " 36%|███▌      | 135/375 [00:05<00:08, 28.53it/s]\u001b[A\n",
      " 37%|███▋      | 139/375 [00:05<00:08, 27.77it/s]\u001b[A\n",
      " 38%|███▊      | 142/375 [00:05<00:08, 27.58it/s]\u001b[A\n",
      " 39%|███▊      | 145/375 [00:05<00:08, 26.25it/s]\u001b[A\n",
      " 40%|███▉      | 149/375 [00:05<00:08, 26.21it/s]\u001b[A\n",
      " 41%|████      | 153/375 [00:05<00:08, 27.28it/s]\u001b[A\n",
      " 42%|████▏     | 157/375 [00:06<00:07, 28.08it/s]\u001b[A\n",
      " 43%|████▎     | 161/375 [00:06<00:07, 27.00it/s]\u001b[A\n",
      " 44%|████▍     | 165/375 [00:06<00:07, 28.39it/s]\u001b[A\n",
      " 45%|████▍     | 168/375 [00:06<00:09, 21.88it/s]\u001b[A\n",
      " 46%|████▌     | 171/375 [00:06<00:09, 21.69it/s]\u001b[A\n",
      " 47%|████▋     | 175/375 [00:06<00:08, 23.21it/s]\u001b[A\n",
      " 48%|████▊     | 179/375 [00:06<00:07, 25.28it/s]\u001b[A\n",
      " 49%|████▉     | 183/375 [00:07<00:07, 25.39it/s]\u001b[A\n",
      " 50%|████▉     | 187/375 [00:07<00:06, 27.01it/s]\u001b[A\n",
      " 51%|█████     | 191/375 [00:07<00:06, 27.33it/s]\u001b[A\n",
      " 52%|█████▏    | 195/375 [00:07<00:06, 28.28it/s]\u001b[A\n",
      " 53%|█████▎    | 199/375 [00:07<00:06, 28.86it/s]\u001b[A\n",
      " 54%|█████▍    | 203/375 [00:07<00:06, 28.27it/s]\u001b[A\n",
      " 55%|█████▌    | 207/375 [00:07<00:05, 28.02it/s]\u001b[A\n",
      " 56%|█████▋    | 211/375 [00:08<00:05, 29.15it/s]\u001b[A\n",
      " 57%|█████▋    | 215/375 [00:08<00:05, 28.86it/s]\u001b[A\n",
      " 58%|█████▊    | 219/375 [00:08<00:05, 29.40it/s]\u001b[A\n",
      " 59%|█████▉    | 223/375 [00:08<00:05, 29.57it/s]\u001b[A\n",
      " 60%|██████    | 226/375 [00:08<00:05, 28.38it/s]\u001b[A\n",
      " 61%|██████▏   | 230/375 [00:08<00:05, 28.75it/s]\u001b[A\n",
      " 62%|██████▏   | 234/375 [00:08<00:04, 29.22it/s]\u001b[A\n",
      " 63%|██████▎   | 237/375 [00:08<00:04, 29.15it/s]\u001b[A\n",
      " 64%|██████▍   | 240/375 [00:09<00:06, 20.14it/s]\u001b[A\n",
      " 65%|██████▌   | 244/375 [00:09<00:05, 22.48it/s]\u001b[A\n",
      " 66%|██████▌   | 247/375 [00:09<00:05, 24.26it/s]\u001b[A\n",
      " 67%|██████▋   | 250/375 [00:09<00:04, 25.17it/s]\u001b[A\n",
      " 67%|██████▋   | 253/375 [00:09<00:05, 24.30it/s]\u001b[A\n",
      " 68%|██████▊   | 256/375 [00:09<00:04, 25.50it/s]\u001b[A\n",
      " 69%|██████▉   | 259/375 [00:09<00:04, 24.60it/s]\u001b[A\n",
      " 70%|███████   | 263/375 [00:10<00:04, 25.83it/s]\u001b[A\n",
      " 71%|███████   | 267/375 [00:10<00:04, 25.68it/s]\u001b[A\n",
      " 72%|███████▏  | 271/375 [00:10<00:03, 26.29it/s]\u001b[A\n",
      " 73%|███████▎  | 275/375 [00:10<00:03, 26.00it/s]\u001b[A\n",
      " 74%|███████▍  | 279/375 [00:10<00:03, 26.16it/s]\u001b[A\n",
      " 75%|███████▌  | 283/375 [00:10<00:03, 25.66it/s]\u001b[A\n",
      " 77%|███████▋  | 287/375 [00:10<00:03, 26.71it/s]\u001b[A\n",
      " 78%|███████▊  | 291/375 [00:11<00:03, 25.62it/s]\u001b[A\n",
      " 79%|███████▊  | 295/375 [00:11<00:02, 27.37it/s]\u001b[A\n",
      " 80%|███████▉  | 299/375 [00:11<00:02, 27.23it/s]\u001b[A\n",
      " 81%|████████  | 303/375 [00:11<00:02, 27.72it/s]\u001b[A\n",
      " 82%|████████▏ | 307/375 [00:11<00:02, 26.93it/s]\u001b[A\n",
      " 83%|████████▎ | 310/375 [00:11<00:02, 27.56it/s]\u001b[A\n",
      " 83%|████████▎ | 313/375 [00:11<00:02, 26.55it/s]\u001b[A\n",
      " 84%|████████▍ | 316/375 [00:12<00:02, 25.46it/s]\u001b[A\n",
      " 85%|████████▌ | 320/375 [00:12<00:02, 26.17it/s]\u001b[A\n",
      " 86%|████████▋ | 324/375 [00:12<00:02, 23.96it/s]\u001b[A\n",
      " 87%|████████▋ | 327/375 [00:12<00:01, 25.20it/s]\u001b[A\n",
      " 88%|████████▊ | 330/375 [00:12<00:01, 25.07it/s]\u001b[A\n",
      " 89%|████████▉ | 333/375 [00:12<00:01, 25.29it/s]\u001b[A\n",
      " 90%|████████▉ | 336/375 [00:12<00:01, 26.03it/s]\u001b[A\n",
      " 90%|█████████ | 339/375 [00:13<00:01, 25.60it/s]\u001b[A\n",
      " 91%|█████████▏| 343/375 [00:13<00:01, 26.61it/s]\u001b[A\n",
      " 93%|█████████▎| 347/375 [00:13<00:01, 27.66it/s]\u001b[A\n",
      " 94%|█████████▎| 351/375 [00:13<00:00, 27.71it/s]\u001b[A\n",
      " 95%|█████████▍| 355/375 [00:13<00:00, 28.87it/s]\u001b[A\n",
      " 96%|█████████▌| 359/375 [00:13<00:00, 29.31it/s]\u001b[A\n",
      " 97%|█████████▋| 363/375 [00:13<00:00, 28.68it/s]\u001b[A\n",
      " 98%|█████████▊| 367/375 [00:13<00:00, 29.42it/s]\u001b[A\n",
      " 99%|█████████▉| 371/375 [00:14<00:00, 30.29it/s]\u001b[A\n",
      "100%|██████████| 375/375 [00:14<00:00, 26.34it/s]\u001b[A\n",
      "\n",
      "  0%|          | 0/94 [00:00<?, ?it/s]\u001b[A"
     ]
    },
    {
     "name": "stdout",
     "output_type": "stream",
     "text": [
      "===[EPOCH:   14]===========================\n",
      "train_loss = 0.337061783, train_acc = 0.8999583\n"
     ]
    },
    {
     "name": "stderr",
     "output_type": "stream",
     "text": [
      "\n",
      "  1%|          | 1/94 [00:00<00:41,  2.24it/s]\u001b[A\n",
      "  5%|▌         | 5/94 [00:00<00:28,  3.08it/s]\u001b[A\n",
      "  9%|▊         | 8/94 [00:00<00:20,  4.20it/s]\u001b[A\n",
      " 13%|█▎        | 12/94 [00:00<00:14,  5.68it/s]\u001b[A\n",
      " 17%|█▋        | 16/94 [00:00<00:10,  7.44it/s]\u001b[A\n",
      " 20%|██        | 19/94 [00:01<00:09,  7.96it/s]\u001b[A\n",
      " 22%|██▏       | 21/94 [00:01<00:07,  9.37it/s]\u001b[A\n",
      " 26%|██▌       | 24/94 [00:01<00:06, 11.34it/s]\u001b[A\n",
      " 30%|██▉       | 28/94 [00:01<00:04, 13.59it/s]\u001b[A\n",
      " 34%|███▍      | 32/94 [00:01<00:03, 16.31it/s]\u001b[A\n",
      " 38%|███▊      | 36/94 [00:02<00:03, 18.40it/s]\u001b[A\n",
      " 43%|████▎     | 40/94 [00:02<00:02, 21.10it/s]\u001b[A\n",
      " 47%|████▋     | 44/94 [00:02<00:02, 23.20it/s]\u001b[A\n",
      " 51%|█████     | 48/94 [00:02<00:01, 24.48it/s]\u001b[A\n",
      " 55%|█████▌    | 52/94 [00:02<00:01, 25.40it/s]\u001b[A\n",
      " 60%|█████▉    | 56/94 [00:02<00:01, 26.05it/s]\u001b[A\n",
      " 64%|██████▍   | 60/94 [00:02<00:01, 26.72it/s]\u001b[A\n",
      " 68%|██████▊   | 64/94 [00:02<00:01, 27.92it/s]\u001b[A\n",
      " 72%|███████▏  | 68/94 [00:03<00:00, 28.41it/s]\u001b[A\n",
      " 77%|███████▋  | 72/94 [00:03<00:00, 28.83it/s]\u001b[A\n",
      " 81%|████████  | 76/94 [00:03<00:00, 27.98it/s]\u001b[A\n",
      " 85%|████████▌ | 80/94 [00:03<00:00, 27.99it/s]\u001b[A\n",
      " 89%|████████▉ | 84/94 [00:03<00:00, 28.39it/s]\u001b[A\n",
      " 94%|█████████▎| 88/94 [00:03<00:00, 27.86it/s]\u001b[A\n",
      "100%|██████████| 94/94 [00:03<00:00, 23.53it/s]\u001b[A\n",
      "\n",
      "  0%|          | 0/375 [00:00<?, ?it/s]\u001b[A"
     ]
    },
    {
     "name": "stdout",
     "output_type": "stream",
     "text": [
      "val_loss = 0.333292233, val_acc = 0.9026667\n",
      "============================================\n"
     ]
    },
    {
     "name": "stderr",
     "output_type": "stream",
     "text": [
      "\n",
      "  0%|          | 1/375 [00:00<02:26,  2.55it/s]\u001b[A\n",
      "  1%|          | 3/375 [00:00<01:48,  3.44it/s]\u001b[A\n",
      "  2%|▏         | 6/375 [00:00<01:19,  4.64it/s]\u001b[A\n",
      "  2%|▏         | 9/375 [00:00<00:59,  6.17it/s]\u001b[A\n",
      "  3%|▎         | 12/375 [00:00<00:46,  7.84it/s]\u001b[A\n",
      "  4%|▍         | 15/375 [00:00<00:35, 10.04it/s]\u001b[A\n",
      "  5%|▍         | 18/375 [00:01<00:29, 12.27it/s]\u001b[A\n",
      "  6%|▌         | 21/375 [00:01<00:23, 14.80it/s]\u001b[A\n",
      "  6%|▋         | 24/375 [00:01<00:20, 17.21it/s]\u001b[A\n",
      "  7%|▋         | 27/375 [00:01<00:17, 19.60it/s]\u001b[A\n",
      "  8%|▊         | 30/375 [00:01<00:16, 21.21it/s]\u001b[A\n",
      "  9%|▉         | 33/375 [00:01<00:15, 22.21it/s]\u001b[A\n",
      " 10%|▉         | 36/375 [00:01<00:15, 22.46it/s]\u001b[A\n",
      " 10%|█         | 39/375 [00:01<00:13, 24.22it/s]\u001b[A\n",
      " 11%|█         | 42/375 [00:01<00:13, 24.62it/s]\u001b[A\n",
      " 12%|█▏        | 46/375 [00:02<00:12, 25.77it/s]\u001b[A\n",
      " 13%|█▎        | 50/375 [00:02<00:12, 25.58it/s]\u001b[A\n",
      " 14%|█▍        | 54/375 [00:02<00:12, 26.44it/s]\u001b[A\n",
      " 15%|█▌        | 58/375 [00:02<00:11, 26.82it/s]\u001b[A\n",
      " 17%|█▋        | 62/375 [00:02<00:11, 26.28it/s]\u001b[A\n",
      " 18%|█▊        | 66/375 [00:02<00:11, 25.80it/s]\u001b[A\n",
      " 19%|█▊        | 70/375 [00:03<00:11, 26.10it/s]\u001b[A\n",
      " 20%|█▉        | 74/375 [00:03<00:11, 25.74it/s]\u001b[A\n",
      " 21%|██        | 78/375 [00:03<00:11, 26.46it/s]\u001b[A\n",
      " 22%|██▏       | 82/375 [00:03<00:10, 26.65it/s]\u001b[A\n",
      " 23%|██▎       | 86/375 [00:03<00:10, 27.90it/s]\u001b[A\n",
      " 24%|██▍       | 90/375 [00:03<00:09, 28.86it/s]\u001b[A\n",
      " 25%|██▌       | 94/375 [00:03<00:09, 28.54it/s]\u001b[A\n",
      " 26%|██▌       | 98/375 [00:04<00:10, 25.71it/s]\u001b[A\n",
      " 27%|██▋       | 102/375 [00:04<00:10, 26.63it/s]\u001b[A\n",
      " 28%|██▊       | 106/375 [00:04<00:09, 28.55it/s]\u001b[A\n",
      " 29%|██▉       | 110/375 [00:04<00:09, 28.51it/s]\u001b[A\n",
      " 30%|███       | 114/375 [00:04<00:09, 28.94it/s]\u001b[A\n",
      " 31%|███▏      | 118/375 [00:04<00:08, 29.39it/s]\u001b[A\n",
      " 33%|███▎      | 122/375 [00:04<00:09, 27.34it/s]\u001b[A\n",
      " 34%|███▎      | 126/375 [00:05<00:08, 28.13it/s]\u001b[A\n",
      " 35%|███▍      | 130/375 [00:05<00:08, 27.74it/s]\u001b[A\n",
      " 36%|███▌      | 134/375 [00:05<00:08, 28.47it/s]\u001b[A\n",
      " 37%|███▋      | 138/375 [00:05<00:08, 29.31it/s]\u001b[A\n",
      " 38%|███▊      | 142/375 [00:05<00:08, 28.69it/s]\u001b[A\n",
      " 39%|███▉      | 146/375 [00:05<00:07, 29.19it/s]\u001b[A\n",
      " 40%|████      | 150/375 [00:05<00:08, 28.06it/s]\u001b[A\n",
      " 41%|████      | 154/375 [00:06<00:07, 28.38it/s]\u001b[A\n",
      " 42%|████▏     | 158/375 [00:06<00:07, 27.93it/s]\u001b[A\n",
      " 43%|████▎     | 162/375 [00:06<00:07, 28.46it/s]\u001b[A\n",
      " 44%|████▍     | 165/375 [00:06<00:09, 22.42it/s]\u001b[A\n",
      " 45%|████▍     | 168/375 [00:06<00:09, 22.12it/s]\u001b[A\n",
      " 46%|████▌     | 172/375 [00:06<00:08, 23.24it/s]\u001b[A\n",
      " 47%|████▋     | 176/375 [00:06<00:08, 24.62it/s]\u001b[A\n",
      " 48%|████▊     | 180/375 [00:07<00:07, 25.83it/s]\u001b[A\n",
      " 49%|████▉     | 184/375 [00:07<00:07, 27.01it/s]\u001b[A\n",
      " 50%|█████     | 188/375 [00:07<00:06, 29.03it/s]\u001b[A\n",
      " 51%|█████     | 191/375 [00:07<00:06, 28.76it/s]\u001b[A\n",
      " 52%|█████▏    | 194/375 [00:07<00:06, 28.33it/s]\u001b[A\n",
      " 53%|█████▎    | 197/375 [00:07<00:06, 27.78it/s]\u001b[A\n",
      " 54%|█████▎    | 201/375 [00:07<00:06, 27.32it/s]\u001b[A\n",
      " 55%|█████▍    | 205/375 [00:07<00:05, 28.45it/s]\u001b[A\n",
      " 55%|█████▌    | 208/375 [00:08<00:05, 28.48it/s]\u001b[A\n",
      " 57%|█████▋    | 212/375 [00:08<00:05, 28.55it/s]\u001b[A\n",
      " 57%|█████▋    | 215/375 [00:08<00:05, 28.29it/s]\u001b[A\n",
      " 58%|█████▊    | 219/375 [00:08<00:05, 27.65it/s]\u001b[A\n",
      " 59%|█████▉    | 223/375 [00:08<00:05, 26.36it/s]\u001b[A\n",
      " 61%|██████    | 227/375 [00:08<00:05, 27.95it/s]\u001b[A\n",
      " 62%|██████▏   | 231/375 [00:08<00:05, 27.76it/s]\u001b[A\n",
      " 62%|██████▏   | 234/375 [00:08<00:05, 28.04it/s]\u001b[A\n",
      " 63%|██████▎   | 237/375 [00:09<00:05, 26.43it/s]\u001b[A\n",
      " 64%|██████▍   | 240/375 [00:09<00:05, 26.65it/s]\u001b[A\n",
      " 65%|██████▌   | 244/375 [00:09<00:04, 27.46it/s]\u001b[A\n",
      " 66%|██████▌   | 248/375 [00:09<00:04, 27.00it/s]\u001b[A\n",
      " 67%|██████▋   | 251/375 [00:09<00:04, 24.89it/s]\u001b[A\n",
      " 68%|██████▊   | 254/375 [00:09<00:04, 26.06it/s]\u001b[A\n",
      " 69%|██████▉   | 258/375 [00:09<00:04, 26.60it/s]\u001b[A\n",
      " 70%|██████▉   | 261/375 [00:10<00:04, 25.71it/s]\u001b[A\n",
      " 71%|███████   | 265/375 [00:10<00:04, 25.19it/s]\u001b[A\n",
      " 72%|███████▏  | 269/375 [00:10<00:03, 26.58it/s]\u001b[A\n",
      " 73%|███████▎  | 273/375 [00:10<00:03, 27.41it/s]\u001b[A\n",
      " 74%|███████▍  | 277/375 [00:10<00:03, 26.29it/s]\u001b[A\n",
      " 75%|███████▍  | 281/375 [00:10<00:03, 27.20it/s]\u001b[A\n",
      " 76%|███████▌  | 285/375 [00:10<00:03, 26.78it/s]\u001b[A\n",
      " 77%|███████▋  | 289/375 [00:11<00:03, 27.80it/s]\u001b[A\n",
      " 78%|███████▊  | 293/375 [00:11<00:02, 27.45it/s]\u001b[A\n",
      " 79%|███████▉  | 297/375 [00:11<00:02, 26.78it/s]\u001b[A\n",
      " 80%|████████  | 301/375 [00:11<00:02, 26.76it/s]\u001b[A\n",
      " 81%|████████▏ | 305/375 [00:11<00:02, 27.64it/s]\u001b[A\n",
      " 82%|████████▏ | 309/375 [00:11<00:02, 26.89it/s]\u001b[A\n",
      " 83%|████████▎ | 313/375 [00:11<00:02, 27.47it/s]\u001b[A\n",
      " 85%|████████▍ | 317/375 [00:12<00:02, 27.53it/s]\u001b[A\n",
      " 86%|████████▌ | 321/375 [00:12<00:01, 28.85it/s]\u001b[A\n",
      " 87%|████████▋ | 325/375 [00:12<00:01, 29.36it/s]\u001b[A\n",
      " 88%|████████▊ | 329/375 [00:12<00:01, 28.18it/s]\u001b[A\n",
      " 89%|████████▊ | 332/375 [00:12<00:01, 27.82it/s]\u001b[A\n",
      " 89%|████████▉ | 335/375 [00:12<00:01, 24.15it/s]\u001b[A\n",
      " 90%|█████████ | 338/375 [00:12<00:01, 23.64it/s]\u001b[A\n",
      " 91%|█████████ | 342/375 [00:13<00:01, 24.90it/s]\u001b[A\n",
      " 92%|█████████▏| 346/375 [00:13<00:01, 25.54it/s]\u001b[A\n",
      " 93%|█████████▎| 350/375 [00:13<00:00, 27.03it/s]\u001b[A\n",
      " 94%|█████████▍| 353/375 [00:13<00:00, 27.43it/s]\u001b[A\n",
      " 95%|█████████▍| 356/375 [00:13<00:00, 27.15it/s]\u001b[A\n",
      " 96%|█████████▌| 359/375 [00:13<00:00, 27.25it/s]\u001b[A\n",
      " 97%|█████████▋| 362/375 [00:13<00:00, 27.76it/s]\u001b[A\n",
      " 97%|█████████▋| 365/375 [00:13<00:00, 27.53it/s]\u001b[A\n",
      " 98%|█████████▊| 368/375 [00:14<00:00, 24.08it/s]\u001b[A\n",
      "100%|██████████| 375/375 [00:14<00:00, 26.31it/s]\u001b[A\n",
      "\n",
      "  0%|          | 0/94 [00:00<?, ?it/s]\u001b[A"
     ]
    },
    {
     "name": "stdout",
     "output_type": "stream",
     "text": [
      "===[EPOCH:   15]===========================\n",
      "train_loss = 0.335897698, train_acc = 0.8995\n"
     ]
    },
    {
     "name": "stderr",
     "output_type": "stream",
     "text": [
      "\n",
      "  1%|          | 1/94 [00:00<00:39,  2.38it/s]\u001b[A\n",
      "  4%|▍         | 4/94 [00:00<00:27,  3.25it/s]\u001b[A\n",
      "  7%|▋         | 7/94 [00:00<00:19,  4.41it/s]\u001b[A\n",
      " 11%|█         | 10/94 [00:00<00:14,  5.92it/s]\u001b[A\n",
      " 14%|█▍        | 13/94 [00:00<00:10,  7.59it/s]\u001b[A\n",
      " 17%|█▋        | 16/94 [00:01<00:08,  9.62it/s]\u001b[A\n",
      " 20%|██        | 19/94 [00:01<00:06, 11.82it/s]\u001b[A\n",
      " 23%|██▎       | 22/94 [00:01<00:05, 14.16it/s]\u001b[A\n",
      " 27%|██▋       | 25/94 [00:01<00:04, 16.61it/s]\u001b[A\n",
      " 31%|███       | 29/94 [00:01<00:03, 17.29it/s]\u001b[A\n",
      " 34%|███▍      | 32/94 [00:01<00:03, 19.47it/s]\u001b[A\n",
      " 37%|███▋      | 35/94 [00:01<00:02, 21.12it/s]\u001b[A\n",
      " 40%|████      | 38/94 [00:01<00:02, 22.00it/s]\u001b[A\n",
      " 44%|████▎     | 41/94 [00:02<00:02, 23.47it/s]\u001b[A\n",
      " 47%|████▋     | 44/94 [00:02<00:02, 24.09it/s]\u001b[A\n",
      " 50%|█████     | 47/94 [00:02<00:01, 24.05it/s]\u001b[A\n",
      " 54%|█████▍    | 51/94 [00:02<00:01, 25.64it/s]\u001b[A\n",
      " 59%|█████▊    | 55/94 [00:02<00:01, 25.09it/s]\u001b[A\n",
      " 63%|██████▎   | 59/94 [00:02<00:01, 25.17it/s]\u001b[A\n",
      " 67%|██████▋   | 63/94 [00:02<00:01, 25.39it/s]\u001b[A\n",
      " 71%|███████▏  | 67/94 [00:03<00:01, 25.84it/s]\u001b[A\n",
      " 76%|███████▌  | 71/94 [00:03<00:00, 26.15it/s]\u001b[A\n",
      " 80%|███████▉  | 75/94 [00:03<00:00, 27.86it/s]\u001b[A\n",
      " 84%|████████▍ | 79/94 [00:03<00:00, 27.19it/s]\u001b[A\n",
      " 88%|████████▊ | 83/94 [00:03<00:00, 27.54it/s]\u001b[A\n",
      " 93%|█████████▎| 87/94 [00:03<00:00, 26.13it/s]\u001b[A\n",
      "100%|██████████| 94/94 [00:04<00:00, 23.40it/s]\u001b[A\n",
      "\n",
      "  0%|          | 0/375 [00:00<?, ?it/s]\u001b[A"
     ]
    },
    {
     "name": "stdout",
     "output_type": "stream",
     "text": [
      "val_loss = 0.379750382, val_acc = 0.88275\n",
      "============================================\n",
      "INFO: Early stopping counter 1 of 4\n"
     ]
    },
    {
     "name": "stderr",
     "output_type": "stream",
     "text": [
      "\n",
      "  0%|          | 1/375 [00:00<02:42,  2.30it/s]\u001b[A\n",
      "  1%|          | 3/375 [00:00<02:01,  3.06it/s]\u001b[A\n",
      "  2%|▏         | 7/375 [00:00<01:28,  4.16it/s]\u001b[A\n",
      "  3%|▎         | 10/375 [00:00<01:05,  5.59it/s]\u001b[A\n",
      "  3%|▎         | 13/375 [00:00<00:49,  7.33it/s]\u001b[A\n",
      "  5%|▍         | 17/375 [00:01<00:38,  9.28it/s]\u001b[A\n",
      "  6%|▌         | 21/375 [00:01<00:30, 11.65it/s]\u001b[A\n",
      "  6%|▋         | 24/375 [00:01<00:25, 13.96it/s]\u001b[A\n",
      "  7%|▋         | 28/375 [00:01<00:21, 15.94it/s]\u001b[A\n",
      "  9%|▊         | 32/375 [00:01<00:19, 17.67it/s]\u001b[A\n",
      " 10%|▉         | 36/375 [00:01<00:17, 19.54it/s]\u001b[A\n",
      " 11%|█         | 40/375 [00:02<00:16, 20.72it/s]\u001b[A\n",
      " 12%|█▏        | 44/375 [00:02<00:14, 22.47it/s]\u001b[A\n",
      " 13%|█▎        | 48/375 [00:02<00:14, 23.14it/s]\u001b[A\n",
      " 14%|█▍        | 52/375 [00:02<00:13, 23.28it/s]\u001b[A\n",
      " 15%|█▍        | 56/375 [00:02<00:13, 24.16it/s]\u001b[A\n",
      " 16%|█▌        | 60/375 [00:02<00:12, 24.62it/s]\u001b[A\n",
      " 17%|█▋        | 63/375 [00:03<00:15, 20.75it/s]\u001b[A\n",
      " 18%|█▊        | 66/375 [00:03<00:15, 20.38it/s]\u001b[A\n",
      " 19%|█▊        | 70/375 [00:03<00:13, 21.79it/s]\u001b[A\n",
      " 20%|█▉        | 74/375 [00:03<00:13, 22.84it/s]\u001b[A\n",
      " 21%|██        | 78/375 [00:03<00:13, 22.83it/s]\u001b[A\n",
      " 22%|██▏       | 82/375 [00:03<00:11, 24.43it/s]\u001b[A\n",
      " 23%|██▎       | 86/375 [00:03<00:11, 25.27it/s]\u001b[A\n",
      " 24%|██▍       | 90/375 [00:04<00:10, 26.14it/s]\u001b[A\n",
      " 25%|██▌       | 94/375 [00:04<00:10, 26.04it/s]\u001b[A\n",
      " 26%|██▌       | 98/375 [00:04<00:10, 27.13it/s]\u001b[A\n",
      " 27%|██▋       | 101/375 [00:04<00:09, 27.52it/s]\u001b[A\n",
      " 28%|██▊       | 104/375 [00:04<00:10, 24.83it/s]\u001b[A\n",
      " 29%|██▉       | 108/375 [00:04<00:10, 25.10it/s]\u001b[A\n",
      " 30%|██▉       | 112/375 [00:04<00:10, 24.58it/s]\u001b[A\n",
      " 31%|███       | 116/375 [00:05<00:10, 24.60it/s]\u001b[A\n",
      " 32%|███▏      | 120/375 [00:05<00:09, 25.51it/s]\u001b[A\n",
      " 33%|███▎      | 124/375 [00:05<00:12, 20.79it/s]\u001b[A\n",
      " 34%|███▍      | 128/375 [00:05<00:10, 22.67it/s]\u001b[A\n",
      " 35%|███▍      | 131/375 [00:05<00:10, 23.93it/s]\u001b[A\n",
      " 36%|███▌      | 134/375 [00:05<00:10, 22.89it/s]\u001b[A\n",
      " 37%|███▋      | 138/375 [00:06<00:09, 24.29it/s]\u001b[A\n",
      " 38%|███▊      | 142/375 [00:06<00:08, 26.01it/s]\u001b[A\n",
      " 39%|███▉      | 146/375 [00:06<00:08, 25.89it/s]\u001b[A\n",
      " 40%|████      | 150/375 [00:06<00:08, 25.47it/s]\u001b[A\n",
      " 41%|████      | 154/375 [00:06<00:08, 25.99it/s]\u001b[A\n",
      " 42%|████▏     | 158/375 [00:06<00:07, 27.33it/s]\u001b[A\n",
      " 43%|████▎     | 162/375 [00:06<00:07, 26.76it/s]\u001b[A\n",
      " 44%|████▍     | 166/375 [00:07<00:08, 25.75it/s]\u001b[A\n",
      " 45%|████▌     | 170/375 [00:07<00:07, 26.13it/s]\u001b[A\n",
      " 46%|████▋     | 174/375 [00:07<00:07, 26.05it/s]\u001b[A\n",
      " 47%|████▋     | 178/375 [00:07<00:07, 27.50it/s]\u001b[A\n",
      " 48%|████▊     | 181/375 [00:07<00:06, 28.12it/s]\u001b[A\n",
      " 49%|████▉     | 184/375 [00:07<00:06, 27.94it/s]\u001b[A\n",
      " 50%|████▉     | 187/375 [00:07<00:06, 27.40it/s]\u001b[A\n",
      " 51%|█████     | 190/375 [00:07<00:06, 27.45it/s]\u001b[A\n",
      " 51%|█████▏    | 193/375 [00:08<00:06, 27.87it/s]\u001b[A\n",
      " 53%|█████▎    | 197/375 [00:08<00:06, 27.03it/s]\u001b[A\n",
      " 54%|█████▎    | 201/375 [00:08<00:06, 25.50it/s]\u001b[A\n",
      " 54%|█████▍    | 204/375 [00:08<00:06, 24.99it/s]\u001b[A\n",
      " 55%|█████▌    | 207/375 [00:08<00:06, 24.72it/s]\u001b[A\n",
      " 56%|█████▋    | 211/375 [00:08<00:06, 24.94it/s]\u001b[A\n",
      " 57%|█████▋    | 215/375 [00:08<00:06, 25.63it/s]\u001b[A\n",
      " 58%|█████▊    | 219/375 [00:09<00:06, 25.52it/s]\u001b[A\n",
      " 59%|█████▉    | 223/375 [00:09<00:05, 26.50it/s]\u001b[A\n",
      " 61%|██████    | 227/375 [00:09<00:05, 26.50it/s]\u001b[A\n",
      " 62%|██████▏   | 231/375 [00:09<00:05, 27.11it/s]\u001b[A\n",
      " 63%|██████▎   | 235/375 [00:09<00:05, 27.97it/s]\u001b[A\n",
      " 64%|██████▎   | 239/375 [00:09<00:05, 26.12it/s]\u001b[A\n",
      " 65%|██████▍   | 243/375 [00:09<00:04, 26.44it/s]\u001b[A\n",
      " 66%|██████▌   | 246/375 [00:10<00:04, 27.42it/s]\u001b[A\n",
      " 66%|██████▋   | 249/375 [00:10<00:04, 25.97it/s]\u001b[A\n",
      " 67%|██████▋   | 253/375 [00:10<00:04, 27.04it/s]\u001b[A\n",
      " 68%|██████▊   | 256/375 [00:10<00:04, 26.71it/s]\u001b[A\n",
      " 69%|██████▉   | 259/375 [00:10<00:04, 25.53it/s]\u001b[A\n",
      " 70%|██████▉   | 262/375 [00:10<00:04, 26.39it/s]\u001b[A\n",
      " 71%|███████   | 265/375 [00:10<00:04, 25.36it/s]\u001b[A\n",
      " 72%|███████▏  | 269/375 [00:10<00:04, 26.37it/s]\u001b[A\n",
      " 73%|███████▎  | 273/375 [00:11<00:03, 26.20it/s]\u001b[A\n",
      " 74%|███████▍  | 277/375 [00:11<00:03, 27.61it/s]\u001b[A\n",
      " 75%|███████▍  | 281/375 [00:11<00:03, 26.00it/s]\u001b[A\n",
      " 76%|███████▌  | 285/375 [00:11<00:03, 27.47it/s]\u001b[A\n",
      " 77%|███████▋  | 289/375 [00:11<00:03, 27.03it/s]\u001b[A\n",
      " 78%|███████▊  | 292/375 [00:11<00:03, 26.98it/s]\u001b[A\n",
      " 79%|███████▊  | 295/375 [00:11<00:02, 26.95it/s]\u001b[A\n",
      " 79%|███████▉  | 298/375 [00:12<00:02, 27.63it/s]\u001b[A\n",
      " 80%|████████  | 301/375 [00:12<00:02, 26.67it/s]\u001b[A\n",
      " 81%|████████▏ | 305/375 [00:12<00:02, 26.34it/s]\u001b[A\n",
      " 82%|████████▏ | 309/375 [00:12<00:02, 28.03it/s]\u001b[A\n",
      " 83%|████████▎ | 312/375 [00:12<00:02, 28.26it/s]\u001b[A\n",
      " 84%|████████▍ | 315/375 [00:12<00:02, 24.82it/s]\u001b[A\n",
      " 85%|████████▌ | 319/375 [00:12<00:02, 25.77it/s]\u001b[A\n",
      " 86%|████████▌ | 323/375 [00:12<00:01, 26.90it/s]\u001b[A\n",
      " 87%|████████▋ | 327/375 [00:13<00:01, 26.71it/s]\u001b[A\n",
      " 88%|████████▊ | 331/375 [00:13<00:01, 25.60it/s]\u001b[A\n",
      " 89%|████████▉ | 335/375 [00:13<00:01, 25.67it/s]\u001b[A\n",
      " 90%|█████████ | 339/375 [00:13<00:01, 25.88it/s]\u001b[A\n",
      " 91%|█████████▏| 343/375 [00:13<00:01, 27.03it/s]\u001b[A\n",
      " 93%|█████████▎| 347/375 [00:13<00:01, 26.00it/s]\u001b[A\n",
      " 94%|█████████▎| 351/375 [00:14<00:00, 26.60it/s]\u001b[A\n",
      " 95%|█████████▍| 355/375 [00:14<00:00, 26.63it/s]\u001b[A\n",
      " 95%|█████████▌| 358/375 [00:14<00:00, 27.28it/s]\u001b[A\n",
      " 96%|█████████▋| 361/375 [00:14<00:00, 27.23it/s]\u001b[A\n",
      " 97%|█████████▋| 364/375 [00:14<00:00, 27.15it/s]\u001b[A\n",
      " 98%|█████████▊| 367/375 [00:14<00:00, 27.43it/s]\u001b[A\n",
      " 99%|█████████▊| 370/375 [00:14<00:00, 28.06it/s]\u001b[A\n",
      "100%|██████████| 375/375 [00:14<00:00, 25.15it/s]\u001b[A\n",
      "\n",
      "  0%|          | 0/94 [00:00<?, ?it/s]\u001b[A"
     ]
    },
    {
     "name": "stdout",
     "output_type": "stream",
     "text": [
      "===[EPOCH:   16]===========================\n",
      "train_loss = 0.336972797, train_acc = 0.8996875\n"
     ]
    },
    {
     "name": "stderr",
     "output_type": "stream",
     "text": [
      "\n",
      "  1%|          | 1/94 [00:00<00:45,  2.06it/s]\u001b[A\n",
      "  5%|▌         | 5/94 [00:00<00:31,  2.86it/s]\u001b[A\n",
      "  9%|▊         | 8/94 [00:00<00:22,  3.90it/s]\u001b[A\n",
      " 12%|█▏        | 11/94 [00:00<00:15,  5.27it/s]\u001b[A\n",
      " 15%|█▍        | 14/94 [00:00<00:11,  6.92it/s]\u001b[A\n",
      " 19%|█▉        | 18/94 [00:01<00:08,  8.94it/s]\u001b[A\n",
      " 22%|██▏       | 21/94 [00:01<00:06, 11.29it/s]\u001b[A\n",
      " 26%|██▌       | 24/94 [00:01<00:05, 13.42it/s]\u001b[A\n",
      " 30%|██▉       | 28/94 [00:01<00:04, 16.12it/s]\u001b[A\n",
      " 34%|███▍      | 32/94 [00:01<00:03, 18.40it/s]\u001b[A\n",
      " 37%|███▋      | 35/94 [00:01<00:02, 20.79it/s]\u001b[A\n",
      " 40%|████      | 38/94 [00:01<00:02, 22.55it/s]\u001b[A\n",
      " 45%|████▍     | 42/94 [00:01<00:02, 24.40it/s]\u001b[A\n",
      " 48%|████▊     | 45/94 [00:02<00:01, 25.46it/s]\u001b[A\n",
      " 52%|█████▏    | 49/94 [00:02<00:01, 25.42it/s]\u001b[A\n",
      " 56%|█████▋    | 53/94 [00:02<00:01, 26.51it/s]\u001b[A\n",
      " 61%|██████    | 57/94 [00:02<00:01, 26.32it/s]\u001b[A\n",
      " 65%|██████▍   | 61/94 [00:02<00:01, 27.43it/s]\u001b[A\n",
      " 68%|██████▊   | 64/94 [00:02<00:01, 18.48it/s]\u001b[A\n",
      " 71%|███████▏  | 67/94 [00:03<00:01, 19.44it/s]\u001b[A\n",
      " 76%|███████▌  | 71/94 [00:03<00:01, 21.31it/s]\u001b[A\n",
      " 80%|███████▉  | 75/94 [00:03<00:00, 23.27it/s]\u001b[A\n",
      " 84%|████████▍ | 79/94 [00:03<00:00, 26.15it/s]\u001b[A\n",
      " 88%|████████▊ | 83/94 [00:03<00:00, 26.80it/s]\u001b[A\n",
      " 93%|█████████▎| 87/94 [00:03<00:00, 27.72it/s]\u001b[A\n",
      "100%|██████████| 94/94 [00:03<00:00, 23.81it/s]\u001b[A\n",
      "\n",
      "  0%|          | 0/375 [00:00<?, ?it/s]\u001b[A"
     ]
    },
    {
     "name": "stdout",
     "output_type": "stream",
     "text": [
      "val_loss = 0.353103386, val_acc = 0.8988333\n",
      "============================================\n",
      "INFO: Early stopping counter 2 of 4\n"
     ]
    },
    {
     "name": "stderr",
     "output_type": "stream",
     "text": [
      "\n",
      "  0%|          | 1/375 [00:00<02:04,  3.00it/s]\u001b[A\n",
      "  1%|▏         | 5/375 [00:00<01:29,  4.12it/s]\u001b[A\n",
      "  2%|▏         | 9/375 [00:00<01:05,  5.60it/s]\u001b[A\n",
      "  3%|▎         | 12/375 [00:00<00:49,  7.40it/s]\u001b[A\n",
      "  4%|▍         | 15/375 [00:00<00:39,  9.13it/s]\u001b[A\n",
      "  5%|▌         | 19/375 [00:00<00:30, 11.52it/s]\u001b[A\n",
      "  6%|▌         | 23/375 [00:01<00:24, 14.30it/s]\u001b[A\n",
      "  7%|▋         | 26/375 [00:01<00:25, 13.62it/s]\u001b[A\n",
      "  8%|▊         | 29/375 [00:01<00:21, 16.23it/s]\u001b[A\n",
      "  9%|▊         | 32/375 [00:01<00:18, 18.14it/s]\u001b[A\n",
      "  9%|▉         | 35/375 [00:01<00:17, 19.45it/s]\u001b[A\n",
      " 10%|█         | 39/375 [00:01<00:15, 21.10it/s]\u001b[A\n",
      " 11%|█▏        | 43/375 [00:01<00:14, 23.44it/s]\u001b[A\n",
      " 13%|█▎        | 47/375 [00:02<00:13, 25.17it/s]\u001b[A\n",
      " 14%|█▎        | 51/375 [00:02<00:12, 25.93it/s]\u001b[A\n",
      " 15%|█▍        | 55/375 [00:02<00:11, 27.17it/s]\u001b[A\n",
      " 16%|█▌        | 59/375 [00:02<00:11, 27.79it/s]\u001b[A\n",
      " 17%|█▋        | 63/375 [00:02<00:11, 27.62it/s]\u001b[A\n",
      " 18%|█▊        | 67/375 [00:02<00:10, 29.28it/s]\u001b[A\n",
      " 19%|█▉        | 71/375 [00:02<00:10, 30.01it/s]\u001b[A\n",
      " 20%|██        | 75/375 [00:03<00:10, 28.65it/s]\u001b[A\n",
      " 21%|██        | 78/375 [00:03<00:10, 28.95it/s]\u001b[A\n",
      " 22%|██▏       | 82/375 [00:03<00:10, 28.81it/s]\u001b[A\n",
      " 23%|██▎       | 85/375 [00:03<00:10, 28.90it/s]\u001b[A\n",
      " 23%|██▎       | 88/375 [00:03<00:10, 26.46it/s]\u001b[A\n",
      " 25%|██▍       | 92/375 [00:03<00:10, 27.27it/s]\u001b[A\n",
      " 26%|██▌       | 96/375 [00:03<00:09, 28.87it/s]\u001b[A\n",
      " 27%|██▋       | 100/375 [00:03<00:09, 29.74it/s]\u001b[A\n",
      " 28%|██▊       | 104/375 [00:04<00:09, 28.44it/s]\u001b[A\n",
      " 29%|██▉       | 108/375 [00:04<00:09, 29.34it/s]\u001b[A\n",
      " 30%|██▉       | 112/375 [00:04<00:09, 26.34it/s]\u001b[A\n",
      " 31%|███       | 116/375 [00:04<00:09, 26.48it/s]\u001b[A\n",
      " 32%|███▏      | 120/375 [00:04<00:09, 27.23it/s]\u001b[A\n",
      " 33%|███▎      | 124/375 [00:04<00:09, 27.81it/s]\u001b[A\n",
      " 34%|███▍      | 128/375 [00:04<00:08, 28.51it/s]\u001b[A\n",
      " 35%|███▌      | 132/375 [00:05<00:08, 28.89it/s]\u001b[A\n",
      " 36%|███▋      | 136/375 [00:05<00:08, 29.62it/s]\u001b[A\n",
      " 37%|███▋      | 140/375 [00:05<00:08, 28.21it/s]\u001b[A\n",
      " 38%|███▊      | 144/375 [00:05<00:08, 28.27it/s]\u001b[A\n",
      " 39%|███▉      | 148/375 [00:05<00:08, 28.06it/s]\u001b[A\n",
      " 41%|████      | 152/375 [00:05<00:07, 28.91it/s]\u001b[A\n",
      " 42%|████▏     | 156/375 [00:05<00:07, 28.74it/s]\u001b[A\n",
      " 43%|████▎     | 160/375 [00:06<00:07, 27.83it/s]\u001b[A\n",
      " 44%|████▎     | 164/375 [00:06<00:07, 28.33it/s]\u001b[A\n",
      " 45%|████▍     | 168/375 [00:06<00:07, 27.92it/s]\u001b[A\n",
      " 46%|████▌     | 172/375 [00:06<00:07, 28.48it/s]\u001b[A\n",
      " 47%|████▋     | 176/375 [00:06<00:07, 26.83it/s]\u001b[A\n",
      " 48%|████▊     | 180/375 [00:06<00:07, 27.51it/s]\u001b[A\n",
      " 49%|████▉     | 184/375 [00:06<00:07, 27.15it/s]\u001b[A\n",
      " 50%|█████     | 188/375 [00:07<00:06, 27.77it/s]\u001b[A\n",
      " 51%|█████     | 192/375 [00:07<00:06, 29.02it/s]\u001b[A\n",
      " 52%|█████▏    | 195/375 [00:07<00:06, 25.92it/s]\u001b[A\n",
      " 53%|█████▎    | 198/375 [00:07<00:07, 24.26it/s]\u001b[A\n",
      " 54%|█████▍    | 202/375 [00:07<00:06, 25.04it/s]\u001b[A\n",
      " 55%|█████▍    | 206/375 [00:07<00:06, 25.79it/s]\u001b[A\n",
      " 56%|█████▌    | 210/375 [00:07<00:06, 27.22it/s]\u001b[A\n",
      " 57%|█████▋    | 214/375 [00:08<00:05, 27.03it/s]\u001b[A\n",
      " 58%|█████▊    | 218/375 [00:08<00:05, 27.62it/s]\u001b[A\n",
      " 59%|█████▉    | 222/375 [00:08<00:05, 27.78it/s]\u001b[A\n",
      " 60%|██████    | 226/375 [00:08<00:05, 27.04it/s]\u001b[A\n",
      " 61%|██████▏   | 230/375 [00:08<00:05, 27.59it/s]\u001b[A\n",
      " 62%|██████▏   | 234/375 [00:08<00:05, 28.13it/s]\u001b[A\n",
      " 63%|██████▎   | 238/375 [00:08<00:04, 29.06it/s]\u001b[A\n",
      " 65%|██████▍   | 242/375 [00:09<00:04, 27.62it/s]\u001b[A\n",
      " 66%|██████▌   | 246/375 [00:09<00:04, 28.28it/s]\u001b[A\n",
      " 67%|██████▋   | 250/375 [00:09<00:04, 28.04it/s]\u001b[A\n",
      " 68%|██████▊   | 254/375 [00:09<00:04, 28.15it/s]\u001b[A\n",
      " 69%|██████▉   | 258/375 [00:09<00:03, 29.28it/s]\u001b[A\n",
      " 70%|██████▉   | 262/375 [00:09<00:04, 27.84it/s]\u001b[A\n",
      " 71%|███████   | 266/375 [00:09<00:03, 29.07it/s]\u001b[A\n",
      " 72%|███████▏  | 270/375 [00:10<00:03, 29.08it/s]\u001b[A\n",
      " 73%|███████▎  | 274/375 [00:10<00:03, 29.50it/s]\u001b[A\n",
      " 74%|███████▍  | 278/375 [00:10<00:03, 29.59it/s]\u001b[A\n",
      " 75%|███████▌  | 282/375 [00:10<00:03, 28.69it/s]\u001b[A\n",
      " 76%|███████▋  | 286/375 [00:10<00:03, 28.63it/s]\u001b[A\n",
      " 77%|███████▋  | 289/375 [00:10<00:05, 16.45it/s]\u001b[A\n",
      " 78%|███████▊  | 292/375 [00:11<00:04, 17.84it/s]\u001b[A\n",
      " 79%|███████▉  | 296/375 [00:11<00:03, 20.47it/s]\u001b[A\n",
      " 80%|████████  | 300/375 [00:11<00:03, 22.60it/s]\u001b[A\n",
      " 81%|████████  | 304/375 [00:11<00:02, 24.18it/s]\u001b[A\n",
      " 82%|████████▏ | 308/375 [00:11<00:02, 26.23it/s]\u001b[A\n",
      " 83%|████████▎ | 312/375 [00:11<00:02, 26.59it/s]\u001b[A\n",
      " 84%|████████▍ | 316/375 [00:11<00:02, 27.31it/s]\u001b[A\n",
      " 85%|████████▌ | 320/375 [00:12<00:01, 27.94it/s]\u001b[A\n",
      " 86%|████████▌ | 323/375 [00:12<00:01, 27.28it/s]\u001b[A\n",
      " 87%|████████▋ | 326/375 [00:12<00:01, 26.25it/s]\u001b[A\n",
      " 88%|████████▊ | 330/375 [00:12<00:01, 26.39it/s]\u001b[A\n",
      " 89%|████████▉ | 333/375 [00:12<00:01, 25.57it/s]\u001b[A\n",
      " 90%|████████▉ | 336/375 [00:12<00:01, 25.12it/s]\u001b[A\n",
      " 91%|█████████ | 340/375 [00:12<00:01, 26.00it/s]\u001b[A\n",
      " 92%|█████████▏| 344/375 [00:12<00:01, 25.99it/s]\u001b[A\n",
      " 93%|█████████▎| 348/375 [00:13<00:01, 20.31it/s]\u001b[A\n",
      " 94%|█████████▍| 352/375 [00:13<00:01, 22.50it/s]\u001b[A\n",
      " 95%|█████████▍| 356/375 [00:13<00:00, 24.53it/s]\u001b[A\n",
      " 96%|█████████▌| 360/375 [00:13<00:00, 24.39it/s]\u001b[A\n",
      " 97%|█████████▋| 364/375 [00:13<00:00, 25.65it/s]\u001b[A\n",
      " 98%|█████████▊| 368/375 [00:13<00:00, 25.77it/s]\u001b[A\n",
      "100%|██████████| 375/375 [00:14<00:00, 26.40it/s]\u001b[A\n",
      "\n",
      "  0%|          | 0/94 [00:00<?, ?it/s]\u001b[A"
     ]
    },
    {
     "name": "stdout",
     "output_type": "stream",
     "text": [
      "===[EPOCH:   17]===========================\n",
      "train_loss = 0.338136504, train_acc = 0.9008542\n"
     ]
    },
    {
     "name": "stderr",
     "output_type": "stream",
     "text": [
      "\n",
      "  1%|          | 1/94 [00:00<00:39,  2.34it/s]\u001b[A\n",
      "  5%|▌         | 5/94 [00:00<00:27,  3.23it/s]\u001b[A\n",
      "  9%|▊         | 8/94 [00:00<00:19,  4.40it/s]\u001b[A\n",
      " 12%|█▏        | 11/94 [00:00<00:14,  5.83it/s]\u001b[A\n",
      " 16%|█▌        | 15/94 [00:00<00:10,  7.55it/s]\u001b[A\n",
      " 20%|██        | 19/94 [00:01<00:07,  9.71it/s]\u001b[A\n",
      " 24%|██▍       | 23/94 [00:01<00:05, 12.09it/s]\u001b[A\n",
      " 28%|██▊       | 26/94 [00:01<00:04, 14.58it/s]\u001b[A\n",
      " 32%|███▏      | 30/94 [00:01<00:03, 16.99it/s]\u001b[A\n",
      " 36%|███▌      | 34/94 [00:01<00:03, 18.75it/s]\u001b[A\n",
      " 40%|████      | 38/94 [00:01<00:02, 20.87it/s]\u001b[A\n",
      " 45%|████▍     | 42/94 [00:01<00:02, 21.81it/s]\u001b[A\n",
      " 49%|████▉     | 46/94 [00:02<00:02, 23.71it/s]\u001b[A\n",
      " 53%|█████▎    | 50/94 [00:02<00:01, 23.73it/s]\u001b[A\n",
      " 57%|█████▋    | 54/94 [00:02<00:01, 25.90it/s]\u001b[A\n",
      " 62%|██████▏   | 58/94 [00:02<00:01, 26.66it/s]\u001b[A\n",
      " 66%|██████▌   | 62/94 [00:02<00:01, 27.19it/s]\u001b[A\n",
      " 69%|██████▉   | 65/94 [00:02<00:01, 27.54it/s]\u001b[A\n",
      " 72%|███████▏  | 68/94 [00:02<00:00, 27.40it/s]\u001b[A\n",
      " 76%|███████▌  | 71/94 [00:02<00:00, 27.57it/s]\u001b[A\n",
      " 79%|███████▊  | 74/94 [00:03<00:00, 25.91it/s]\u001b[A\n",
      " 83%|████████▎ | 78/94 [00:03<00:00, 27.13it/s]\u001b[A\n",
      " 86%|████████▌ | 81/94 [00:03<00:00, 27.13it/s]\u001b[A\n",
      " 90%|█████████ | 85/94 [00:03<00:00, 26.02it/s]\u001b[A\n",
      " 95%|█████████▍| 89/94 [00:03<00:00, 26.74it/s]\u001b[A\n",
      "100%|██████████| 94/94 [00:03<00:00, 23.81it/s]\u001b[A\n",
      "\n",
      "  0%|          | 0/375 [00:00<?, ?it/s]\u001b[A"
     ]
    },
    {
     "name": "stdout",
     "output_type": "stream",
     "text": [
      "val_loss = 0.336646643, val_acc = 0.9014167\n",
      "============================================\n",
      "INFO: Early stopping counter 3 of 4\n"
     ]
    },
    {
     "name": "stderr",
     "output_type": "stream",
     "text": [
      "\n",
      "  0%|          | 1/375 [00:00<02:33,  2.43it/s]\u001b[A\n",
      "  1%|▏         | 5/375 [00:00<01:50,  3.36it/s]\u001b[A\n",
      "  2%|▏         | 9/375 [00:00<01:20,  4.56it/s]\u001b[A\n",
      "  3%|▎         | 12/375 [00:00<00:59,  6.08it/s]\u001b[A\n",
      "  4%|▍         | 16/375 [00:00<00:44,  8.00it/s]\u001b[A\n",
      "  5%|▌         | 20/375 [00:01<00:34, 10.21it/s]\u001b[A\n",
      "  6%|▋         | 24/375 [00:01<00:27, 12.70it/s]\u001b[A\n",
      "  7%|▋         | 28/375 [00:01<00:22, 15.33it/s]\u001b[A\n",
      "  9%|▊         | 32/375 [00:01<00:19, 17.77it/s]\u001b[A\n",
      " 10%|▉         | 36/375 [00:01<00:16, 20.58it/s]\u001b[A\n",
      " 11%|█         | 40/375 [00:01<00:14, 23.11it/s]\u001b[A\n",
      " 12%|█▏        | 44/375 [00:01<00:13, 24.75it/s]\u001b[A\n",
      " 13%|█▎        | 48/375 [00:01<00:12, 26.05it/s]\u001b[A\n",
      " 14%|█▍        | 52/375 [00:02<00:11, 27.33it/s]\u001b[A\n",
      " 15%|█▍        | 56/375 [00:02<00:11, 27.63it/s]\u001b[A\n",
      " 16%|█▌        | 59/375 [00:02<00:11, 28.17it/s]\u001b[A\n",
      " 17%|█▋        | 62/375 [00:02<00:11, 27.76it/s]\u001b[A\n",
      " 17%|█▋        | 65/375 [00:02<00:11, 27.06it/s]\u001b[A\n",
      " 18%|█▊        | 69/375 [00:02<00:11, 27.81it/s]\u001b[A\n",
      " 19%|█▉        | 73/375 [00:02<00:10, 27.80it/s]\u001b[A\n",
      " 20%|██        | 76/375 [00:02<00:10, 27.58it/s]\u001b[A\n",
      " 21%|██        | 79/375 [00:03<00:10, 27.78it/s]\u001b[A\n",
      " 22%|██▏       | 83/375 [00:03<00:10, 28.79it/s]\u001b[A\n",
      " 23%|██▎       | 86/375 [00:03<00:09, 28.97it/s]\u001b[A\n",
      " 24%|██▎       | 89/375 [00:03<00:10, 27.74it/s]\u001b[A\n",
      " 25%|██▍       | 93/375 [00:03<00:10, 27.59it/s]\u001b[A\n",
      " 26%|██▌       | 96/375 [00:03<00:09, 28.24it/s]\u001b[A\n",
      " 26%|██▋       | 99/375 [00:03<00:09, 28.25it/s]\u001b[A\n",
      " 27%|██▋       | 102/375 [00:03<00:10, 27.22it/s]\u001b[A\n",
      " 28%|██▊       | 105/375 [00:04<00:09, 27.91it/s]\u001b[A\n",
      " 29%|██▉       | 108/375 [00:04<00:09, 27.18it/s]\u001b[A\n",
      " 30%|██▉       | 112/375 [00:04<00:10, 26.09it/s]\u001b[A\n",
      " 31%|███       | 116/375 [00:04<00:09, 26.99it/s]\u001b[A\n",
      " 32%|███▏      | 120/375 [00:04<00:09, 26.77it/s]\u001b[A\n",
      " 33%|███▎      | 124/375 [00:04<00:10, 24.16it/s]\u001b[A\n",
      " 34%|███▍      | 128/375 [00:04<00:09, 25.87it/s]\u001b[A\n",
      " 35%|███▍      | 131/375 [00:05<00:09, 26.09it/s]\u001b[A\n",
      " 36%|███▌      | 134/375 [00:05<00:09, 25.02it/s]\u001b[A\n",
      " 37%|███▋      | 137/375 [00:05<00:09, 24.72it/s]\u001b[A\n",
      " 37%|███▋      | 140/375 [00:05<00:09, 25.77it/s]\u001b[A\n",
      " 38%|███▊      | 143/375 [00:05<00:08, 26.13it/s]\u001b[A\n",
      " 39%|███▉      | 146/375 [00:05<00:08, 27.11it/s]\u001b[A\n",
      " 40%|███▉      | 149/375 [00:05<00:09, 24.91it/s]\u001b[A\n",
      " 41%|████      | 153/375 [00:05<00:08, 25.42it/s]\u001b[A\n",
      " 42%|████▏     | 157/375 [00:06<00:08, 26.91it/s]\u001b[A\n",
      " 43%|████▎     | 160/375 [00:06<00:07, 27.15it/s]\u001b[A\n",
      " 43%|████▎     | 163/375 [00:06<00:07, 27.78it/s]\u001b[A\n",
      " 45%|████▍     | 167/375 [00:06<00:07, 26.93it/s]\u001b[A\n",
      " 46%|████▌     | 171/375 [00:06<00:07, 28.46it/s]\u001b[A\n",
      " 47%|████▋     | 175/375 [00:06<00:06, 29.48it/s]\u001b[A\n",
      " 48%|████▊     | 179/375 [00:06<00:06, 28.54it/s]\u001b[A\n",
      " 49%|████▊     | 182/375 [00:06<00:06, 28.78it/s]\u001b[A\n",
      " 50%|████▉     | 186/375 [00:07<00:06, 28.95it/s]\u001b[A\n",
      " 51%|█████     | 190/375 [00:07<00:06, 27.39it/s]\u001b[A\n",
      " 51%|█████▏    | 193/375 [00:07<00:06, 26.78it/s]\u001b[A\n",
      " 52%|█████▏    | 196/375 [00:07<00:07, 24.35it/s]\u001b[A\n",
      " 53%|█████▎    | 200/375 [00:07<00:06, 25.60it/s]\u001b[A\n",
      " 54%|█████▍    | 204/375 [00:07<00:06, 26.71it/s]\u001b[A\n",
      " 55%|█████▌    | 208/375 [00:07<00:06, 25.26it/s]\u001b[A\n",
      " 56%|█████▋    | 211/375 [00:08<00:06, 26.22it/s]\u001b[A\n",
      " 57%|█████▋    | 214/375 [00:08<00:06, 24.35it/s]\u001b[A\n",
      " 58%|█████▊    | 218/375 [00:08<00:06, 25.18it/s]\u001b[A\n",
      " 59%|█████▉    | 222/375 [00:08<00:05, 25.92it/s]\u001b[A\n",
      " 60%|██████    | 226/375 [00:08<00:05, 26.87it/s]\u001b[A\n",
      " 61%|██████▏   | 230/375 [00:08<00:05, 28.49it/s]\u001b[A\n",
      " 62%|██████▏   | 234/375 [00:08<00:05, 27.59it/s]\u001b[A\n",
      " 63%|██████▎   | 238/375 [00:09<00:05, 27.33it/s]\u001b[A\n",
      " 65%|██████▍   | 242/375 [00:09<00:05, 26.25it/s]\u001b[A\n",
      " 66%|██████▌   | 246/375 [00:09<00:04, 27.49it/s]\u001b[A\n",
      " 67%|██████▋   | 250/375 [00:09<00:04, 27.09it/s]\u001b[A\n",
      " 68%|██████▊   | 254/375 [00:09<00:04, 27.35it/s]\u001b[A\n",
      " 69%|██████▉   | 258/375 [00:09<00:04, 27.72it/s]\u001b[A\n",
      " 70%|██████▉   | 262/375 [00:09<00:04, 27.20it/s]\u001b[A\n",
      " 71%|███████   | 266/375 [00:10<00:04, 26.21it/s]\u001b[A\n",
      " 72%|███████▏  | 270/375 [00:10<00:03, 26.64it/s]\u001b[A\n",
      " 73%|███████▎  | 274/375 [00:10<00:03, 25.98it/s]\u001b[A\n",
      " 74%|███████▍  | 278/375 [00:10<00:04, 23.97it/s]\u001b[A\n",
      " 75%|███████▌  | 282/375 [00:10<00:03, 25.09it/s]\u001b[A\n",
      " 76%|███████▋  | 286/375 [00:10<00:03, 25.55it/s]\u001b[A\n",
      " 77%|███████▋  | 290/375 [00:11<00:03, 26.15it/s]\u001b[A\n",
      " 78%|███████▊  | 294/375 [00:11<00:02, 27.43it/s]\u001b[A\n",
      " 79%|███████▉  | 298/375 [00:11<00:02, 26.43it/s]\u001b[A\n",
      " 81%|████████  | 302/375 [00:11<00:02, 27.61it/s]\u001b[A\n",
      " 82%|████████▏ | 306/375 [00:11<00:02, 27.72it/s]\u001b[A\n",
      " 83%|████████▎ | 310/375 [00:11<00:02, 28.49it/s]\u001b[A\n",
      " 84%|████████▎ | 314/375 [00:11<00:02, 29.73it/s]\u001b[A\n",
      " 85%|████████▍ | 318/375 [00:11<00:01, 29.22it/s]\u001b[A\n",
      " 86%|████████▌ | 322/375 [00:12<00:01, 29.15it/s]\u001b[A\n",
      " 87%|████████▋ | 326/375 [00:12<00:01, 29.74it/s]\u001b[A\n",
      " 88%|████████▊ | 330/375 [00:12<00:01, 28.77it/s]\u001b[A\n",
      " 89%|████████▉ | 334/375 [00:12<00:01, 27.87it/s]\u001b[A\n",
      " 90%|████████▉ | 337/375 [00:13<00:03, 12.39it/s]\u001b[A\n",
      " 91%|█████████ | 340/375 [00:13<00:02, 14.54it/s]\u001b[A\n",
      " 92%|█████████▏| 344/375 [00:13<00:01, 16.49it/s]\u001b[A\n",
      " 93%|█████████▎| 348/375 [00:13<00:01, 17.69it/s]\u001b[A\n",
      " 94%|█████████▎| 351/375 [00:13<00:01, 19.87it/s]\u001b[A\n",
      " 94%|█████████▍| 354/375 [00:13<00:01, 18.63it/s]\u001b[A\n",
      " 95%|█████████▌| 358/375 [00:14<00:00, 20.75it/s]\u001b[A\n",
      " 97%|█████████▋| 362/375 [00:14<00:00, 21.90it/s]\u001b[A\n",
      " 98%|█████████▊| 366/375 [00:14<00:00, 23.68it/s]\u001b[A\n",
      " 99%|█████████▊| 370/375 [00:14<00:00, 25.14it/s]\u001b[A\n",
      "100%|██████████| 375/375 [00:14<00:00, 25.64it/s]\u001b[A\n",
      "\n",
      "  0%|          | 0/94 [00:00<?, ?it/s]\u001b[A"
     ]
    },
    {
     "name": "stdout",
     "output_type": "stream",
     "text": [
      "===[EPOCH:   18]===========================\n",
      "train_loss = 0.328473343, train_acc = 0.9014167\n"
     ]
    },
    {
     "name": "stderr",
     "output_type": "stream",
     "text": [
      "\n",
      "  1%|          | 1/94 [00:00<00:28,  3.29it/s]\u001b[A\n",
      "  4%|▍         | 4/94 [00:00<00:20,  4.42it/s]\u001b[A\n",
      "  7%|▋         | 7/94 [00:00<00:14,  5.91it/s]\u001b[A\n",
      " 11%|█         | 10/94 [00:00<00:10,  7.71it/s]\u001b[A\n",
      " 14%|█▍        | 13/94 [00:00<00:08,  9.71it/s]\u001b[A\n",
      " 17%|█▋        | 16/94 [00:00<00:06, 12.02it/s]\u001b[A\n",
      " 20%|██        | 19/94 [00:00<00:05, 14.64it/s]\u001b[A\n",
      " 23%|██▎       | 22/94 [00:01<00:05, 12.90it/s]\u001b[A\n",
      " 28%|██▊       | 26/94 [00:01<00:04, 15.02it/s]\u001b[A\n",
      " 32%|███▏      | 30/94 [00:01<00:03, 17.37it/s]\u001b[A\n",
      " 36%|███▌      | 34/94 [00:01<00:03, 19.06it/s]\u001b[A\n",
      " 40%|████      | 38/94 [00:01<00:02, 20.95it/s]\u001b[A\n",
      " 45%|████▍     | 42/94 [00:02<00:02, 21.89it/s]\u001b[A\n",
      " 49%|████▉     | 46/94 [00:02<00:01, 24.02it/s]\u001b[A\n",
      " 53%|█████▎    | 50/94 [00:02<00:01, 24.75it/s]\u001b[A\n",
      " 57%|█████▋    | 54/94 [00:02<00:01, 26.01it/s]\u001b[A\n",
      " 62%|██████▏   | 58/94 [00:02<00:01, 26.46it/s]\u001b[A\n",
      " 66%|██████▌   | 62/94 [00:02<00:01, 27.30it/s]\u001b[A\n",
      " 70%|███████   | 66/94 [00:02<00:01, 27.51it/s]\u001b[A\n",
      " 74%|███████▍  | 70/94 [00:03<00:00, 27.50it/s]\u001b[A\n",
      " 79%|███████▊  | 74/94 [00:03<00:00, 28.40it/s]\u001b[A\n",
      " 82%|████████▏ | 77/94 [00:03<00:00, 28.05it/s]\u001b[A\n",
      " 85%|████████▌ | 80/94 [00:03<00:00, 28.46it/s]\u001b[A\n",
      " 88%|████████▊ | 83/94 [00:03<00:00, 25.41it/s]\u001b[A\n",
      " 93%|█████████▎| 87/94 [00:03<00:00, 25.64it/s]\u001b[A\n",
      "100%|██████████| 94/94 [00:03<00:00, 23.88it/s]\u001b[A"
     ]
    },
    {
     "name": "stdout",
     "output_type": "stream",
     "text": [
      "val_loss = 0.348087756, val_acc = 0.9015833\n",
      "============================================\n",
      "INFO: Early stopping counter 4 of 4\n",
      "INFO: Early stopping\n"
     ]
    },
    {
     "name": "stderr",
     "output_type": "stream",
     "text": [
      "\n"
     ]
    }
   ],
   "source": [
    "## YOUR CODE HERE ##\n",
    "hist_improve = fit_model(model_config, eval=True)"
   ]
  },
  {
   "cell_type": "code",
   "execution_count": 86,
   "metadata": {},
   "outputs": [
    {
     "data": {
      "image/png": "[encoded data removed]",
      "text/plain": [
       "<Figure size 1008x360 with 2 Axes>"
      ]
     },
     "metadata": {
      "needs_background": "light"
     },
     "output_type": "display_data"
    },
    {
     "name": "stderr",
     "output_type": "stream",
     "text": [
      "\n",
      "  0%|          | 0/94 [00:00<?, ?it/s]\u001b[A\n",
      "  1%|          | 1/94 [00:00<00:27,  3.42it/s]\u001b[A\n",
      "  5%|▌         | 5/94 [00:00<00:19,  4.64it/s]\u001b[A\n",
      " 10%|▉         | 9/94 [00:00<00:13,  6.23it/s]\u001b[A\n",
      " 14%|█▍        | 13/94 [00:00<00:10,  8.00it/s]\u001b[A\n",
      " 18%|█▊        | 17/94 [00:00<00:07, 10.28it/s]\u001b[A\n",
      " 22%|██▏       | 21/94 [00:01<00:05, 12.53it/s]\u001b[A\n",
      " 26%|██▌       | 24/94 [00:01<00:04, 14.69it/s]\u001b[A\n",
      " 29%|██▊       | 27/94 [00:01<00:04, 15.33it/s]\u001b[A\n",
      " 33%|███▎      | 31/94 [00:01<00:03, 18.28it/s]\u001b[A\n",
      " 37%|███▋      | 35/94 [00:01<00:02, 20.17it/s]\u001b[A\n",
      " 41%|████▏     | 39/94 [00:01<00:02, 22.55it/s]\u001b[A\n",
      " 46%|████▌     | 43/94 [00:01<00:02, 24.77it/s]\u001b[A\n",
      " 50%|█████     | 47/94 [00:02<00:01, 24.98it/s]\u001b[A\n",
      " 54%|█████▍    | 51/94 [00:02<00:01, 26.15it/s]\u001b[A\n",
      " 59%|█████▊    | 55/94 [00:02<00:01, 26.25it/s]\u001b[A\n",
      " 63%|██████▎   | 59/94 [00:02<00:01, 26.89it/s]\u001b[A\n",
      " 67%|██████▋   | 63/94 [00:02<00:01, 27.99it/s]\u001b[A\n",
      " 71%|███████▏  | 67/94 [00:02<00:00, 27.79it/s]\u001b[A\n",
      " 76%|███████▌  | 71/94 [00:02<00:00, 28.19it/s]\u001b[A\n",
      " 80%|███████▉  | 75/94 [00:02<00:00, 29.04it/s]\u001b[A\n",
      " 83%|████████▎ | 78/94 [00:03<00:00, 27.69it/s]\u001b[A\n",
      " 87%|████████▋ | 82/94 [00:03<00:00, 26.67it/s]\u001b[A\n",
      " 91%|█████████▏| 86/94 [00:03<00:00, 25.16it/s]\u001b[A\n",
      " 96%|█████████▌| 90/94 [00:03<00:00, 26.67it/s]\u001b[A\n",
      "100%|██████████| 94/94 [00:03<00:00, 25.44it/s]\u001b[A"
     ]
    },
    {
     "name": "stdout",
     "output_type": "stream",
     "text": [
      "Test Accuracy = 89.97%\n"
     ]
    },
    {
     "name": "stderr",
     "output_type": "stream",
     "text": [
      "\n"
     ]
    }
   ],
   "source": [
    "training_plot(hist_improve, accuracy=True)\n",
    "\n",
    "model_final = hist_improve['model'][0]\n",
    "\n",
    "with torch.no_grad():\n",
    "    model_final.eval()\n",
    "    acc, _, _ = model_iter(model=model_final, dataloader=validloader, mode='valid', config=model_config)\n",
    "    print('Test Accuracy = {:.2f}%'.format(acc*100))"
   ]
  },
  {
   "cell_type": "markdown",
   "metadata": {},
   "source": [
    "## Saving your model\n",
    "Using `torch.save`, save your model for future loading."
   ]
  },
  {
   "cell_type": "code",
   "execution_count": 85,
   "metadata": {},
   "outputs": [],
   "source": [
    "## YOUR CODE HERE ##\n",
    "model_final = hist_improve['model'][0]\n",
    "torch.save(model_final.state_dict(), 'model.pt')"
   ]
  },
  {
   "cell_type": "code",
   "execution_count": null,
   "metadata": {},
   "outputs": [],
   "source": []
  }
 ],
 "metadata": {
  "kernelspec": {
   "display_name": "Python 3",
   "language": "python",
   "name": "python3"
  },
  "language_info": {
   "codemirror_mode": {
    "name": "ipython",
    "version": 3
   },
   "file_extension": ".py",
   "mimetype": "text/x-python",
   "name": "python",
   "nbconvert_exporter": "python",
   "pygments_lexer": "ipython3",
   "version": "3.7.6"
  }
 },
 "nbformat": 4,
 "nbformat_minor": 4
}
